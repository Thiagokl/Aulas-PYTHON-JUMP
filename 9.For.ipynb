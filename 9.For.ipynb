{
 "cells": [
  {
   "cell_type": "markdown",
   "id": "5579bf69-6f87-4a30-867c-17e884419f8f",
   "metadata": {},
   "source": [
    "# Loop for\n",
    "- Percorre uma sequência."
   ]
  },
  {
   "cell_type": "markdown",
   "id": "47bbf0b8-2375-47cc-8ffd-9aa543b11569",
   "metadata": {},
   "source": [
    "#### Estrutura do for \n",
    "\n",
    "```python\n",
    "for <variavel> in <interável>:\n",
    "    <instruções> "
   ]
  },
  {
   "cell_type": "markdown",
   "id": "9acae69b-9bdf-4076-841a-45944076dd97",
   "metadata": {},
   "source": [
    "- Exemplo usando lista"
   ]
  },
  {
   "cell_type": "code",
   "execution_count": 1,
   "id": "a22f6715-3995-4e98-a0fd-a8b5f4bb1e91",
   "metadata": {},
   "outputs": [],
   "source": [
    "lista_num = [1, 2, 3, 4]"
   ]
  },
  {
   "cell_type": "code",
   "execution_count": 2,
   "id": "0d543612-472c-4950-a638-cc86f24b285c",
   "metadata": {},
   "outputs": [
    {
     "name": "stdout",
     "output_type": "stream",
     "text": [
      "1\n",
      "2\n",
      "3\n",
      "4\n"
     ]
    }
   ],
   "source": [
    "for numero in lista_num:\n",
    "    print(numero)"
   ]
  },
  {
   "cell_type": "code",
   "execution_count": 3,
   "id": "bfa1ef11-de03-4470-8231-7a637b77d7b6",
   "metadata": {},
   "outputs": [
    {
     "name": "stdout",
     "output_type": "stream",
     "text": [
      "1\n",
      "loop\n",
      "2\n",
      "loop\n",
      "3\n",
      "loop\n",
      "4\n",
      "loop\n"
     ]
    }
   ],
   "source": [
    "for numero in lista_num:\n",
    "    print(numero)\n",
    "    print('loop')"
   ]
  },
  {
   "cell_type": "markdown",
   "id": "2ac5df46-c327-4bbf-b51f-b1b3a009cfca",
   "metadata": {},
   "source": [
    "- Exemplo usando tupla "
   ]
  },
  {
   "cell_type": "code",
   "execution_count": 4,
   "id": "099b6bb2-eb73-4a2d-be4c-ea1f0f0a03ea",
   "metadata": {},
   "outputs": [
    {
     "name": "stdout",
     "output_type": "stream",
     "text": [
      "um\n",
      "dois\n",
      "três\n"
     ]
    }
   ],
   "source": [
    "tupla = ('um', 'dois', 'três')\n",
    "\n",
    "for t in tupla:\n",
    "    print(t)"
   ]
  },
  {
   "cell_type": "markdown",
   "id": "309523be-44b4-4f35-8c0f-d3eda94c8739",
   "metadata": {},
   "source": [
    "- Exemplo usando dicionário"
   ]
  },
  {
   "cell_type": "code",
   "execution_count": 5,
   "id": "0eb0352f-76e1-46ca-9945-bfe51de07b30",
   "metadata": {},
   "outputs": [],
   "source": [
    "dicionario = {'um': 1, 'dois': 2, 'três': 3}"
   ]
  },
  {
   "cell_type": "code",
   "execution_count": 6,
   "id": "1f7c7982-ae1f-43cc-a2b3-efef4b6fd84b",
   "metadata": {},
   "outputs": [
    {
     "name": "stdout",
     "output_type": "stream",
     "text": [
      "um\n",
      "dois\n",
      "três\n"
     ]
    }
   ],
   "source": [
    "for item in dicionario:\n",
    "    print(item)"
   ]
  },
  {
   "cell_type": "code",
   "execution_count": 7,
   "id": "8f9d244f-90bc-4a9c-a001-6d1cb654f35a",
   "metadata": {},
   "outputs": [
    {
     "name": "stdout",
     "output_type": "stream",
     "text": [
      "1\n",
      "2\n",
      "3\n"
     ]
    }
   ],
   "source": [
    "for item in dicionario.values():\n",
    "    print(item)"
   ]
  },
  {
   "cell_type": "code",
   "execution_count": 8,
   "id": "72a3fad9-9fd0-4063-99e1-6b0e244aaa1f",
   "metadata": {},
   "outputs": [
    {
     "name": "stdout",
     "output_type": "stream",
     "text": [
      "um\n",
      "dois\n",
      "três\n"
     ]
    }
   ],
   "source": [
    "for item in dicionario.keys():\n",
    "    print(item)"
   ]
  },
  {
   "cell_type": "code",
   "execution_count": 9,
   "id": "881d4b6c-2fa3-48b9-a185-2e4e73214b35",
   "metadata": {},
   "outputs": [
    {
     "name": "stdout",
     "output_type": "stream",
     "text": [
      "('um', 1)\n",
      "('dois', 2)\n",
      "('três', 3)\n"
     ]
    }
   ],
   "source": [
    "for item in dicionario.items():\n",
    "    print(item)"
   ]
  },
  {
   "cell_type": "code",
   "execution_count": 10,
   "id": "82f99188-140d-4254-8ac0-8a11679fe8e2",
   "metadata": {},
   "outputs": [
    {
     "name": "stdout",
     "output_type": "stream",
     "text": [
      "um\n",
      "1\n",
      "dois\n",
      "2\n",
      "três\n",
      "3\n"
     ]
    }
   ],
   "source": [
    "for chave, valor in dicionario.items():\n",
    "    print(chave)\n",
    "    print(valor)"
   ]
  },
  {
   "cell_type": "markdown",
   "id": "87ee6ff9-6125-4a78-b425-c7cfc5f6199e",
   "metadata": {},
   "source": [
    "- Exemplo usando conjunto "
   ]
  },
  {
   "cell_type": "code",
   "execution_count": 13,
   "id": "ffe3c244-a8b2-43b1-b5ef-c7eff09f0098",
   "metadata": {},
   "outputs": [
    {
     "name": "stdout",
     "output_type": "stream",
     "text": [
      "1\n",
      "2\n",
      "3\n",
      "4\n"
     ]
    }
   ],
   "source": [
    "conjunto = {1,2,3,4}\n",
    "\n",
    "for lucas in conjunto:\n",
    "    print(lucas)"
   ]
  },
  {
   "cell_type": "markdown",
   "id": "57c5596d-45dd-4345-8dc9-f67ef6afafad",
   "metadata": {},
   "source": [
    "### range"
   ]
  },
  {
   "cell_type": "code",
   "execution_count": 12,
   "id": "ac173087-6737-4165-9da4-382194626266",
   "metadata": {},
   "outputs": [
    {
     "name": "stdout",
     "output_type": "stream",
     "text": [
      "Help on class range in module builtins:\n",
      "\n",
      "class range(object)\n",
      " |  range(stop) -> range object\n",
      " |  range(start, stop[, step]) -> range object\n",
      " |  \n",
      " |  Return an object that produces a sequence of integers from start (inclusive)\n",
      " |  to stop (exclusive) by step.  range(i, j) produces i, i+1, i+2, ..., j-1.\n",
      " |  start defaults to 0, and stop is omitted!  range(4) produces 0, 1, 2, 3.\n",
      " |  These are exactly the valid indices for a list of 4 elements.\n",
      " |  When step is given, it specifies the increment (or decrement).\n",
      " |  \n",
      " |  Methods defined here:\n",
      " |  \n",
      " |  __bool__(self, /)\n",
      " |      True if self else False\n",
      " |  \n",
      " |  __contains__(self, key, /)\n",
      " |      Return key in self.\n",
      " |  \n",
      " |  __eq__(self, value, /)\n",
      " |      Return self==value.\n",
      " |  \n",
      " |  __ge__(self, value, /)\n",
      " |      Return self>=value.\n",
      " |  \n",
      " |  __getattribute__(self, name, /)\n",
      " |      Return getattr(self, name).\n",
      " |  \n",
      " |  __getitem__(self, key, /)\n",
      " |      Return self[key].\n",
      " |  \n",
      " |  __gt__(self, value, /)\n",
      " |      Return self>value.\n",
      " |  \n",
      " |  __hash__(self, /)\n",
      " |      Return hash(self).\n",
      " |  \n",
      " |  __iter__(self, /)\n",
      " |      Implement iter(self).\n",
      " |  \n",
      " |  __le__(self, value, /)\n",
      " |      Return self<=value.\n",
      " |  \n",
      " |  __len__(self, /)\n",
      " |      Return len(self).\n",
      " |  \n",
      " |  __lt__(self, value, /)\n",
      " |      Return self<value.\n",
      " |  \n",
      " |  __ne__(self, value, /)\n",
      " |      Return self!=value.\n",
      " |  \n",
      " |  __reduce__(...)\n",
      " |      Helper for pickle.\n",
      " |  \n",
      " |  __repr__(self, /)\n",
      " |      Return repr(self).\n",
      " |  \n",
      " |  __reversed__(...)\n",
      " |      Return a reverse iterator.\n",
      " |  \n",
      " |  count(...)\n",
      " |      rangeobject.count(value) -> integer -- return number of occurrences of value\n",
      " |  \n",
      " |  index(...)\n",
      " |      rangeobject.index(value) -> integer -- return index of value.\n",
      " |      Raise ValueError if the value is not present.\n",
      " |  \n",
      " |  ----------------------------------------------------------------------\n",
      " |  Static methods defined here:\n",
      " |  \n",
      " |  __new__(*args, **kwargs) from builtins.type\n",
      " |      Create and return a new object.  See help(type) for accurate signature.\n",
      " |  \n",
      " |  ----------------------------------------------------------------------\n",
      " |  Data descriptors defined here:\n",
      " |  \n",
      " |  start\n",
      " |  \n",
      " |  step\n",
      " |  \n",
      " |  stop\n",
      "\n"
     ]
    }
   ],
   "source": [
    "help(range)"
   ]
  },
  {
   "cell_type": "code",
   "execution_count": 18,
   "id": "1b27118c-8e3d-493a-84c8-cc406dcbefc5",
   "metadata": {},
   "outputs": [
    {
     "name": "stdout",
     "output_type": "stream",
     "text": [
      "2\n",
      "3\n",
      "4\n",
      "5\n",
      "6\n"
     ]
    }
   ],
   "source": [
    "for x in range(2, 7):\n",
    "    print(x)"
   ]
  },
  {
   "cell_type": "code",
   "execution_count": 16,
   "id": "818b6e91-29ea-4ab1-9242-a3a03055392a",
   "metadata": {},
   "outputs": [
    {
     "name": "stdout",
     "output_type": "stream",
     "text": [
      "0\n",
      "2\n",
      "4\n",
      "6\n",
      "8\n"
     ]
    }
   ],
   "source": [
    "for x in range(0, 10, 2):\n",
    "    print(x)"
   ]
  },
  {
   "cell_type": "code",
   "execution_count": 17,
   "id": "0039c630-24f2-414a-9ac7-af5bdcf9c389",
   "metadata": {},
   "outputs": [
    {
     "name": "stdout",
     "output_type": "stream",
     "text": [
      "0\n",
      "1\n",
      "2\n",
      "3\n",
      "4\n"
     ]
    }
   ],
   "source": [
    "for i in range(5):     \n",
    "    print(i)"
   ]
  },
  {
   "cell_type": "code",
   "execution_count": 20,
   "id": "13353f9e-bc50-4a5a-9ee6-fdd336dce934",
   "metadata": {},
   "outputs": [
    {
     "data": {
      "text/plain": [
       "3"
      ]
     },
     "execution_count": 20,
     "metadata": {},
     "output_type": "execute_result"
    }
   ],
   "source": [
    "tupla = ('um', 'dois', 'três')\n",
    "len(tupla)"
   ]
  },
  {
   "cell_type": "code",
   "execution_count": 23,
   "id": "33f0e95b-852a-4437-8dbe-50802eaa33ed",
   "metadata": {},
   "outputs": [
    {
     "name": "stdout",
     "output_type": "stream",
     "text": [
      "Elemento: 0\n",
      "Valor na tupla: um\n",
      "Elemento: 1\n",
      "Valor na tupla: dois\n",
      "Elemento: 2\n",
      "Valor na tupla: três\n"
     ]
    }
   ],
   "source": [
    "for elemento in range(len(tupla)):\n",
    "    print(f'Elemento: {elemento}')\n",
    "    print(f'Valor na tupla: {tupla[elemento]}')"
   ]
  },
  {
   "cell_type": "markdown",
   "id": "52da17a6-173e-4b82-aaae-219caf993a61",
   "metadata": {},
   "source": [
    "- Criando uma lista usando range "
   ]
  },
  {
   "cell_type": "code",
   "execution_count": 28,
   "id": "609b8bd8-f634-4e93-b3dc-2e02357814cb",
   "metadata": {},
   "outputs": [],
   "source": [
    "lista = list(range(1, 10+1))"
   ]
  },
  {
   "cell_type": "code",
   "execution_count": 29,
   "id": "bc76e0ec-6204-40d8-b44b-1062107cc3a7",
   "metadata": {},
   "outputs": [
    {
     "data": {
      "text/plain": [
       "[1, 2, 3, 4, 5, 6, 7, 8, 9]"
      ]
     },
     "execution_count": 29,
     "metadata": {},
     "output_type": "execute_result"
    }
   ],
   "source": [
    "lista"
   ]
  },
  {
   "cell_type": "code",
   "execution_count": 30,
   "id": "569a3c14-bbd8-4f92-b097-42a2278a3eb1",
   "metadata": {},
   "outputs": [
    {
     "data": {
      "text/plain": [
       "[5, 6, 7, 8, 9, 10]"
      ]
     },
     "execution_count": 30,
     "metadata": {},
     "output_type": "execute_result"
    }
   ],
   "source": [
    "list(range(5, 10+1))"
   ]
  },
  {
   "cell_type": "code",
   "execution_count": 34,
   "id": "9e085869-2bed-41fe-a037-2c5fe6d27b11",
   "metadata": {},
   "outputs": [
    {
     "name": "stdout",
     "output_type": "stream",
     "text": [
      "0 + 1 = 1\n",
      "1 + 1 = 2\n",
      "2 + 1 = 3\n",
      "3 + 1 = 4\n",
      "4 + 1 = 5\n",
      "5 + 1 = 6\n",
      "6 + 1 = 7\n",
      "7 + 1 = 8\n",
      "8 + 1 = 9\n",
      "9 + 1 = 10\n"
     ]
    }
   ],
   "source": [
    "for i in range(10):\n",
    "    print(f'{i} + 1 = {i+1}')"
   ]
  },
  {
   "cell_type": "code",
   "execution_count": 35,
   "id": "61546c3d-83bb-41e7-aeca-e74bc1f7c8f7",
   "metadata": {},
   "outputs": [
    {
     "data": {
      "text/plain": [
       "[0, 1, 2, 3, 4, 5, 6, 7, 8, 9]"
      ]
     },
     "execution_count": 35,
     "metadata": {},
     "output_type": "execute_result"
    }
   ],
   "source": [
    "list(range(10))"
   ]
  },
  {
   "cell_type": "markdown",
   "id": "d5092672-830f-4b7a-9f7a-c54d912f8468",
   "metadata": {},
   "source": [
    "#### Faça um progarama que percorra uma sequencia de 1 a 20 (incluso) e imprima somente os numeros pares "
   ]
  },
  {
   "cell_type": "code",
   "execution_count": 36,
   "id": "000f2e38-a68e-435e-996f-c430608f6c0e",
   "metadata": {},
   "outputs": [
    {
     "data": {
      "text/plain": [
       "[1, 2, 3, 4, 5, 6, 7, 8, 9, 10, 11, 12, 13, 14, 15, 16, 17, 18, 19, 20]"
      ]
     },
     "execution_count": 36,
     "metadata": {},
     "output_type": "execute_result"
    }
   ],
   "source": [
    "lista_numeros = list(range(1, 20+1))\n",
    "\n",
    "lista_numeros "
   ]
  },
  {
   "cell_type": "code",
   "execution_count": 37,
   "id": "deb16d42-a88c-4c60-bccf-224a7c55f162",
   "metadata": {},
   "outputs": [
    {
     "name": "stdout",
     "output_type": "stream",
     "text": [
      "2\n",
      "4\n",
      "6\n",
      "8\n",
      "10\n",
      "12\n",
      "14\n",
      "16\n",
      "18\n",
      "20\n"
     ]
    }
   ],
   "source": [
    "for i in range(1, 20, 2):\n",
    "    print(i+1)"
   ]
  },
  {
   "cell_type": "code",
   "execution_count": 42,
   "id": "5e7922f4-2343-475b-ab53-e32568deda7b",
   "metadata": {},
   "outputs": [
    {
     "name": "stdout",
     "output_type": "stream",
     "text": [
      "2 par\n",
      "4 par\n",
      "6 par\n",
      "8 par\n",
      "10 par\n",
      "12 par\n",
      "14 par\n",
      "16 par\n",
      "18 par\n",
      "20 par\n"
     ]
    }
   ],
   "source": [
    "for n in lista_numeros:\n",
    "    if n // 2 == n / 2: \n",
    "        print(f'{n} par')"
   ]
  },
  {
   "cell_type": "code",
   "execution_count": 45,
   "id": "4905f124-192f-4069-8678-db8add3459fb",
   "metadata": {},
   "outputs": [
    {
     "data": {
      "text/plain": [
       "1"
      ]
     },
     "execution_count": 45,
     "metadata": {},
     "output_type": "execute_result"
    }
   ],
   "source": [
    "3 % 2"
   ]
  },
  {
   "cell_type": "code",
   "execution_count": null,
   "id": "0ea66531-61b4-48c3-9dc9-c724079787e0",
   "metadata": {},
   "outputs": [],
   "source": [
    "3 % 2"
   ]
  },
  {
   "cell_type": "code",
   "execution_count": 46,
   "id": "1aabba41-74d3-41f1-9d7c-4e14a1c54925",
   "metadata": {},
   "outputs": [
    {
     "name": "stdout",
     "output_type": "stream",
     "text": [
      "Help on built-in function format in module builtins:\n",
      "\n",
      "format(value, format_spec='', /)\n",
      "    Return value.__format__(format_spec)\n",
      "    \n",
      "    format_spec defaults to the empty string.\n",
      "    See the Format Specification Mini-Language section of help('FORMATTING') for\n",
      "    details.\n",
      "\n"
     ]
    }
   ],
   "source": [
    "help(format)"
   ]
  },
  {
   "cell_type": "code",
   "execution_count": 50,
   "id": "7072b5f3-3508-4af6-926a-34d808781317",
   "metadata": {},
   "outputs": [
    {
     "name": "stdout",
     "output_type": "stream",
     "text": [
      "002\n",
      "004\n",
      "006\n",
      "008\n",
      "010\n",
      "012\n",
      "014\n",
      "016\n",
      "018\n",
      "020\n"
     ]
    }
   ],
   "source": [
    "for i in range(1, 21):\n",
    "    if i % 2 == 0:\n",
    "        print(\"{:03}\".format(i))"
   ]
  },
  {
   "cell_type": "code",
   "execution_count": 51,
   "id": "b278ac21-939e-4276-a401-d05d09172efe",
   "metadata": {},
   "outputs": [
    {
     "name": "stdout",
     "output_type": "stream",
     "text": [
      "02\n",
      "04\n",
      "06\n",
      "08\n",
      "10\n",
      "12\n",
      "14\n",
      "16\n",
      "18\n",
      "20\n"
     ]
    }
   ],
   "source": [
    "for i in range(1, 21):\n",
    "    if i % 2 == 0:\n",
    "        print(str(i).zfill(2))"
   ]
  },
  {
   "cell_type": "code",
   "execution_count": 52,
   "id": "e32840e7-5683-4f50-86ba-1d94a39af658",
   "metadata": {},
   "outputs": [
    {
     "name": "stdout",
     "output_type": "stream",
     "text": [
      "02\n",
      "04\n",
      "06\n",
      "08\n",
      "10\n",
      "12\n",
      "14\n",
      "16\n",
      "18\n",
      "20\n"
     ]
    }
   ],
   "source": [
    "for num in range(1, 21):  \n",
    "    if num % 2 == 0:  \n",
    "        if num < 10:\n",
    "            print(f\"0{num}\")\n",
    "        else:\n",
    "            print(num)"
   ]
  },
  {
   "cell_type": "markdown",
   "id": "672e01aa-5e0e-41a5-a824-9a1aafcbefb8",
   "metadata": {},
   "source": [
    "- Varrendo uma string"
   ]
  },
  {
   "cell_type": "code",
   "execution_count": 53,
   "id": "f5bf7769-d295-436f-9102-861ffdbdb749",
   "metadata": {},
   "outputs": [
    {
     "name": "stdout",
     "output_type": "stream",
     "text": [
      "J\n",
      "U\n",
      "M\n",
      "P\n",
      " \n",
      "S\n",
      "T\n",
      "R\n",
      "T\n"
     ]
    }
   ],
   "source": [
    "palavra = 'JUMP STRT'\n",
    "\n",
    "for p in palavra:\n",
    "    print(p)"
   ]
  },
  {
   "cell_type": "code",
   "execution_count": 56,
   "id": "38bf990d-1a4e-4989-be5b-dbc396f1fdf2",
   "metadata": {},
   "outputs": [
    {
     "name": "stdout",
     "output_type": "stream",
     "text": [
      "J 0\n",
      "U 1\n",
      "M 2\n",
      "P 3\n",
      "  4\n",
      "S 5\n",
      "T 6\n",
      "R 7\n",
      "T 8\n"
     ]
    }
   ],
   "source": [
    "palavra = 'JUMP STRT'\n",
    "\n",
    "for p in range(0, len(palavra)):\n",
    "    print(palavra[p], p)"
   ]
  },
  {
   "cell_type": "code",
   "execution_count": 57,
   "id": "ed024f1a-7d4e-4405-b8dd-4dac60d549d7",
   "metadata": {},
   "outputs": [
    {
     "name": "stdout",
     "output_type": "stream",
     "text": [
      "JUMP LABEL\n",
      "J\n",
      "U\n",
      "M\n",
      "P\n",
      " \n",
      "L\n",
      "A\n",
      "B\n",
      "E\n",
      "L\n",
      "PYTHON\n",
      "P\n",
      "Y\n",
      "T\n",
      "H\n",
      "O\n",
      "N\n",
      "SQL\n",
      "S\n",
      "Q\n",
      "L\n"
     ]
    }
   ],
   "source": [
    "lista = ['JUMP LABEL', 'PYTHON', 'SQL']\n",
    "\n",
    "for i in lista:\n",
    "    print(i)\n",
    "    for x in i:\n",
    "        print(x)"
   ]
  },
  {
   "cell_type": "markdown",
   "id": "82b17c81-6111-4459-8d62-03b5f41ebc6a",
   "metadata": {},
   "source": [
    "### Contador ou somador "
   ]
  },
  {
   "cell_type": "code",
   "execution_count": null,
   "id": "a141ae6e-ace3-4b8a-9b58-4fd4500e01f9",
   "metadata": {},
   "outputs": [],
   "source": [
    "contador = 0 "
   ]
  }
 ],
 "metadata": {
  "kernelspec": {
   "display_name": "Python 3 (ipykernel)",
   "language": "python",
   "name": "python3"
  },
  "language_info": {
   "codemirror_mode": {
    "name": "ipython",
    "version": 3
   },
   "file_extension": ".py",
   "mimetype": "text/x-python",
   "name": "python",
   "nbconvert_exporter": "python",
   "pygments_lexer": "ipython3",
   "version": "3.11.7"
  }
 },
 "nbformat": 4,
 "nbformat_minor": 5
}
