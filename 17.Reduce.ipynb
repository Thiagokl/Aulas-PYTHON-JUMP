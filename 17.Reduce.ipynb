{
 "cells": [
  {
   "cell_type": "markdown",
   "id": "c3484bc8-4d2e-4767-8946-b3ea0e5a598c",
   "metadata": {},
   "source": [
    "# Reduce\n",
    "- Reduz um iterável a um único valor aplicando uma função dada aos itens do iterável cumulativamente; \n",
    "- É uma função padrão do Python, mas passou a ser definida por uma biblioteca."
   ]
  },
  {
   "cell_type": "markdown",
   "id": "85d1154a-8926-4c61-8429-6c325a73a7c1",
   "metadata": {},
   "source": [
    "### Estrutura \n",
    "```python\n",
    "    reduce(<função>,<interável>)"
   ]
  },
  {
   "cell_type": "code",
   "execution_count": 1,
   "id": "ce9cb491-dfc7-4c89-91af-3fe175bde6e6",
   "metadata": {},
   "outputs": [],
   "source": [
    "from functools import reduce "
   ]
  },
  {
   "cell_type": "markdown",
   "id": "3d953e0a-006d-45d4-8930-915b6c7c21d8",
   "metadata": {},
   "source": [
    "- Somando valores de uma lista"
   ]
  },
  {
   "cell_type": "code",
   "execution_count": 2,
   "id": "3e040987-e914-4868-90c1-731565ce321e",
   "metadata": {},
   "outputs": [],
   "source": [
    "lista_numeros = [1, 2]"
   ]
  },
  {
   "cell_type": "code",
   "execution_count": 3,
   "id": "c0428ec0-1f74-4007-8ed7-02f9e9604ab4",
   "metadata": {},
   "outputs": [
    {
     "data": {
      "text/plain": [
       "3"
      ]
     },
     "execution_count": 3,
     "metadata": {},
     "output_type": "execute_result"
    }
   ],
   "source": [
    "sum(lista_numeros)"
   ]
  },
  {
   "cell_type": "code",
   "execution_count": 4,
   "id": "9ec89e32-b55f-481d-a7d5-05e981dd96c9",
   "metadata": {},
   "outputs": [
    {
     "data": {
      "text/plain": [
       "3"
      ]
     },
     "execution_count": 4,
     "metadata": {},
     "output_type": "execute_result"
    }
   ],
   "source": [
    "reduce(lambda x,y: x+y, lista_numeros)"
   ]
  },
  {
   "cell_type": "code",
   "execution_count": 5,
   "id": "471e1f5c-8538-4e66-96c2-1e3c01afe024",
   "metadata": {},
   "outputs": [],
   "source": [
    "def soma(x, y): return x+y"
   ]
  },
  {
   "cell_type": "code",
   "execution_count": 6,
   "id": "753bdd77-ccfc-41cc-9508-a7ce1722425c",
   "metadata": {},
   "outputs": [
    {
     "data": {
      "text/plain": [
       "3"
      ]
     },
     "execution_count": 6,
     "metadata": {},
     "output_type": "execute_result"
    }
   ],
   "source": [
    "reduce(soma, lista_numeros)"
   ]
  },
  {
   "cell_type": "markdown",
   "id": "d5097714-5426-40b8-be06-23a66d401258",
   "metadata": {},
   "source": [
    "- Quebre as palavras da frase em uma lista, depois transforme em uma string utilizando o reduce "
   ]
  },
  {
   "cell_type": "code",
   "execution_count": 7,
   "id": "386c6d57-3cde-4cc0-921f-8e163da26bb0",
   "metadata": {},
   "outputs": [],
   "source": [
    "frase = 'Quando a luz dos olhos meus e aluz dos olhos teus resolvem se encontrar'"
   ]
  },
  {
   "cell_type": "markdown",
   "id": "d418fbd8-cb87-4cf8-92c6-34785a8f5e31",
   "metadata": {},
   "source": [
    "- Solução culpa do exemplo "
   ]
  },
  {
   "cell_type": "code",
   "execution_count": 8,
   "id": "1deec2c2-76a6-44a6-a6e1-f8e4c9fc647b",
   "metadata": {},
   "outputs": [
    {
     "data": {
      "text/plain": [
       "['Quando',\n",
       " 'a',\n",
       " 'luz',\n",
       " 'dos',\n",
       " 'olhos',\n",
       " 'meus',\n",
       " 'e',\n",
       " 'aluz',\n",
       " 'dos',\n",
       " 'olhos',\n",
       " 'teus',\n",
       " 'resolvem',\n",
       " 'se',\n",
       " 'encontrar']"
      ]
     },
     "execution_count": 8,
     "metadata": {},
     "output_type": "execute_result"
    }
   ],
   "source": [
    "quebrar = frase.split(' ')\n",
    "quebrar"
   ]
  },
  {
   "cell_type": "code",
   "execution_count": 16,
   "id": "464725b5-b8d5-4225-b5f0-b2ff8ef6305b",
   "metadata": {},
   "outputs": [],
   "source": [
    "def soma_str(x, y): return x+' '+y"
   ]
  },
  {
   "cell_type": "code",
   "execution_count": 12,
   "id": "b50feb3b-5584-4379-a481-97f20a9349ee",
   "metadata": {},
   "outputs": [
    {
     "data": {
      "text/plain": [
       "'Quando a luz dos olhos meus e aluz dos olhos teus resolvem se encontrar'"
      ]
     },
     "execution_count": 12,
     "metadata": {},
     "output_type": "execute_result"
    }
   ],
   "source": [
    "reduce(soma_str, quebrar)"
   ]
  },
  {
   "cell_type": "code",
   "execution_count": 13,
   "id": "016f2318-1a23-47e8-a21e-437cb98afcc6",
   "metadata": {},
   "outputs": [
    {
     "name": "stdout",
     "output_type": "stream",
     "text": [
      "['Quando', 'a', 'luz', 'dos', 'olhos', 'meus', 'e', 'aluz', 'dos', 'olhos', 'teus', 'resolvem', 'se', 'encontrar']\n"
     ]
    },
    {
     "data": {
      "text/plain": [
       "'Quandoaluzdosolhosmeusealuzdosolhosteusresolvemseencontrar'"
      ]
     },
     "execution_count": 13,
     "metadata": {},
     "output_type": "execute_result"
    }
   ],
   "source": [
    "def juntar_string (string,string2):\n",
    "    return string + string2\n",
    "   \n",
    " \n",
    "frase_quebrada = frase.split(sep=' ')\n",
    "print(frase_quebrada)\n",
    "reduce(juntar_string,frase_quebrada )"
   ]
  },
  {
   "cell_type": "markdown",
   "id": "be890e2d-0d63-4b1f-a5ae-bb30d2a6db2e",
   "metadata": {},
   "source": [
    "- Solução 2, usando lambda "
   ]
  },
  {
   "cell_type": "code",
   "execution_count": 14,
   "id": "9e70226b-dbc6-4adc-88aa-d884edf44e4e",
   "metadata": {},
   "outputs": [
    {
     "data": {
      "text/plain": [
       "'Quando a luz dos olhos meus e aluz dos olhos teus resolvem se encontrar'"
      ]
     },
     "execution_count": 14,
     "metadata": {},
     "output_type": "execute_result"
    }
   ],
   "source": [
    "reduce(lambda x,y: x+' '+y, quebrar)"
   ]
  },
  {
   "cell_type": "code",
   "execution_count": 15,
   "id": "aa1c7c2e-aee5-453d-bb6a-ded8d8d96348",
   "metadata": {},
   "outputs": [
    {
     "data": {
      "text/plain": [
       "'Quando a luz dos olhos meus e aluz dos olhos teus resolvem se encontrar'"
      ]
     },
     "execution_count": 15,
     "metadata": {},
     "output_type": "execute_result"
    }
   ],
   "source": [
    "reduce(lambda x,y: f'{x} {y}', quebrar)"
   ]
  },
  {
   "cell_type": "markdown",
   "id": "f80c61b4-9a40-4d98-92c8-377594b2e09b",
   "metadata": {},
   "source": [
    "**Exemplo:** Aplique o reduce e faça a multiplicação de uma lista de [1,10]"
   ]
  },
  {
   "cell_type": "code",
   "execution_count": 23,
   "id": "b6c6a794-4e3f-4dc7-9841-21d204e695d5",
   "metadata": {},
   "outputs": [
    {
     "data": {
      "text/plain": [
       "[1, 2, 3, 4]"
      ]
     },
     "execution_count": 23,
     "metadata": {},
     "output_type": "execute_result"
    }
   ],
   "source": [
    "list(range(1, 5))"
   ]
  },
  {
   "cell_type": "code",
   "execution_count": 24,
   "id": "66df043b-e98a-43c4-aaf1-ad3f8c17096b",
   "metadata": {},
   "outputs": [
    {
     "data": {
      "text/plain": [
       "24"
      ]
     },
     "execution_count": 24,
     "metadata": {},
     "output_type": "execute_result"
    }
   ],
   "source": [
    "fora = range(1, 5)\n",
    "reduce(lambda x,y: x*y, fora)"
   ]
  },
  {
   "cell_type": "code",
   "execution_count": null,
   "id": "7d7dd5f0-6764-409f-96ff-3db8b0ed2ad1",
   "metadata": {},
   "outputs": [],
   "source": []
  }
 ],
 "metadata": {
  "kernelspec": {
   "display_name": "Python 3 (ipykernel)",
   "language": "python",
   "name": "python3"
  },
  "language_info": {
   "codemirror_mode": {
    "name": "ipython",
    "version": 3
   },
   "file_extension": ".py",
   "mimetype": "text/x-python",
   "name": "python",
   "nbconvert_exporter": "python",
   "pygments_lexer": "ipython3",
   "version": "3.11.7"
  }
 },
 "nbformat": 4,
 "nbformat_minor": 5
}
