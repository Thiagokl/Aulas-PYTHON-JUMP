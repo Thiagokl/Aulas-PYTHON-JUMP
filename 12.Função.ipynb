{
 "cells": [
  {
   "cell_type": "markdown",
   "id": "fcadf225-daab-46d4-b11b-0ce35be2ba75",
   "metadata": {},
   "source": [
    "# Função \n",
    "\n",
    "- É um bloco de código atrbuído a um nome que pode ser usado multlipas vezes."
   ]
  },
  {
   "cell_type": "markdown",
   "id": "1d2ccf01-aa85-40c4-86f6-4e82989c3797",
   "metadata": {},
   "source": [
    "#### Estrutura\n",
    "```python\n",
    "def <nome_da_função>(<parâmetros>):\n",
    "    <instruções>"
   ]
  },
  {
   "cell_type": "code",
   "execution_count": 1,
   "id": "efb9422d-ca20-4126-b712-0338a7aadc8c",
   "metadata": {},
   "outputs": [],
   "source": [
    "def jump():\n",
    "    pass"
   ]
  },
  {
   "cell_type": "code",
   "execution_count": null,
   "id": "ba8bc992-e4a0-4544-ba17-37fc7d246042",
   "metadata": {},
   "outputs": [],
   "source": [
    "jump()"
   ]
  },
  {
   "cell_type": "markdown",
   "id": "0107c190-dcc0-4003-a35f-a22662075b60",
   "metadata": {},
   "source": [
    "- Exemplo função"
   ]
  },
  {
   "cell_type": "code",
   "execution_count": 3,
   "id": "355038a1-7ae3-4192-8213-f3bde9b5da46",
   "metadata": {},
   "outputs": [],
   "source": [
    "def oi(nome):\n",
    "    print(f'Oi {nome}.')"
   ]
  },
  {
   "cell_type": "code",
   "execution_count": 4,
   "id": "3e1365e5-64b7-48a3-ae40-ccefc70adab8",
   "metadata": {},
   "outputs": [
    {
     "name": "stdout",
     "output_type": "stream",
     "text": [
      "Oi Debora.\n"
     ]
    }
   ],
   "source": [
    "oi('Debora')"
   ]
  },
  {
   "cell_type": "code",
   "execution_count": 5,
   "id": "34a6f617-e6f2-47a7-ad58-cc683b4cb960",
   "metadata": {},
   "outputs": [
    {
     "name": "stdout",
     "output_type": "stream",
     "text": [
      "Oi Leandro.\n"
     ]
    }
   ],
   "source": [
    "oi('Leandro')"
   ]
  },
  {
   "cell_type": "code",
   "execution_count": 6,
   "id": "95963a57-88ec-41cf-bb36-b01096f382ab",
   "metadata": {},
   "outputs": [
    {
     "name": "stdout",
     "output_type": "stream",
     "text": [
      "Oi Lucas.\n"
     ]
    }
   ],
   "source": [
    "oi('Lucas')"
   ]
  },
  {
   "cell_type": "markdown",
   "id": "fdaafc54-aea2-4f4f-92c9-ce9518534418",
   "metadata": {},
   "source": [
    "- Exemplo area do retângulo"
   ]
  },
  {
   "cell_type": "code",
   "execution_count": 7,
   "id": "8d8cbb3b-0d77-449f-bf4e-5eae1a2788cb",
   "metadata": {},
   "outputs": [],
   "source": [
    "def area_retan(base, altura):\n",
    "    area = base * altura\n",
    "    return area"
   ]
  },
  {
   "cell_type": "markdown",
   "id": "59262f48-f4f8-489a-a8e6-4f648afd2f0f",
   "metadata": {},
   "source": [
    "- Diferença entre print e return"
   ]
  },
  {
   "cell_type": "code",
   "execution_count": 8,
   "id": "27f37338-8610-409e-a7c5-36f30e7ee03f",
   "metadata": {},
   "outputs": [
    {
     "name": "stdout",
     "output_type": "stream",
     "text": [
      "Oi Lucas.\n"
     ]
    },
    {
     "data": {
      "text/plain": [
       "200"
      ]
     },
     "execution_count": 8,
     "metadata": {},
     "output_type": "execute_result"
    }
   ],
   "source": [
    "oi('Lucas')\n",
    "area_retan(10, 20)"
   ]
  },
  {
   "cell_type": "code",
   "execution_count": 9,
   "id": "3797dbe9-0e21-4298-8b7c-bcb3f06f4212",
   "metadata": {},
   "outputs": [
    {
     "name": "stdout",
     "output_type": "stream",
     "text": [
      "Oi Lucas.\n"
     ]
    }
   ],
   "source": [
    "area_retan(10, 20)\n",
    "oi('Lucas')"
   ]
  },
  {
   "cell_type": "code",
   "execution_count": 10,
   "id": "13295f87-6596-470b-a4ab-c3697b1ee41a",
   "metadata": {},
   "outputs": [
    {
     "name": "stdout",
     "output_type": "stream",
     "text": [
      "Oi Lucas.\n"
     ]
    }
   ],
   "source": [
    "oi_nome = oi('Lucas')"
   ]
  },
  {
   "cell_type": "code",
   "execution_count": 15,
   "id": "d030cf0c-2efc-4a8c-b801-2b358d09a63d",
   "metadata": {},
   "outputs": [
    {
     "name": "stdout",
     "output_type": "stream",
     "text": [
      "None\n"
     ]
    }
   ],
   "source": [
    "print(oi_nome)"
   ]
  },
  {
   "cell_type": "code",
   "execution_count": 12,
   "id": "e64a57af-4a69-4c90-90e9-f18f002998d3",
   "metadata": {},
   "outputs": [
    {
     "data": {
      "text/plain": [
       "NoneType"
      ]
     },
     "execution_count": 12,
     "metadata": {},
     "output_type": "execute_result"
    }
   ],
   "source": [
    "type(oi_nome)"
   ]
  },
  {
   "cell_type": "code",
   "execution_count": 13,
   "id": "956365c8-ef11-4a21-a01b-ae35c9eb2ea6",
   "metadata": {},
   "outputs": [],
   "source": [
    "a = area_retan(10, 20)"
   ]
  },
  {
   "cell_type": "code",
   "execution_count": 16,
   "id": "0a183ab9-421f-4e48-8a61-45f2d8c1ee1a",
   "metadata": {},
   "outputs": [
    {
     "name": "stdout",
     "output_type": "stream",
     "text": [
      "200\n"
     ]
    }
   ],
   "source": [
    "print(a)"
   ]
  },
  {
   "cell_type": "code",
   "execution_count": 17,
   "id": "880cb07e-d093-46bc-9990-21a6d3353b4e",
   "metadata": {},
   "outputs": [],
   "source": [
    "def area_retan(base, altura):\n",
    "    area = base * altura\n",
    "    print('A area é', area)\n",
    "    return area"
   ]
  },
  {
   "cell_type": "code",
   "execution_count": 18,
   "id": "a7f5e937-e0b2-4a0c-813f-17ff26d19f24",
   "metadata": {},
   "outputs": [
    {
     "name": "stdout",
     "output_type": "stream",
     "text": [
      "A area é 200\n"
     ]
    }
   ],
   "source": [
    "a = area_retan(10, 20)"
   ]
  },
  {
   "cell_type": "code",
   "execution_count": 19,
   "id": "435f0061-66fd-42f0-882e-834647fe1c63",
   "metadata": {},
   "outputs": [
    {
     "data": {
      "text/plain": [
       "200"
      ]
     },
     "execution_count": 19,
     "metadata": {},
     "output_type": "execute_result"
    }
   ],
   "source": [
    "a"
   ]
  },
  {
   "cell_type": "markdown",
   "id": "6aa1460f-6cf0-40b7-bc1f-36f4fcdfcb6c",
   "metadata": {},
   "source": [
    "- Utilizando input"
   ]
  },
  {
   "cell_type": "code",
   "execution_count": 20,
   "id": "c72ad2cc-31c8-4590-a1a2-f1104ffd7caf",
   "metadata": {},
   "outputs": [],
   "source": [
    "def area_r():\n",
    "    base = float(input('Qual a base? '))\n",
    "    altura = float(input('Qual a altura? '))\n",
    "\n",
    "    area = base * altura\n",
    "    print('A area é', area)\n",
    "    return area"
   ]
  },
  {
   "cell_type": "code",
   "execution_count": 21,
   "id": "5b03a914-3fed-4cd9-89a3-e7de0608b838",
   "metadata": {},
   "outputs": [
    {
     "name": "stdin",
     "output_type": "stream",
     "text": [
      "Qual a base?  10\n",
      "Qual a altura?  20\n"
     ]
    },
    {
     "name": "stdout",
     "output_type": "stream",
     "text": [
      "A area é 200.0\n"
     ]
    }
   ],
   "source": [
    "a = area_r()"
   ]
  },
  {
   "cell_type": "code",
   "execution_count": 22,
   "id": "acab13ed-6ce6-44a7-888a-c380184344e2",
   "metadata": {},
   "outputs": [
    {
     "name": "stdout",
     "output_type": "stream",
     "text": [
      "200.0\n"
     ]
    }
   ],
   "source": [
    "print(a)"
   ]
  },
  {
   "cell_type": "code",
   "execution_count": 25,
   "id": "0426cf64-dc0e-42ee-af14-c9269a977852",
   "metadata": {},
   "outputs": [
    {
     "name": "stdin",
     "output_type": "stream",
     "text": [
      "Qual a base?  100\n",
      "Qual a altura?  200\n"
     ]
    },
    {
     "name": "stdout",
     "output_type": "stream",
     "text": [
      "A area total é 20000.0\n"
     ]
    }
   ],
   "source": [
    "def area(base, altura):\n",
    "    area = base * altura\n",
    "    return area\n",
    "    \n",
    "base = float(input('Qual a base? '))\n",
    "altura = float(input('Qual a altura? '))\n",
    "\n",
    "minha_area = area(base, altura)\n",
    "\n",
    "print('A area total é', minha_area)\n",
    "\n"
   ]
  },
  {
   "cell_type": "code",
   "execution_count": 26,
   "id": "99aa816d-13d7-4d56-911d-fcf0a2adda72",
   "metadata": {},
   "outputs": [
    {
     "name": "stdout",
     "output_type": "stream",
     "text": [
      "Help on method_descriptor:\n",
      "\n",
      "find(...)\n",
      "    S.find(sub[, start[, end]]) -> int\n",
      "    \n",
      "    Return the lowest index in S where substring sub is found,\n",
      "    such that sub is contained within S[start:end].  Optional\n",
      "    arguments start and end are interpreted as in slice notation.\n",
      "    \n",
      "    Return -1 on failure.\n",
      "\n"
     ]
    }
   ],
   "source": [
    "help(str.find)"
   ]
  },
  {
   "cell_type": "code",
   "execution_count": 27,
   "id": "68a9c638-4653-4519-a72e-621bc0ef1af3",
   "metadata": {},
   "outputs": [
    {
     "name": "stdout",
     "output_type": "stream",
     "text": [
      "Help on function area in module __main__:\n",
      "\n",
      "area(base, altura)\n",
      "\n"
     ]
    }
   ],
   "source": [
    "help(area)"
   ]
  },
  {
   "cell_type": "code",
   "execution_count": 28,
   "id": "dfd0bb0f-e41d-436a-b4a0-572c649edb43",
   "metadata": {},
   "outputs": [
    {
     "data": {
      "text/plain": [
       "200"
      ]
     },
     "execution_count": 28,
     "metadata": {},
     "output_type": "execute_result"
    }
   ],
   "source": [
    "area(base=10, altura=20)"
   ]
  },
  {
   "cell_type": "code",
   "execution_count": 29,
   "id": "9614477e-a678-47ab-8a4e-ace59ba899b9",
   "metadata": {},
   "outputs": [
    {
     "data": {
      "text/plain": [
       "200"
      ]
     },
     "execution_count": 29,
     "metadata": {},
     "output_type": "execute_result"
    }
   ],
   "source": [
    "area(altura=20, base=10)"
   ]
  },
  {
   "cell_type": "markdown",
   "id": "34266600-106a-49f8-9262-b15bb80dd847",
   "metadata": {},
   "source": [
    "- Função para buscar um valor em uma lista "
   ]
  },
  {
   "cell_type": "code",
   "execution_count": 30,
   "id": "9f4b5bc6-807f-48c5-8294-df1f425110ec",
   "metadata": {},
   "outputs": [],
   "source": [
    "def busca_valor_em_lista(valor, lista):\n",
    "    if valor in lista:\n",
    "        return True\n",
    "    else:\n",
    "        return False"
   ]
  },
  {
   "cell_type": "code",
   "execution_count": 31,
   "id": "1419b533-7b4c-4bb3-a0ff-ef5f88150855",
   "metadata": {},
   "outputs": [
    {
     "data": {
      "text/plain": [
       "[0, 1, 2, 3, 4, 5, 6, 7, 8, 9]"
      ]
     },
     "execution_count": 31,
     "metadata": {},
     "output_type": "execute_result"
    }
   ],
   "source": [
    "lista_numeros = list(range(0, 10))\n",
    "lista_numeros"
   ]
  },
  {
   "cell_type": "code",
   "execution_count": 34,
   "id": "9aad81c3-6193-4ef9-98db-a132b6d3a945",
   "metadata": {},
   "outputs": [
    {
     "data": {
      "text/plain": [
       "False"
      ]
     },
     "execution_count": 34,
     "metadata": {},
     "output_type": "execute_result"
    }
   ],
   "source": [
    "busca_valor_em_lista(10, lista_numeros)"
   ]
  },
  {
   "cell_type": "code",
   "execution_count": 36,
   "id": "db142f25-a663-48b0-91c8-788e217ff543",
   "metadata": {},
   "outputs": [],
   "source": [
    "def busca_valor_em_lista(valor, lista):\n",
    "    if valor in lista:\n",
    "        posicao = lista.index(valor)\n",
    "        retorno = f'O valor {valor} está na lista\\nSua posição é {posicao}'\n",
    "        return retorno\n",
    "    else:\n",
    "        return False"
   ]
  },
  {
   "cell_type": "code",
   "execution_count": 38,
   "id": "48f68104-b16a-4b88-89a3-40f8c61471ad",
   "metadata": {},
   "outputs": [
    {
     "data": {
      "text/plain": [
       "'O valor 9 está na lista\\nSua posição é 9'"
      ]
     },
     "execution_count": 38,
     "metadata": {},
     "output_type": "execute_result"
    }
   ],
   "source": [
    "busca_valor_em_lista(9, lista_numeros)"
   ]
  },
  {
   "cell_type": "code",
   "execution_count": 39,
   "id": "5dd8c420-3c2f-4d61-9a7d-54a76d66276f",
   "metadata": {},
   "outputs": [],
   "source": [
    "string_retorno = busca_valor_em_lista(9, lista_numeros)"
   ]
  },
  {
   "cell_type": "code",
   "execution_count": 40,
   "id": "f7ff6d42-3ac2-4738-98c1-6e13ff9bb411",
   "metadata": {},
   "outputs": [
    {
     "name": "stdout",
     "output_type": "stream",
     "text": [
      "O valor 9 está na lista\n",
      "Sua posição é 9\n"
     ]
    }
   ],
   "source": [
    "print(string_retorno)"
   ]
  },
  {
   "cell_type": "markdown",
   "id": "d7efbd72-c64d-4e22-bc24-8c3a0a5a0243",
   "metadata": {},
   "source": [
    "- Faça uma calculadora com operações de + e -"
   ]
  },
  {
   "cell_type": "code",
   "execution_count": null,
   "id": "54e1b600-6bd2-4f8e-9d09-3e1ffcd7f993",
   "metadata": {},
   "outputs": [],
   "source": [
    "def calculadora(a, b, operador):\n",
    "    pass"
   ]
  },
  {
   "cell_type": "code",
   "execution_count": 64,
   "id": "e1229e54-d2f5-46c6-b0b4-b736fa47f7e7",
   "metadata": {},
   "outputs": [
    {
     "name": "stdout",
     "output_type": "stream",
     "text": [
      "8\n",
      "6\n",
      "35\n"
     ]
    }
   ],
   "source": [
    "def calculadora(a,b, operador):\n",
    "    if operador == '+':\n",
    "       resultado = a+b\n",
    "    elif operador == '-':\n",
    "       resultado = a-b\n",
    "    elif operador == '*':\n",
    "       resultado = a*b\n",
    "    elif operador == '/':\n",
    "       resultado = a/b\n",
    "    else:\n",
    "        return None\n",
    "    return resultado\n",
    " \n",
    "print(calculadora (5,3, '+'))\n",
    "print(calculadora (10,4, '-'))\n",
    "print(calculadora (7,5, '*'))"
   ]
  },
  {
   "cell_type": "code",
   "execution_count": 46,
   "id": "d76cc414-78ed-4a06-9dd8-773da24ef5cf",
   "metadata": {},
   "outputs": [
    {
     "name": "stdout",
     "output_type": "stream",
     "text": [
      "1.4\n"
     ]
    }
   ],
   "source": [
    "print(calculadora (7,5, '/'))"
   ]
  },
  {
   "cell_type": "code",
   "execution_count": 61,
   "id": "f77880fc-a3d6-4cf9-828b-bfa528b4d9c6",
   "metadata": {},
   "outputs": [],
   "source": [
    "def calculadora(a,b, operador):\n",
    "    if operador == '+':\n",
    "        return a+b\n",
    "    resultado = a-b\n",
    "    return resultado"
   ]
  },
  {
   "cell_type": "code",
   "execution_count": 62,
   "id": "8ff85110-b914-4ed9-8656-38063d93ff33",
   "metadata": {},
   "outputs": [
    {
     "data": {
      "text/plain": [
       "20"
      ]
     },
     "execution_count": 62,
     "metadata": {},
     "output_type": "execute_result"
    }
   ],
   "source": [
    "calculadora(10,10, '+')"
   ]
  },
  {
   "cell_type": "code",
   "execution_count": 66,
   "id": "c2fad8d1-c09c-4c92-a640-06e3d2ffa08d",
   "metadata": {},
   "outputs": [],
   "source": [
    "def soma(a,b):\n",
    "    return a+b\n",
    "\n",
    "def sub(a,b):\n",
    "    return a-b\n",
    "\n",
    "def calculadora(a,b, operador):\n",
    "\n",
    "    resultado = soma(a,b) if operador == '+' else sub(a,b)\n",
    "\n",
    "    return resultado "
   ]
  },
  {
   "cell_type": "code",
   "execution_count": 67,
   "id": "be03ee60-d5f7-43e7-a103-0cec51f9a5a6",
   "metadata": {},
   "outputs": [
    {
     "data": {
      "text/plain": [
       "15"
      ]
     },
     "execution_count": 67,
     "metadata": {},
     "output_type": "execute_result"
    }
   ],
   "source": [
    "calculadora(10, 5, '+')"
   ]
  },
  {
   "cell_type": "code",
   "execution_count": 69,
   "id": "5aa40d0b-aa6c-4c93-abe3-2d5134c17e4f",
   "metadata": {},
   "outputs": [
    {
     "data": {
      "text/plain": [
       "5"
      ]
     },
     "execution_count": 69,
     "metadata": {},
     "output_type": "execute_result"
    }
   ],
   "source": [
    "calculadora(10, 5, 'budega')"
   ]
  },
  {
   "cell_type": "markdown",
   "id": "63e62a2e-4527-4aca-a5f5-2c7ec1fee7db",
   "metadata": {},
   "source": [
    "### Variáveis locais e globais \n",
    "\n",
    "- variável local está dentro da função\n",
    "- global está fora "
   ]
  },
  {
   "cell_type": "code",
   "execution_count": 72,
   "id": "4cb9fc37-7d62-46b2-b862-65c5dd213360",
   "metadata": {},
   "outputs": [],
   "source": [
    "#global\n",
    "divisao = 20\n",
    "\n",
    "def dividir(numero, denominador):\n",
    "    #local\n",
    "    divisao = numero/denominador\n",
    "    return divisao"
   ]
  },
  {
   "cell_type": "code",
   "execution_count": 71,
   "id": "3e73f83a-de74-4a90-aba8-8087f16360ef",
   "metadata": {},
   "outputs": [
    {
     "data": {
      "text/plain": [
       "4.0"
      ]
     },
     "execution_count": 71,
     "metadata": {},
     "output_type": "execute_result"
    }
   ],
   "source": [
    "dividir(8, 2)"
   ]
  },
  {
   "cell_type": "code",
   "execution_count": 73,
   "id": "7cac62ca-dfbf-4fca-9807-6f062464a576",
   "metadata": {},
   "outputs": [
    {
     "data": {
      "text/plain": [
       "20"
      ]
     },
     "execution_count": 73,
     "metadata": {},
     "output_type": "execute_result"
    }
   ],
   "source": [
    "divisao"
   ]
  },
  {
   "cell_type": "code",
   "execution_count": 74,
   "id": "84b6b07b-b87f-407f-9731-bbdef8f97d35",
   "metadata": {},
   "outputs": [],
   "source": [
    "#global\n",
    "divisao = 20\n",
    "\n",
    "def dividir(numero, denominador):\n",
    "    #local\n",
    "    var_divisao = numero/denominador\n",
    "    return divisao"
   ]
  },
  {
   "cell_type": "code",
   "execution_count": 75,
   "id": "8ea7ed7a-fcd8-49d5-bb5e-fd9ccbc13755",
   "metadata": {},
   "outputs": [
    {
     "data": {
      "text/plain": [
       "20"
      ]
     },
     "execution_count": 75,
     "metadata": {},
     "output_type": "execute_result"
    }
   ],
   "source": [
    "dividir(8, 2)"
   ]
  },
  {
   "cell_type": "code",
   "execution_count": 76,
   "id": "ca12e6a1-c7b9-44bd-9e24-8b1aaf3ec4bd",
   "metadata": {},
   "outputs": [
    {
     "ename": "NameError",
     "evalue": "name 'var_divisao' is not defined",
     "output_type": "error",
     "traceback": [
      "\u001b[1;31m---------------------------------------------------------------------------\u001b[0m",
      "\u001b[1;31mNameError\u001b[0m                                 Traceback (most recent call last)",
      "Cell \u001b[1;32mIn[76], line 1\u001b[0m\n\u001b[1;32m----> 1\u001b[0m var_divisao\n",
      "\u001b[1;31mNameError\u001b[0m: name 'var_divisao' is not defined"
     ]
    }
   ],
   "source": [
    "var_divisao"
   ]
  },
  {
   "cell_type": "code",
   "execution_count": 77,
   "id": "de81940f-c26b-478b-8957-cf8f3e2ad25e",
   "metadata": {},
   "outputs": [],
   "source": [
    "#global\n",
    "numero = 20\n",
    "\n",
    "def soma_1(numero):\n",
    "    #local\n",
    "    numero = numero + 1\n",
    "    return numero"
   ]
  },
  {
   "cell_type": "code",
   "execution_count": 80,
   "id": "ae0b2e0d-6734-4b64-8527-8fe0b57b56c5",
   "metadata": {},
   "outputs": [
    {
     "data": {
      "text/plain": [
       "11"
      ]
     },
     "execution_count": 80,
     "metadata": {},
     "output_type": "execute_result"
    }
   ],
   "source": [
    "#somar 10 + 1\n",
    "soma_1(10)"
   ]
  },
  {
   "cell_type": "code",
   "execution_count": 85,
   "id": "24ce5a81-4df6-4687-aa44-aaa8f9b88e01",
   "metadata": {},
   "outputs": [],
   "source": [
    "def soma_1(numero):\n",
    "    return numero + 1"
   ]
  },
  {
   "cell_type": "code",
   "execution_count": 86,
   "id": "7b936767-2543-4e74-8e52-db01c9c981cd",
   "metadata": {},
   "outputs": [
    {
     "data": {
      "text/plain": [
       "11"
      ]
     },
     "execution_count": 86,
     "metadata": {},
     "output_type": "execute_result"
    }
   ],
   "source": [
    "#somar 10 + 1\n",
    "numero = 10\n",
    "soma_1(numero)"
   ]
  },
  {
   "cell_type": "code",
   "execution_count": null,
   "id": "3915fc24-772b-4978-a7d4-fe5a9eb71f22",
   "metadata": {},
   "outputs": [],
   "source": []
  },
  {
   "cell_type": "code",
   "execution_count": 88,
   "id": "3643208a-36d7-4a99-bea8-56af6b33c6f4",
   "metadata": {},
   "outputs": [],
   "source": [
    "def consultar_cpf(nome):\n",
    "    cpf = {'lucas': '111.111.111-51'}\n",
    "    print(cpf[nome])"
   ]
  },
  {
   "cell_type": "code",
   "execution_count": 89,
   "id": "0631814c-0a92-42b7-ba29-1093d79b6e3d",
   "metadata": {},
   "outputs": [
    {
     "name": "stdout",
     "output_type": "stream",
     "text": [
      "111.111.111-51\n"
     ]
    }
   ],
   "source": [
    "consultar_cpf('lucas')"
   ]
  },
  {
   "cell_type": "code",
   "execution_count": 90,
   "id": "5bcf7785-533a-4d6e-9079-633d3de091d9",
   "metadata": {},
   "outputs": [
    {
     "ename": "NameError",
     "evalue": "name 'cpf' is not defined",
     "output_type": "error",
     "traceback": [
      "\u001b[1;31m---------------------------------------------------------------------------\u001b[0m",
      "\u001b[1;31mNameError\u001b[0m                                 Traceback (most recent call last)",
      "Cell \u001b[1;32mIn[90], line 1\u001b[0m\n\u001b[1;32m----> 1\u001b[0m cpf\n",
      "\u001b[1;31mNameError\u001b[0m: name 'cpf' is not defined"
     ]
    }
   ],
   "source": [
    "cpf"
   ]
  },
  {
   "cell_type": "code",
   "execution_count": 91,
   "id": "8e4759e8-257b-4f81-96fd-3aaa860a1df7",
   "metadata": {},
   "outputs": [],
   "source": [
    "cpf = {'lucas': '111.111.111-51'}\n",
    "def consultar_cpf(nome):\n",
    "    print(cpf[nome])"
   ]
  },
  {
   "cell_type": "code",
   "execution_count": 92,
   "id": "243e3fad-89ca-43e0-9e6b-bb38369b2619",
   "metadata": {},
   "outputs": [
    {
     "name": "stdout",
     "output_type": "stream",
     "text": [
      "111.111.111-51\n"
     ]
    }
   ],
   "source": [
    "consultar_cpf('lucas')"
   ]
  },
  {
   "cell_type": "code",
   "execution_count": 93,
   "id": "a7a4fadc-3d4f-4a74-bca5-3b307c0c7b62",
   "metadata": {},
   "outputs": [
    {
     "data": {
      "text/plain": [
       "{'lucas': '111.111.111-51'}"
      ]
     },
     "execution_count": 93,
     "metadata": {},
     "output_type": "execute_result"
    }
   ],
   "source": [
    "cpf"
   ]
  },
  {
   "cell_type": "markdown",
   "id": "c60c2bea-651a-4cb6-82ef-321c4978bf53",
   "metadata": {},
   "source": [
    "- Crie uma função que formate um número em MIL, MILHÕES E BILHÕES"
   ]
  },
  {
   "cell_type": "code",
   "execution_count": 94,
   "id": "d1fecc0e-3da9-4118-99b1-a260bfb8fbb3",
   "metadata": {},
   "outputs": [
    {
     "name": "stdin",
     "output_type": "stream",
     "text": [
      "Digite um número:  5000000\n"
     ]
    },
    {
     "name": "stdout",
     "output_type": "stream",
     "text": [
      "Número formatado: 5.000.000,00\n"
     ]
    }
   ],
   "source": [
    "import locale\n",
    " \n",
    "def formatar_numero_locale(numero):\n",
    "    locale.setlocale(locale.LC_ALL, 'pt_BR.UTF-8')  # Configura o local para português do Brasil\n",
    "    return locale.format_string('%.2f', numero, grouping=True)\n",
    " \n",
    "# Função principal para solicitar e formatar o número\n",
    "def numeroformatado():\n",
    "    numero = float(input(\"Digite um número: \"))\n",
    "    resultado = formatar_numero_locale(numero)\n",
    "    print(\"Número formatado:\", resultado)\n",
    " \n",
    "# Chama a função principal\n",
    "numeroformatado()"
   ]
  },
  {
   "cell_type": "code",
   "execution_count": 96,
   "id": "895e71b3-bbf1-4cd8-930b-ac13e5665aa2",
   "metadata": {},
   "outputs": [],
   "source": [
    "k = 1_000\n",
    "m = 1_000_000\n",
    "b = 1_000_000_000\n",
    " \n",
    "def formata_numero(numero):\n",
    "    if numero >= B:\n",
    "        return f\"{numero / B:.2f}B\"\n",
    "    elif numero >= M:\n",
    "        return f\"{numero / M:.2f}M\"\n",
    "    elif numero >= K:\n",
    "        return f\"{numero / K:.2f}K\"\n",
    "    else:\n",
    "        return f\"{numero:.2f}\""
   ]
  },
  {
   "cell_type": "code",
   "execution_count": 97,
   "id": "140e7391-9fea-4005-af6c-d5a0ca9fadaf",
   "metadata": {},
   "outputs": [
    {
     "data": {
      "text/plain": [
       "'100.00'"
      ]
     },
     "execution_count": 97,
     "metadata": {},
     "output_type": "execute_result"
    }
   ],
   "source": [
    "formata_numero(100)"
   ]
  },
  {
   "cell_type": "code",
   "execution_count": 98,
   "id": "8f505a01-d1e7-4269-a311-f8cff761021d",
   "metadata": {},
   "outputs": [
    {
     "data": {
      "text/plain": [
       "'10.00K'"
      ]
     },
     "execution_count": 98,
     "metadata": {},
     "output_type": "execute_result"
    }
   ],
   "source": [
    "formata_numero(10000)"
   ]
  },
  {
   "cell_type": "code",
   "execution_count": 99,
   "id": "7735e49e-3ac3-4db4-aae0-c5e12dcbca3a",
   "metadata": {},
   "outputs": [
    {
     "data": {
      "text/plain": [
       "'1.00M'"
      ]
     },
     "execution_count": 99,
     "metadata": {},
     "output_type": "execute_result"
    }
   ],
   "source": [
    "formata_numero(1000000)"
   ]
  },
  {
   "cell_type": "code",
   "execution_count": 100,
   "id": "f97eb5f3-a4ac-4958-b2cb-d64c03f800e2",
   "metadata": {},
   "outputs": [
    {
     "data": {
      "text/plain": [
       "'5.00M'"
      ]
     },
     "execution_count": 100,
     "metadata": {},
     "output_type": "execute_result"
    }
   ],
   "source": [
    "formata_numero(5000000)"
   ]
  },
  {
   "cell_type": "code",
   "execution_count": 101,
   "id": "d8a3207c-ae2b-47b7-a3f6-085bf8b55368",
   "metadata": {},
   "outputs": [
    {
     "data": {
      "text/plain": [
       "True"
      ]
     },
     "execution_count": 101,
     "metadata": {},
     "output_type": "execute_result"
    }
   ],
   "source": [
    "K == 1000"
   ]
  },
  {
   "cell_type": "code",
   "execution_count": 107,
   "id": "c7f93894-a6c9-4fc3-baae-ae11464e8a48",
   "metadata": {},
   "outputs": [],
   "source": [
    "def format_num(numero):\n",
    "    unidades = ['K', 'M', 'B']\n",
    "\n",
    "    for i in range(len(unidades)):\n",
    "        #print(i) visualizar o i \n",
    "        if numero < 1_000_000:\n",
    "            numero /= 1000\n",
    "            return f'{numero} {unidades[i]}'\n",
    "        numero /= 1000"
   ]
  },
  {
   "cell_type": "code",
   "execution_count": 108,
   "id": "371f5db9-31a3-4fe7-a5c4-988687e0ee7e",
   "metadata": {},
   "outputs": [
    {
     "name": "stdout",
     "output_type": "stream",
     "text": [
      "0\n",
      "1\n"
     ]
    },
    {
     "data": {
      "text/plain": [
       "'5.0 M'"
      ]
     },
     "execution_count": 108,
     "metadata": {},
     "output_type": "execute_result"
    }
   ],
   "source": [
    "format_num(5_000_000)"
   ]
  },
  {
   "cell_type": "code",
   "execution_count": 109,
   "id": "4c49df82-5ab8-434f-933a-8845c644dcb0",
   "metadata": {},
   "outputs": [
    {
     "name": "stdout",
     "output_type": "stream",
     "text": [
      "0\n",
      "1\n",
      "2\n"
     ]
    },
    {
     "data": {
      "text/plain": [
       "'5.0 B'"
      ]
     },
     "execution_count": 109,
     "metadata": {},
     "output_type": "execute_result"
    }
   ],
   "source": [
    "format_num(5_000_000_000)"
   ]
  },
  {
   "cell_type": "code",
   "execution_count": 105,
   "id": "0de6f98e-3208-488b-a71c-1e2d1de47d9d",
   "metadata": {},
   "outputs": [
    {
     "data": {
      "text/plain": [
       "'5.0 K'"
      ]
     },
     "execution_count": 105,
     "metadata": {},
     "output_type": "execute_result"
    }
   ],
   "source": [
    "format_num(5_000)"
   ]
  },
  {
   "cell_type": "code",
   "execution_count": 110,
   "id": "63196230-4cac-43b2-9b26-6fa4d355b44f",
   "metadata": {},
   "outputs": [
    {
     "name": "stdout",
     "output_type": "stream",
     "text": [
      "0\n"
     ]
    },
    {
     "data": {
      "text/plain": [
       "'5.547 K'"
      ]
     },
     "execution_count": 110,
     "metadata": {},
     "output_type": "execute_result"
    }
   ],
   "source": [
    "format_num(5_547)"
   ]
  },
  {
   "cell_type": "code",
   "execution_count": 111,
   "id": "57dac7c5-a4b6-4e54-b94a-d8f618275a4e",
   "metadata": {},
   "outputs": [
    {
     "name": "stdout",
     "output_type": "stream",
     "text": [
      "0\n",
      "1\n",
      "2\n"
     ]
    }
   ],
   "source": [
    "format_num(5_000_000_000_000)"
   ]
  },
  {
   "cell_type": "code",
   "execution_count": 112,
   "id": "f01a05b0-2b23-4377-a80c-16daf0cdd909",
   "metadata": {},
   "outputs": [
    {
     "ename": "NameError",
     "evalue": "name 'unidades' is not defined",
     "output_type": "error",
     "traceback": [
      "\u001b[1;31m---------------------------------------------------------------------------\u001b[0m",
      "\u001b[1;31mNameError\u001b[0m                                 Traceback (most recent call last)",
      "Cell \u001b[1;32mIn[112], line 1\u001b[0m\n\u001b[1;32m----> 1\u001b[0m unidades\n",
      "\u001b[1;31mNameError\u001b[0m: name 'unidades' is not defined"
     ]
    }
   ],
   "source": [
    "unidades"
   ]
  },
  {
   "cell_type": "code",
   "execution_count": null,
   "id": "6d0dcf4f-f5b7-47c1-bee5-02d0cc6f764f",
   "metadata": {},
   "outputs": [],
   "source": []
  }
 ],
 "metadata": {
  "kernelspec": {
   "display_name": "Python 3 (ipykernel)",
   "language": "python",
   "name": "python3"
  },
  "language_info": {
   "codemirror_mode": {
    "name": "ipython",
    "version": 3
   },
   "file_extension": ".py",
   "mimetype": "text/x-python",
   "name": "python",
   "nbconvert_exporter": "python",
   "pygments_lexer": "ipython3",
   "version": "3.11.7"
  }
 },
 "nbformat": 4,
 "nbformat_minor": 5
}
