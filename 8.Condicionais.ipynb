{
 "cells": [
  {
   "cell_type": "markdown",
   "id": "ee20de33-03b3-4684-a70f-563a660e8ba6",
   "metadata": {},
   "source": [
    "# Condicionais\n",
    "- if\n",
    "- else\n",
    "- elif"
   ]
  },
  {
   "cell_type": "markdown",
   "id": "cfa77465-4d25-4563-b674-88e320764e56",
   "metadata": {},
   "source": [
    "### Operadores de comparação:\n",
    "- igual: ==\n",
    "- direfente: !=\n",
    "- maior: >\n",
    "- menor: <\n",
    "- maior igual: >=\n",
    "- menor igual: <="
   ]
  },
  {
   "cell_type": "code",
   "execution_count": 1,
   "id": "99a7b364-aa74-47c3-b0b5-2864c2db18bd",
   "metadata": {},
   "outputs": [
    {
     "data": {
      "text/plain": [
       "True"
      ]
     },
     "execution_count": 1,
     "metadata": {},
     "output_type": "execute_result"
    }
   ],
   "source": [
    "False != True "
   ]
  },
  {
   "cell_type": "code",
   "execution_count": 2,
   "id": "a89be526-b8da-4efb-b108-b40a85eb305a",
   "metadata": {},
   "outputs": [
    {
     "data": {
      "text/plain": [
       "False"
      ]
     },
     "execution_count": 2,
     "metadata": {},
     "output_type": "execute_result"
    }
   ],
   "source": [
    "2 <= 1"
   ]
  },
  {
   "cell_type": "markdown",
   "id": "4f8d6d55-a670-4766-926b-76fb957695e4",
   "metadata": {},
   "source": [
    "### Estrutura do if:\n",
    "\n",
    "```python\n",
    "if <condição>:\n",
    "    <instrução>"
   ]
  },
  {
   "cell_type": "code",
   "execution_count": 3,
   "id": "a44ec9a2-af5f-4531-9876-7e03763f4c34",
   "metadata": {},
   "outputs": [],
   "source": [
    "if 2 == 1:\n",
    "    print('Eu amo python')"
   ]
  },
  {
   "cell_type": "code",
   "execution_count": 4,
   "id": "f50a7a5f-75db-44b1-a773-6fab63ca7f19",
   "metadata": {},
   "outputs": [],
   "source": [
    "if 2 == 1:\n",
    "    print('Eu amo python')"
   ]
  },
  {
   "cell_type": "code",
   "execution_count": 5,
   "id": "aa8d1782-678a-41f7-a918-a1dfff0053aa",
   "metadata": {},
   "outputs": [
    {
     "name": "stdout",
     "output_type": "stream",
     "text": [
      "Eu amo python\n"
     ]
    }
   ],
   "source": [
    "if True:\n",
    "    print('Eu amo python')"
   ]
  },
  {
   "cell_type": "code",
   "execution_count": 6,
   "id": "667868a9-7afa-450f-93ea-bb5a04b799fa",
   "metadata": {},
   "outputs": [
    {
     "name": "stdout",
     "output_type": "stream",
     "text": [
      "Eu amo sql\n"
     ]
    }
   ],
   "source": [
    "if 1 > 0:\n",
    "    print('Eu amo sql')"
   ]
  },
  {
   "cell_type": "code",
   "execution_count": 7,
   "id": "154fbfdb-1180-45ee-acda-3a3e0bd4c73d",
   "metadata": {},
   "outputs": [
    {
     "name": "stdin",
     "output_type": "stream",
     "text": [
      "Qual a idade?  5\n"
     ]
    }
   ],
   "source": [
    "idade = int(input('Qual a idade? '))\n",
    "\n",
    "if idade >= 18:\n",
    "    print('De maior!')"
   ]
  },
  {
   "cell_type": "markdown",
   "id": "3bedb7dc-8efa-432f-b451-e91da3aad948",
   "metadata": {},
   "source": [
    "### Estrutura if-else:\n",
    "```python\n",
    "if <condição>:\n",
    "    <instrução caso true>\n",
    "else:\n",
    "    <instrução caso falso>\n",
    "    "
   ]
  },
  {
   "cell_type": "code",
   "execution_count": 8,
   "id": "ecf2ab35-6162-4872-a5da-75a512aced45",
   "metadata": {},
   "outputs": [
    {
     "name": "stdin",
     "output_type": "stream",
     "text": [
      "Qual a idade?  5\n"
     ]
    },
    {
     "name": "stdout",
     "output_type": "stream",
     "text": [
      "De menor!\n"
     ]
    }
   ],
   "source": [
    "idade = int(input('Qual a idade? '))\n",
    "\n",
    "if idade >= 18:\n",
    "    print('De maior!')\n",
    "else:\n",
    "    print('De menor!')"
   ]
  },
  {
   "cell_type": "markdown",
   "id": "2772c983-4fbd-43b0-ae2e-80cc99da5623",
   "metadata": {},
   "source": [
    "### Estrutura if-elif-else:\n",
    "```python\n",
    "if <condição 1>:\n",
    "    <instrução caso a condição 1 true>\n",
    "elif <condição 2>:\n",
    "    <instrução caso a condição 2 true>\n",
    "else:\n",
    "    <instrução caso falso>"
   ]
  },
  {
   "cell_type": "code",
   "execution_count": 16,
   "id": "15e9968e-6001-4be3-af0e-d86ce99dd2c8",
   "metadata": {},
   "outputs": [
    {
     "name": "stdin",
     "output_type": "stream",
     "text": [
      "Qual a idade?  1.5\n"
     ]
    },
    {
     "ename": "ValueError",
     "evalue": "invalid literal for int() with base 10: '1.5'",
     "output_type": "error",
     "traceback": [
      "\u001b[1;31m---------------------------------------------------------------------------\u001b[0m",
      "\u001b[1;31mValueError\u001b[0m                                Traceback (most recent call last)",
      "Cell \u001b[1;32mIn[16], line 1\u001b[0m\n\u001b[1;32m----> 1\u001b[0m idade \u001b[38;5;241m=\u001b[39m \u001b[38;5;28mint\u001b[39m(\u001b[38;5;28minput\u001b[39m(\u001b[38;5;124m'\u001b[39m\u001b[38;5;124mQual a idade? \u001b[39m\u001b[38;5;124m'\u001b[39m))\n\u001b[0;32m      3\u001b[0m \u001b[38;5;28;01mif\u001b[39;00m idade \u001b[38;5;241m<\u001b[39m \u001b[38;5;241m0\u001b[39m:\n\u001b[0;32m      4\u001b[0m     \u001b[38;5;28mprint\u001b[39m(\u001b[38;5;124m'\u001b[39m\u001b[38;5;124mvai nascer.\u001b[39m\u001b[38;5;124m'\u001b[39m)\n",
      "\u001b[1;31mValueError\u001b[0m: invalid literal for int() with base 10: '1.5'"
     ]
    }
   ],
   "source": [
    "idade = int(input('Qual a idade? '))\n",
    "\n",
    "if idade < 0:\n",
    "    print('vai nascer.')\n",
    "elif idade < 50:\n",
    "    print('Adulto.')\n",
    "elif idade < 70:\n",
    "    print('Idoso.')\n",
    "else:\n",
    "    print('Muito idoso.')"
   ]
  },
  {
   "cell_type": "markdown",
   "id": "03d174ea-8cfd-4d4a-907b-2e881070fdad",
   "metadata": {},
   "source": [
    "### Operadores Lógicos \n",
    "\n",
    "- and: Retorna verdadeiro se ambas as condições forem verdadeiras\n",
    "- or: Retorna verdadeiro se uma das condições forem verdadeiras\n",
    "- not: inverte o valor booleano.\n",
    "\n",
    " ![image.png](attachment:image.png)"
   ]
  },
  {
   "cell_type": "code",
   "execution_count": 17,
   "id": "13d48b79-79f1-4ab0-9384-6bf462c5c46a",
   "metadata": {},
   "outputs": [
    {
     "data": {
      "text/plain": [
       "True"
      ]
     },
     "execution_count": 17,
     "metadata": {},
     "output_type": "execute_result"
    }
   ],
   "source": [
    "#and \n",
    "\n",
    "1 > 0 and 1 < 2"
   ]
  },
  {
   "cell_type": "code",
   "execution_count": 18,
   "id": "995967b7-7dd9-4ff5-85b3-d060084440fb",
   "metadata": {},
   "outputs": [
    {
     "data": {
      "text/plain": [
       "False"
      ]
     },
     "execution_count": 18,
     "metadata": {},
     "output_type": "execute_result"
    }
   ],
   "source": [
    "#and \n",
    "\n",
    "1 > 0 and 1 < 1"
   ]
  },
  {
   "cell_type": "markdown",
   "id": "8252ca5a-3b97-4eb8-b7dd-da922a9b957e",
   "metadata": {},
   "source": [
    "- Exemplo and"
   ]
  },
  {
   "cell_type": "code",
   "execution_count": 20,
   "id": "9c1155db-0879-45be-8878-4ba9fbb24337",
   "metadata": {},
   "outputs": [
    {
     "name": "stdin",
     "output_type": "stream",
     "text": [
      "Qual a idade?  -2\n"
     ]
    },
    {
     "name": "stdout",
     "output_type": "stream",
     "text": [
      "Vai nascer.\n"
     ]
    }
   ],
   "source": [
    "idade = int(input('Qual a idade? '))\n",
    "\n",
    "if idade < 18 and idade >= 0:\n",
    "    print('De menor.')\n",
    "elif idade < 50 and idade > 18:\n",
    "    print('Adulto.')\n",
    "elif idade < 70  and idade > 50:\n",
    "    print('Idoso.')\n",
    "else:\n",
    "    print('Vai nascer.')"
   ]
  },
  {
   "cell_type": "code",
   "execution_count": 21,
   "id": "6cad67f8-9ef2-489c-9ab7-cc8a0be86298",
   "metadata": {},
   "outputs": [
    {
     "data": {
      "text/plain": [
       "True"
      ]
     },
     "execution_count": 21,
     "metadata": {},
     "output_type": "execute_result"
    }
   ],
   "source": [
    "# or \n",
    "\n",
    "True or False"
   ]
  },
  {
   "cell_type": "code",
   "execution_count": 22,
   "id": "44261db4-6c48-44e0-8fe5-e5acbf8f5a48",
   "metadata": {},
   "outputs": [
    {
     "data": {
      "text/plain": [
       "True"
      ]
     },
     "execution_count": 22,
     "metadata": {},
     "output_type": "execute_result"
    }
   ],
   "source": [
    "1 > 0 or 1 > 50"
   ]
  },
  {
   "cell_type": "code",
   "execution_count": 23,
   "id": "df089a89-0b29-41b4-84c3-80b858550d64",
   "metadata": {},
   "outputs": [
    {
     "data": {
      "text/plain": [
       "False"
      ]
     },
     "execution_count": 23,
     "metadata": {},
     "output_type": "execute_result"
    }
   ],
   "source": [
    "1 > 10 or 1 > 50"
   ]
  },
  {
   "cell_type": "markdown",
   "id": "65f616f5-4144-48c7-9cfb-1e0956f5f48d",
   "metadata": {},
   "source": [
    "- Exemplo or "
   ]
  },
  {
   "cell_type": "code",
   "execution_count": 24,
   "id": "d41ce64f-795a-40a8-b1c9-1da9f6c90695",
   "metadata": {},
   "outputs": [
    {
     "name": "stdin",
     "output_type": "stream",
     "text": [
      "Qual a idade?  -2\n"
     ]
    },
    {
     "name": "stdout",
     "output_type": "stream",
     "text": [
      "De menor.\n"
     ]
    }
   ],
   "source": [
    "idade = int(input('Qual a idade? '))\n",
    "\n",
    "if idade < 18 or idade >= 0:\n",
    "    print('De menor.')\n",
    "elif idade < 50 and idade > 18:\n",
    "    print('Adulto.')\n",
    "elif idade < 70  and idade > 50:\n",
    "    print('Idoso.')\n",
    "else:\n",
    "    print('Vai nascer.')"
   ]
  },
  {
   "cell_type": "code",
   "execution_count": 25,
   "id": "703d767a-11a7-4d8b-93f8-b7777228c30a",
   "metadata": {},
   "outputs": [
    {
     "data": {
      "text/plain": [
       "False"
      ]
     },
     "execution_count": 25,
     "metadata": {},
     "output_type": "execute_result"
    }
   ],
   "source": [
    "# not \n",
    "\n",
    "not True"
   ]
  },
  {
   "cell_type": "code",
   "execution_count": 26,
   "id": "4c1461b8-ea9d-4ae4-85e4-d41eacb11411",
   "metadata": {},
   "outputs": [
    {
     "data": {
      "text/plain": [
       "True"
      ]
     },
     "execution_count": 26,
     "metadata": {},
     "output_type": "execute_result"
    }
   ],
   "source": [
    "not False"
   ]
  },
  {
   "cell_type": "code",
   "execution_count": 28,
   "id": "b4e531ea-7648-4b72-a7dc-7f8066421887",
   "metadata": {},
   "outputs": [
    {
     "data": {
      "text/plain": [
       "True"
      ]
     },
     "execution_count": 28,
     "metadata": {},
     "output_type": "execute_result"
    }
   ],
   "source": [
    "not 1 > 5"
   ]
  },
  {
   "cell_type": "markdown",
   "id": "f5a32d1e-249f-4384-9c4e-887c81bc5592",
   "metadata": {},
   "source": [
    "- Exemplo not"
   ]
  },
  {
   "cell_type": "code",
   "execution_count": 31,
   "id": "188284a3-04e3-4bfc-81c9-677696f77ead",
   "metadata": {},
   "outputs": [
    {
     "name": "stdin",
     "output_type": "stream",
     "text": [
      "Qual a idade?  -18\n"
     ]
    },
    {
     "name": "stdout",
     "output_type": "stream",
     "text": [
      "Vai nascer.\n"
     ]
    }
   ],
   "source": [
    "idade = int(input('Qual a idade? '))\n",
    "\n",
    "if not idade < 0:\n",
    "    print('De menor.')\n",
    "elif idade < 50 and idade > 18:\n",
    "    print('Adulto.')\n",
    "elif idade < 70  and idade > 50:\n",
    "    print('Idoso.')\n",
    "else:\n",
    "    print('Vai nascer.')"
   ]
  },
  {
   "cell_type": "code",
   "execution_count": null,
   "id": "57e23df6-8adf-4fbd-9a8f-2e6d64611a04",
   "metadata": {},
   "outputs": [],
   "source": []
  }
 ],
 "metadata": {
  "kernelspec": {
   "display_name": "Python 3 (ipykernel)",
   "language": "python",
   "name": "python3"
  },
  "language_info": {
   "codemirror_mode": {
    "name": "ipython",
    "version": 3
   },
   "file_extension": ".py",
   "mimetype": "text/x-python",
   "name": "python",
   "nbconvert_exporter": "python",
   "pygments_lexer": "ipython3",
   "version": "3.11.7"
  }
 },
 "nbformat": 4,
 "nbformat_minor": 5
}
