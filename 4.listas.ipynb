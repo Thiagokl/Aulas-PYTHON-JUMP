{
 "cells": [
  {
   "cell_type": "markdown",
   "id": "6b616648-e8e6-44ef-953e-8238329d07c6",
   "metadata": {},
   "source": [
    "# Listas (list)\n",
    "\n",
    "- A declaração da variável lista deve estar entre []."
   ]
  },
  {
   "cell_type": "code",
   "execution_count": 1,
   "id": "c87ba5af-7c24-4753-94a4-aa020d1103f4",
   "metadata": {},
   "outputs": [
    {
     "data": {
      "text/plain": [
       "['banana', 'maça', 'pera']"
      ]
     },
     "execution_count": 1,
     "metadata": {},
     "output_type": "execute_result"
    }
   ],
   "source": [
    "# criando uma lista \n",
    "lista = ['banana', 'maça', 'pera']\n",
    "lista"
   ]
  },
  {
   "cell_type": "code",
   "execution_count": 2,
   "id": "26e6dfa3-3fd9-4436-af06-b028b8e9e153",
   "metadata": {},
   "outputs": [
    {
     "data": {
      "text/plain": [
       "list"
      ]
     },
     "execution_count": 2,
     "metadata": {},
     "output_type": "execute_result"
    }
   ],
   "source": [
    "# Usando type para verificar o tipo do elemento\n",
    "type(lista)"
   ]
  },
  {
   "cell_type": "code",
   "execution_count": 3,
   "id": "8fef211e-46f3-45af-9762-3a3518714007",
   "metadata": {},
   "outputs": [
    {
     "data": {
      "text/plain": [
       "str"
      ]
     },
     "execution_count": 3,
     "metadata": {},
     "output_type": "execute_result"
    }
   ],
   "source": [
    "type(lista[0])"
   ]
  },
  {
   "cell_type": "code",
   "execution_count": 4,
   "id": "9bad2132-2732-4665-a1e8-318bc25aa0bf",
   "metadata": {},
   "outputs": [
    {
     "data": {
      "text/plain": [
       "int"
      ]
     },
     "execution_count": 4,
     "metadata": {},
     "output_type": "execute_result"
    }
   ],
   "source": [
    "lista2 = [1, 'banana']\n",
    "\n",
    "type(lista2[0])"
   ]
  },
  {
   "cell_type": "code",
   "execution_count": 5,
   "id": "b570b7f3-d277-4ab8-8306-e7211bad412c",
   "metadata": {},
   "outputs": [
    {
     "data": {
      "text/plain": [
       "str"
      ]
     },
     "execution_count": 5,
     "metadata": {},
     "output_type": "execute_result"
    }
   ],
   "source": [
    "type(lista2[1])"
   ]
  },
  {
   "cell_type": "code",
   "execution_count": 6,
   "id": "ddf8c6e4-a264-41b6-8cb6-62384e07b3a5",
   "metadata": {},
   "outputs": [
    {
     "data": {
      "text/plain": [
       "str"
      ]
     },
     "execution_count": 6,
     "metadata": {},
     "output_type": "execute_result"
    }
   ],
   "source": [
    "type('x')"
   ]
  },
  {
   "cell_type": "code",
   "execution_count": 7,
   "id": "1dd788d4-045c-4b00-8032-fdd9f9f338f1",
   "metadata": {},
   "outputs": [
    {
     "data": {
      "text/plain": [
       "'banana'"
      ]
     },
     "execution_count": 7,
     "metadata": {},
     "output_type": "execute_result"
    }
   ],
   "source": [
    "lista[0]"
   ]
  },
  {
   "cell_type": "code",
   "execution_count": 8,
   "id": "c22d6cd2-8572-44d8-9590-f2d7a6062eb3",
   "metadata": {},
   "outputs": [
    {
     "data": {
      "text/plain": [
       "'pera'"
      ]
     },
     "execution_count": 8,
     "metadata": {},
     "output_type": "execute_result"
    }
   ],
   "source": [
    "lista[-1]"
   ]
  },
  {
   "cell_type": "code",
   "execution_count": 9,
   "id": "a41778ba-9d04-462c-a751-8b0565901cee",
   "metadata": {},
   "outputs": [],
   "source": [
    "# atribuir valores a variavel \n",
    "\n",
    "produto1 = lista[0]\n",
    "produto2 = lista[1]\n",
    "produto3 = lista[2]\n"
   ]
  },
  {
   "cell_type": "code",
   "execution_count": 10,
   "id": "89c35d4a-2ba4-449a-b100-b40f6d1ee4d5",
   "metadata": {},
   "outputs": [
    {
     "name": "stdout",
     "output_type": "stream",
     "text": [
      "banana maça pera\n"
     ]
    }
   ],
   "source": [
    "print(produto1,produto2,produto3)"
   ]
  },
  {
   "cell_type": "code",
   "execution_count": 11,
   "id": "f587f48c-43f5-455e-b2f5-e7a28f911bc1",
   "metadata": {},
   "outputs": [
    {
     "data": {
      "text/plain": [
       "'banana'"
      ]
     },
     "execution_count": 11,
     "metadata": {},
     "output_type": "execute_result"
    }
   ],
   "source": [
    "produto1"
   ]
  },
  {
   "cell_type": "code",
   "execution_count": 12,
   "id": "e0baa5db-f5ef-4e93-9bc3-e38899b0eedd",
   "metadata": {},
   "outputs": [
    {
     "data": {
      "text/plain": [
       "['banana', 'maça', 'pera']"
      ]
     },
     "execution_count": 12,
     "metadata": {},
     "output_type": "execute_result"
    }
   ],
   "source": [
    "# Alterando valores de uma lista\n",
    "lista"
   ]
  },
  {
   "cell_type": "code",
   "execution_count": 13,
   "id": "7830299f-ef58-4fe8-aee6-2a7457e910c1",
   "metadata": {},
   "outputs": [],
   "source": [
    "lista[0] = 'melancia'"
   ]
  },
  {
   "cell_type": "code",
   "execution_count": 14,
   "id": "2c6d2911-05b3-407e-855b-cc4de4af65fb",
   "metadata": {},
   "outputs": [
    {
     "data": {
      "text/plain": [
       "['melancia', 'maça', 'pera']"
      ]
     },
     "execution_count": 14,
     "metadata": {},
     "output_type": "execute_result"
    }
   ],
   "source": [
    "lista"
   ]
  },
  {
   "cell_type": "code",
   "execution_count": 15,
   "id": "5784a18e-6b39-452d-b204-32036c5514d9",
   "metadata": {
    "scrolled": true
   },
   "outputs": [
    {
     "ename": "TypeError",
     "evalue": "list indices must be integers or slices, not str",
     "output_type": "error",
     "traceback": [
      "\u001b[1;31m---------------------------------------------------------------------------\u001b[0m",
      "\u001b[1;31mTypeError\u001b[0m                                 Traceback (most recent call last)",
      "Cell \u001b[1;32mIn[15], line 1\u001b[0m\n\u001b[1;32m----> 1\u001b[0m lista[\u001b[38;5;124m'\u001b[39m\u001b[38;5;124mmelancia\u001b[39m\u001b[38;5;124m'\u001b[39m]\n",
      "\u001b[1;31mTypeError\u001b[0m: list indices must be integers or slices, not str"
     ]
    }
   ],
   "source": [
    "lista['melancia'] "
   ]
  },
  {
   "cell_type": "code",
   "execution_count": 21,
   "id": "37aaac67-5969-4cf2-bc8b-3f79a68856da",
   "metadata": {},
   "outputs": [
    {
     "data": {
      "text/plain": [
       "0"
      ]
     },
     "execution_count": 21,
     "metadata": {},
     "output_type": "execute_result"
    }
   ],
   "source": [
    "lista.index('melancia')"
   ]
  },
  {
   "cell_type": "code",
   "execution_count": 22,
   "id": "451845af-0c26-4cf2-90a8-68a8daa21996",
   "metadata": {},
   "outputs": [
    {
     "data": {
      "text/plain": [
       "'melancia'"
      ]
     },
     "execution_count": 22,
     "metadata": {},
     "output_type": "execute_result"
    }
   ],
   "source": [
    "lista[lista.index('melancia')] "
   ]
  },
  {
   "cell_type": "code",
   "execution_count": 26,
   "id": "d6889c81-af6a-469d-9b90-4560034a59f6",
   "metadata": {},
   "outputs": [
    {
     "data": {
      "text/plain": [
       "0"
      ]
     },
     "execution_count": 26,
     "metadata": {},
     "output_type": "execute_result"
    }
   ],
   "source": [
    "lista_pera = ['pera', 'maça', 'pera']\n",
    "\n",
    "lista_pera.index('pera')"
   ]
  },
  {
   "cell_type": "code",
   "execution_count": 27,
   "id": "ae6815b5-8c6c-4f6e-b2e2-773f58cc67f8",
   "metadata": {},
   "outputs": [
    {
     "data": {
      "text/plain": [
       "2"
      ]
     },
     "execution_count": 27,
     "metadata": {},
     "output_type": "execute_result"
    }
   ],
   "source": [
    "lista_pera.index('pera', 1)"
   ]
  },
  {
   "cell_type": "markdown",
   "id": "86a20b01-7614-4ef7-b4c5-e19901a06e00",
   "metadata": {},
   "source": [
    "#### del\n",
    "- É possível deletar elementos da lista"
   ]
  },
  {
   "cell_type": "code",
   "execution_count": 28,
   "id": "76f1e039-9e92-4e9d-a147-6157ce55173c",
   "metadata": {},
   "outputs": [],
   "source": [
    "# deletar valor de uma lista \n",
    "\n",
    "del lista_pera[2]\n"
   ]
  },
  {
   "cell_type": "code",
   "execution_count": 29,
   "id": "4dbccaa1-3de5-4a0b-8b47-708403fd62d8",
   "metadata": {},
   "outputs": [
    {
     "data": {
      "text/plain": [
       "['pera', 'maça']"
      ]
     },
     "execution_count": 29,
     "metadata": {},
     "output_type": "execute_result"
    }
   ],
   "source": [
    "lista_pera"
   ]
  },
  {
   "cell_type": "code",
   "execution_count": 39,
   "id": "d881ef09-9d08-46c1-80e9-27f4fa3b8520",
   "metadata": {},
   "outputs": [],
   "source": [
    "del lista_pera[0]"
   ]
  },
  {
   "cell_type": "code",
   "execution_count": 31,
   "id": "5ccbe9ec-eca1-4fb4-b69d-8ffa8b088051",
   "metadata": {},
   "outputs": [
    {
     "data": {
      "text/plain": [
       "['maça']"
      ]
     },
     "execution_count": 31,
     "metadata": {},
     "output_type": "execute_result"
    }
   ],
   "source": [
    "lista_pera"
   ]
  },
  {
   "cell_type": "markdown",
   "id": "d26b4519-3397-4017-9f0e-02b6a7d3e8c4",
   "metadata": {},
   "source": [
    "#### pop\n",
    "- É possível deletar elementos da lista a partir do index\n",
    "- Caso não tenha nenhum index, o programa irá excluir o último item da lista"
   ]
  },
  {
   "cell_type": "code",
   "execution_count": 44,
   "id": "48284f31-67bb-403f-86e6-40e80ac29603",
   "metadata": {},
   "outputs": [
    {
     "data": {
      "text/plain": [
       "'pera'"
      ]
     },
     "execution_count": 44,
     "metadata": {},
     "output_type": "execute_result"
    }
   ],
   "source": [
    "lista_pera = ['pera', 'maça', 'pera']\n",
    "lista_pera.pop()"
   ]
  },
  {
   "cell_type": "code",
   "execution_count": 48,
   "id": "7d5693ce-74fd-41bb-8aeb-f1e773a97014",
   "metadata": {},
   "outputs": [
    {
     "data": {
      "text/plain": [
       "['pera', 'maça']"
      ]
     },
     "execution_count": 48,
     "metadata": {},
     "output_type": "execute_result"
    }
   ],
   "source": [
    "lista_pera"
   ]
  },
  {
   "cell_type": "code",
   "execution_count": 49,
   "id": "2cb513c6-7e68-462d-854a-d81269c86a4e",
   "metadata": {},
   "outputs": [],
   "source": [
    "fruta = lista_pera.pop()"
   ]
  },
  {
   "cell_type": "code",
   "execution_count": 50,
   "id": "d1df14ee-e64a-45ec-af7a-b337205fb7bb",
   "metadata": {},
   "outputs": [
    {
     "data": {
      "text/plain": [
       "'maça'"
      ]
     },
     "execution_count": 50,
     "metadata": {},
     "output_type": "execute_result"
    }
   ],
   "source": [
    "fruta"
   ]
  },
  {
   "cell_type": "code",
   "execution_count": 51,
   "id": "1e6e432c-7de3-4ccc-bac7-20631b1f17fc",
   "metadata": {},
   "outputs": [
    {
     "data": {
      "text/plain": [
       "['pera']"
      ]
     },
     "execution_count": 51,
     "metadata": {},
     "output_type": "execute_result"
    }
   ],
   "source": [
    "lista_pera"
   ]
  },
  {
   "cell_type": "markdown",
   "id": "abff032d-c964-4ed7-adcb-6dd84edd4027",
   "metadata": {},
   "source": [
    "#### Listas de linhas - listas aninhadas (são matrizes para o Python)"
   ]
  },
  {
   "cell_type": "code",
   "execution_count": 53,
   "id": "627c1360-55d7-47dd-ac50-2e425f93229e",
   "metadata": {},
   "outputs": [],
   "source": [
    "idades=[[18, 20, 50], [9, 8, 5]]"
   ]
  },
  {
   "cell_type": "code",
   "execution_count": 56,
   "id": "39a52fe7-9a3b-48b8-8f10-960937a2e347",
   "metadata": {},
   "outputs": [
    {
     "data": {
      "text/plain": [
       "2"
      ]
     },
     "execution_count": 56,
     "metadata": {},
     "output_type": "execute_result"
    }
   ],
   "source": [
    "len(idades)"
   ]
  },
  {
   "cell_type": "code",
   "execution_count": 60,
   "id": "3c0b2831-60c4-4dc9-bd93-9442afa4a448",
   "metadata": {},
   "outputs": [
    {
     "data": {
      "text/plain": [
       "3"
      ]
     },
     "execution_count": 60,
     "metadata": {},
     "output_type": "execute_result"
    }
   ],
   "source": [
    "len(idades[1])"
   ]
  },
  {
   "cell_type": "code",
   "execution_count": 61,
   "id": "14986b6c-5048-4d61-bb4f-2d2c5e267617",
   "metadata": {},
   "outputs": [
    {
     "data": {
      "text/plain": [
       "[9, 8, 5]"
      ]
     },
     "execution_count": 61,
     "metadata": {},
     "output_type": "execute_result"
    }
   ],
   "source": [
    "idades[1]"
   ]
  },
  {
   "cell_type": "code",
   "execution_count": 64,
   "id": "544a3bf6-4d64-44a5-a414-84d392e392c2",
   "metadata": {},
   "outputs": [
    {
     "data": {
      "text/plain": [
       "5"
      ]
     },
     "execution_count": 64,
     "metadata": {},
     "output_type": "execute_result"
    }
   ],
   "source": [
    "idades[-1][-1]"
   ]
  },
  {
   "cell_type": "code",
   "execution_count": 65,
   "id": "2e131b32-fe20-44b2-a2bc-75497c260f52",
   "metadata": {},
   "outputs": [
    {
     "data": {
      "text/plain": [
       "18"
      ]
     },
     "execution_count": 65,
     "metadata": {},
     "output_type": "execute_result"
    }
   ],
   "source": [
    "idades[0][0]"
   ]
  },
  {
   "cell_type": "code",
   "execution_count": 67,
   "id": "7075f40a-30a1-465e-9159-57f9005effbe",
   "metadata": {},
   "outputs": [],
   "source": [
    "idades=[[18, 20, 50], [9, 8, 5], ['banana', 'maça', 'uva']]"
   ]
  },
  {
   "cell_type": "code",
   "execution_count": 68,
   "id": "32014244-d1ea-4673-8b9f-6eec67f21575",
   "metadata": {},
   "outputs": [
    {
     "data": {
      "text/plain": [
       "8"
      ]
     },
     "execution_count": 68,
     "metadata": {},
     "output_type": "execute_result"
    }
   ],
   "source": [
    "idades[1][1]"
   ]
  },
  {
   "cell_type": "markdown",
   "id": "1326d86e-f7d1-4562-addb-45e2eb0850e1",
   "metadata": {},
   "source": [
    "#### Operações com listas"
   ]
  },
  {
   "cell_type": "code",
   "execution_count": 69,
   "id": "e5887e95-b1e0-4910-bf12-021b84184018",
   "metadata": {},
   "outputs": [
    {
     "data": {
      "text/plain": [
       "18"
      ]
     },
     "execution_count": 69,
     "metadata": {},
     "output_type": "execute_result"
    }
   ],
   "source": [
    "idades[1][1] + 10"
   ]
  },
  {
   "cell_type": "code",
   "execution_count": 71,
   "id": "c6af8cea-d0a2-4871-af8d-20c1a4a220b7",
   "metadata": {},
   "outputs": [
    {
     "data": {
      "text/plain": [
       "list"
      ]
     },
     "execution_count": 71,
     "metadata": {},
     "output_type": "execute_result"
    }
   ],
   "source": [
    "type(idades[1])"
   ]
  },
  {
   "cell_type": "code",
   "execution_count": 88,
   "id": "718c95bc-9588-479c-8e49-458eb3a287fe",
   "metadata": {},
   "outputs": [],
   "source": [
    "# atualizando o item de uma lista de uma lista \n",
    "idades[0][1]= idades[0][1]+ 10"
   ]
  },
  {
   "cell_type": "code",
   "execution_count": 89,
   "id": "3f80d019-f6fb-4b2a-aca9-72558928f537",
   "metadata": {},
   "outputs": [
    {
     "data": {
      "text/plain": [
       "[[18, 40, 50], [9, 30, 5], ['banana', 'maça', 'uva']]"
      ]
     },
     "execution_count": 89,
     "metadata": {},
     "output_type": "execute_result"
    }
   ],
   "source": [
    "idades"
   ]
  },
  {
   "cell_type": "code",
   "execution_count": 91,
   "id": "fd3b91f6-6fec-4081-9a25-2bca996cd9ee",
   "metadata": {},
   "outputs": [],
   "source": [
    "# atualizando o item de uma lista de uma lista \n",
    "idades[2][1]= idades[2][1] + '10'"
   ]
  },
  {
   "cell_type": "code",
   "execution_count": 92,
   "id": "051c7f3c-886f-403f-97cd-168d97ff04c2",
   "metadata": {},
   "outputs": [
    {
     "data": {
      "text/plain": [
       "[[18, 40, 50], [9, 30, 5], ['banana', 'maça10', 'uva']]"
      ]
     },
     "execution_count": 92,
     "metadata": {},
     "output_type": "execute_result"
    }
   ],
   "source": [
    "idades"
   ]
  },
  {
   "cell_type": "code",
   "execution_count": 93,
   "id": "07d87c6b-dfc7-4057-934f-7aeccf3d88d3",
   "metadata": {},
   "outputs": [],
   "source": [
    "# atualizando o item de uma lista de uma lista \n",
    "idades[2][0]= idades[2][0]*2"
   ]
  },
  {
   "cell_type": "code",
   "execution_count": 94,
   "id": "af709ce4-af68-49ab-97dd-9a5b6786b575",
   "metadata": {},
   "outputs": [
    {
     "data": {
      "text/plain": [
       "[[18, 40, 50], [9, 30, 5], ['bananabanana', 'maça10', 'uva']]"
      ]
     },
     "execution_count": 94,
     "metadata": {},
     "output_type": "execute_result"
    }
   ],
   "source": [
    "idades"
   ]
  },
  {
   "cell_type": "code",
   "execution_count": 98,
   "id": "5e09cd5d-3c1c-495b-b261-dc7e212771c3",
   "metadata": {},
   "outputs": [
    {
     "data": {
      "text/plain": [
       "1"
      ]
     },
     "execution_count": 98,
     "metadata": {},
     "output_type": "execute_result"
    }
   ],
   "source": [
    "idades[2].index('maça10')"
   ]
  },
  {
   "cell_type": "markdown",
   "id": "a6be03f2-5e7e-4d81-9a92-eab5366030a3",
   "metadata": {},
   "source": [
    "#### Concatenando listas"
   ]
  },
  {
   "cell_type": "code",
   "execution_count": 99,
   "id": "f24e7502-1a63-42eb-9706-8712c05fabf6",
   "metadata": {},
   "outputs": [],
   "source": [
    "lista_1 = [\n",
    "    1,\n",
    "    2,\n",
    "    3,\n",
    "    4\n",
    "]\n",
    "\n",
    "lista_2 = [\n",
    "    4,\n",
    "    5,\n",
    "    6\n",
    "]"
   ]
  },
  {
   "cell_type": "code",
   "execution_count": 101,
   "id": "2020106d-41ef-41db-85b0-18bfb26fb1dc",
   "metadata": {},
   "outputs": [],
   "source": [
    "lista_3 = lista_1 + lista_2"
   ]
  },
  {
   "cell_type": "code",
   "execution_count": 102,
   "id": "de2b9ea6-2e1d-475a-99c3-ce83e9b13a77",
   "metadata": {},
   "outputs": [
    {
     "data": {
      "text/plain": [
       "[1, 2, 3, 4, 4, 5, 6, 'a', 'b', 'c']"
      ]
     },
     "execution_count": 102,
     "metadata": {},
     "output_type": "execute_result"
    }
   ],
   "source": [
    "lista_4 = ['a', 'b', 'c']\n",
    "\n",
    "lista_3 + lista_4 "
   ]
  },
  {
   "cell_type": "markdown",
   "id": "bad2b8ca-3c4b-412d-a21f-d42e54d87347",
   "metadata": {},
   "source": [
    "#### in\n",
    "- É possível verificar se um valor pertence a lista"
   ]
  },
  {
   "cell_type": "code",
   "execution_count": 106,
   "id": "5e41bea9-ab01-43bd-a801-5ff7449d279a",
   "metadata": {},
   "outputs": [
    {
     "data": {
      "text/plain": [
       "False"
      ]
     },
     "execution_count": 106,
     "metadata": {},
     "output_type": "execute_result"
    }
   ],
   "source": [
    "1 in lista_4"
   ]
  },
  {
   "cell_type": "code",
   "execution_count": 104,
   "id": "5b30c196-9d7f-4fc3-9458-893d2c4e18e8",
   "metadata": {},
   "outputs": [
    {
     "data": {
      "text/plain": [
       "True"
      ]
     },
     "execution_count": 104,
     "metadata": {},
     "output_type": "execute_result"
    }
   ],
   "source": [
    "'a' in lista_4"
   ]
  },
  {
   "cell_type": "code",
   "execution_count": 107,
   "id": "2ebbc6bd-cc0e-4590-b68d-c53ca586c803",
   "metadata": {},
   "outputs": [
    {
     "data": {
      "text/plain": [
       "True"
      ]
     },
     "execution_count": 107,
     "metadata": {},
     "output_type": "execute_result"
    }
   ],
   "source": [
    "1 in (lista_4 + lista_3)"
   ]
  },
  {
   "cell_type": "markdown",
   "id": "1d2c1ba9-bba6-4982-ba69-4cc6cc62947b",
   "metadata": {},
   "source": [
    "#### len\n",
    "- É possível verificar a quantidade de elementos das listas"
   ]
  },
  {
   "cell_type": "code",
   "execution_count": 109,
   "id": "04d11704-1c3f-41bb-be90-2b6cea66a3d5",
   "metadata": {},
   "outputs": [
    {
     "data": {
      "text/plain": [
       "[1, 2, 3, 4, 4, 5, 6, 'a', 'b', 'c']"
      ]
     },
     "execution_count": 109,
     "metadata": {},
     "output_type": "execute_result"
    }
   ],
   "source": [
    "lista_5 = lista_3 + lista_4 \n",
    "lista_5 "
   ]
  },
  {
   "cell_type": "code",
   "execution_count": 110,
   "id": "0d515caf-80c9-41a9-a1ef-c9c7e9941765",
   "metadata": {},
   "outputs": [
    {
     "data": {
      "text/plain": [
       "10"
      ]
     },
     "execution_count": 110,
     "metadata": {},
     "output_type": "execute_result"
    }
   ],
   "source": [
    "len(lista_5)"
   ]
  },
  {
   "cell_type": "markdown",
   "id": "3db41621-69af-4228-9129-62533866bb4e",
   "metadata": {},
   "source": [
    "###### max\n",
    "- É possível identificar o valor máximo da lista"
   ]
  },
  {
   "cell_type": "code",
   "execution_count": 111,
   "id": "4e06365b-a976-4af8-aaa3-c1db11930a76",
   "metadata": {},
   "outputs": [
    {
     "ename": "TypeError",
     "evalue": "'>' not supported between instances of 'str' and 'int'",
     "output_type": "error",
     "traceback": [
      "\u001b[1;31m---------------------------------------------------------------------------\u001b[0m",
      "\u001b[1;31mTypeError\u001b[0m                                 Traceback (most recent call last)",
      "Cell \u001b[1;32mIn[111], line 1\u001b[0m\n\u001b[1;32m----> 1\u001b[0m \u001b[38;5;28mmax\u001b[39m(lista_5)\n",
      "\u001b[1;31mTypeError\u001b[0m: '>' not supported between instances of 'str' and 'int'"
     ]
    }
   ],
   "source": [
    "max(lista_5)"
   ]
  },
  {
   "cell_type": "code",
   "execution_count": 112,
   "id": "097cc336-250b-4f43-9b19-b3d891d3cee0",
   "metadata": {},
   "outputs": [
    {
     "data": {
      "text/plain": [
       "[1, 2, 3, 4, 4, 5, 6]"
      ]
     },
     "execution_count": 112,
     "metadata": {},
     "output_type": "execute_result"
    }
   ],
   "source": [
    "lista_3"
   ]
  },
  {
   "cell_type": "code",
   "execution_count": 113,
   "id": "fc20b7c0-045b-4079-8a98-c38226cff863",
   "metadata": {},
   "outputs": [
    {
     "data": {
      "text/plain": [
       "6"
      ]
     },
     "execution_count": 113,
     "metadata": {},
     "output_type": "execute_result"
    }
   ],
   "source": [
    "max(lista_3)"
   ]
  },
  {
   "cell_type": "markdown",
   "id": "32b91111-ef2c-4b96-b416-171a23feeb33",
   "metadata": {},
   "source": [
    "#### min \n",
    "- É possível identificar o valor mínimo da lista"
   ]
  },
  {
   "cell_type": "code",
   "execution_count": 116,
   "id": "c8702c33-41d4-4cf7-bd08-a9cb2807baac",
   "metadata": {},
   "outputs": [
    {
     "data": {
      "text/plain": [
       "['a', 'b', 'c']"
      ]
     },
     "execution_count": 116,
     "metadata": {},
     "output_type": "execute_result"
    }
   ],
   "source": [
    "lista_4"
   ]
  },
  {
   "cell_type": "code",
   "execution_count": 115,
   "id": "ee650564-40c7-4ce5-8c84-3f9585bca8d3",
   "metadata": {},
   "outputs": [
    {
     "data": {
      "text/plain": [
       "'a'"
      ]
     },
     "execution_count": 115,
     "metadata": {},
     "output_type": "execute_result"
    }
   ],
   "source": [
    "min(lista_4)"
   ]
  },
  {
   "cell_type": "code",
   "execution_count": 117,
   "id": "8e78a415-0afa-476c-b7d0-7136b9f96657",
   "metadata": {},
   "outputs": [
    {
     "data": {
      "text/plain": [
       "'c'"
      ]
     },
     "execution_count": 117,
     "metadata": {},
     "output_type": "execute_result"
    }
   ],
   "source": [
    "max(lista_4)"
   ]
  },
  {
   "cell_type": "code",
   "execution_count": 118,
   "id": "9bfdd502-b692-4401-ae63-796253901f8e",
   "metadata": {},
   "outputs": [
    {
     "data": {
      "text/plain": [
       "'%'"
      ]
     },
     "execution_count": 118,
     "metadata": {},
     "output_type": "execute_result"
    }
   ],
   "source": [
    "alfa = ['z', 'a', '%']\n",
    "\n",
    "min(alfa)"
   ]
  },
  {
   "cell_type": "code",
   "execution_count": 119,
   "id": "ddd538e3-8f24-441f-9823-7446c647bc01",
   "metadata": {},
   "outputs": [
    {
     "data": {
      "text/plain": [
       "'z'"
      ]
     },
     "execution_count": 119,
     "metadata": {},
     "output_type": "execute_result"
    }
   ],
   "source": [
    "max(alfa)"
   ]
  },
  {
   "cell_type": "markdown",
   "id": "aef9b23e-1a8e-4e03-9500-0b4dbd9f6eff",
   "metadata": {},
   "source": [
    "#### sum\n",
    "- É a soma dos elementos da lista"
   ]
  },
  {
   "cell_type": "code",
   "execution_count": 121,
   "id": "bc2165e9-07fe-4b64-895b-66666f7a4484",
   "metadata": {},
   "outputs": [
    {
     "data": {
      "text/plain": [
       "98.5"
      ]
     },
     "execution_count": 121,
     "metadata": {},
     "output_type": "execute_result"
    }
   ],
   "source": [
    "lista_sum = [10, 20, 68.5]\n",
    "\n",
    "sum(lista_sum)"
   ]
  },
  {
   "cell_type": "code",
   "execution_count": 122,
   "id": "d7f3495e-1c46-4656-a23e-09bbd7549312",
   "metadata": {},
   "outputs": [
    {
     "ename": "TypeError",
     "evalue": "unsupported operand type(s) for +: 'int' and 'str'",
     "output_type": "error",
     "traceback": [
      "\u001b[1;31m---------------------------------------------------------------------------\u001b[0m",
      "\u001b[1;31mTypeError\u001b[0m                                 Traceback (most recent call last)",
      "Cell \u001b[1;32mIn[122], line 1\u001b[0m\n\u001b[1;32m----> 1\u001b[0m \u001b[38;5;28msum\u001b[39m(alfa)\n",
      "\u001b[1;31mTypeError\u001b[0m: unsupported operand type(s) for +: 'int' and 'str'"
     ]
    }
   ],
   "source": [
    "sum(alfa)"
   ]
  },
  {
   "cell_type": "markdown",
   "id": "d2638c26-8e67-43b9-9af3-8887691a530d",
   "metadata": {},
   "source": [
    "#### append\n",
    "- É possível adicionar novos itens a uma lista já existente"
   ]
  },
  {
   "cell_type": "code",
   "execution_count": 123,
   "id": "f489269e-41dd-4da9-86dd-be1c2f00f7d1",
   "metadata": {},
   "outputs": [
    {
     "data": {
      "text/plain": [
       "['Lucas', 'João', 'Jéssica']"
      ]
     },
     "execution_count": 123,
     "metadata": {},
     "output_type": "execute_result"
    }
   ],
   "source": [
    "nomes = ['Lucas', 'João', 'Jéssica']\n",
    "nomes "
   ]
  },
  {
   "cell_type": "code",
   "execution_count": 124,
   "id": "81e46747-ab86-4111-abb0-900d45bf573e",
   "metadata": {},
   "outputs": [],
   "source": [
    "nomes.append('Pedro')"
   ]
  },
  {
   "cell_type": "code",
   "execution_count": 125,
   "id": "147e81fd-f787-4484-895c-46f10635b11d",
   "metadata": {},
   "outputs": [
    {
     "data": {
      "text/plain": [
       "['Lucas', 'João', 'Jéssica', 'Pedro']"
      ]
     },
     "execution_count": 125,
     "metadata": {},
     "output_type": "execute_result"
    }
   ],
   "source": [
    "nomes"
   ]
  },
  {
   "cell_type": "code",
   "execution_count": 126,
   "id": "eabf03ae-85d8-4788-a0ce-2b5278b0187c",
   "metadata": {},
   "outputs": [],
   "source": [
    "nomes.append(1)"
   ]
  },
  {
   "cell_type": "code",
   "execution_count": 128,
   "id": "06f266ef-acb2-4ecb-8a19-eccd2ebee71c",
   "metadata": {},
   "outputs": [],
   "source": [
    "nomes[0] = 'Pedro'"
   ]
  },
  {
   "cell_type": "code",
   "execution_count": 129,
   "id": "4257c10d-f1fc-4dc6-9c50-f79412fd46e1",
   "metadata": {},
   "outputs": [
    {
     "data": {
      "text/plain": [
       "['Pedro', 'João', 'Jéssica', 'Pedro', 1]"
      ]
     },
     "execution_count": 129,
     "metadata": {},
     "output_type": "execute_result"
    }
   ],
   "source": [
    "nomes"
   ]
  },
  {
   "cell_type": "code",
   "execution_count": 130,
   "id": "d81d9d28-7482-4b45-b513-2fdc3de5fa68",
   "metadata": {},
   "outputs": [],
   "source": [
    "nomes.append([1,2,3])"
   ]
  },
  {
   "cell_type": "code",
   "execution_count": 131,
   "id": "694a4afe-ad83-44f6-8dae-09d6eba6c560",
   "metadata": {},
   "outputs": [
    {
     "data": {
      "text/plain": [
       "['Pedro', 'João', 'Jéssica', 'Pedro', 1, [1, 2, 3]]"
      ]
     },
     "execution_count": 131,
     "metadata": {},
     "output_type": "execute_result"
    }
   ],
   "source": [
    "nomes"
   ]
  },
  {
   "cell_type": "markdown",
   "id": "676f1dcf-7305-436f-b4a9-a784afe8a6fb",
   "metadata": {},
   "source": [
    "#### extend\n",
    "- É possível adicionar vários elementos à uma lista"
   ]
  },
  {
   "cell_type": "code",
   "execution_count": 132,
   "id": "1ce33b18-1518-4928-a661-57db3d832e1d",
   "metadata": {},
   "outputs": [],
   "source": [
    "nomes.extend([1,2,3])"
   ]
  },
  {
   "cell_type": "code",
   "execution_count": 133,
   "id": "a7e06d45-3e07-43c2-8f13-3742a8d086ab",
   "metadata": {},
   "outputs": [
    {
     "data": {
      "text/plain": [
       "['Pedro', 'João', 'Jéssica', 'Pedro', 1, [1, 2, 3], 1, 2, 3]"
      ]
     },
     "execution_count": 133,
     "metadata": {},
     "output_type": "execute_result"
    }
   ],
   "source": [
    "nomes"
   ]
  },
  {
   "cell_type": "markdown",
   "id": "4f5e33f2-0fe8-432d-b854-9b3b8ab90779",
   "metadata": {},
   "source": [
    "#### +="
   ]
  },
  {
   "cell_type": "code",
   "execution_count": 141,
   "id": "5ceba207-884d-43e8-bbcf-bc28887f2ab5",
   "metadata": {},
   "outputs": [],
   "source": [
    "numeros = [1, 2, 3]"
   ]
  },
  {
   "cell_type": "code",
   "execution_count": 148,
   "id": "36d97aa4-efc5-4cba-b9a8-4fbf0e70cf13",
   "metadata": {},
   "outputs": [],
   "source": [
    "numeros[2] /= 5"
   ]
  },
  {
   "cell_type": "code",
   "execution_count": 149,
   "id": "ea24a2bf-edd4-4078-b930-ffc84b6ab084",
   "metadata": {},
   "outputs": [
    {
     "data": {
      "text/plain": [
       "[1, 2, 3.0]"
      ]
     },
     "execution_count": 149,
     "metadata": {},
     "output_type": "execute_result"
    }
   ],
   "source": [
    "numeros"
   ]
  },
  {
   "cell_type": "code",
   "execution_count": 151,
   "id": "420b5702-210f-4e0f-88ef-667655398628",
   "metadata": {},
   "outputs": [],
   "source": [
    "numeros = [1, 2, 3]"
   ]
  },
  {
   "cell_type": "code",
   "execution_count": 152,
   "id": "c3e8fac0-eecd-4bd0-ad1a-11e683c103b3",
   "metadata": {},
   "outputs": [],
   "source": [
    "numeros[2] = numeros[2] + 5"
   ]
  },
  {
   "cell_type": "code",
   "execution_count": 153,
   "id": "deb4d838-1792-4693-8ba6-871453652850",
   "metadata": {},
   "outputs": [
    {
     "data": {
      "text/plain": [
       "[1, 2, 8]"
      ]
     },
     "execution_count": 153,
     "metadata": {},
     "output_type": "execute_result"
    }
   ],
   "source": [
    "numeros"
   ]
  },
  {
   "cell_type": "markdown",
   "id": "5f4aef07-0cdc-4779-a7bd-1f33d4373962",
   "metadata": {},
   "source": [
    "#### index \n",
    "- É possível retornar o index de determinado elemento na lista"
   ]
  },
  {
   "cell_type": "code",
   "execution_count": 155,
   "id": "eedebf3e-188f-4895-a8d7-4b8b08f8b661",
   "metadata": {},
   "outputs": [
    {
     "data": {
      "text/plain": [
       "2"
      ]
     },
     "execution_count": 155,
     "metadata": {},
     "output_type": "execute_result"
    }
   ],
   "source": [
    "numeros.index(8)"
   ]
  },
  {
   "cell_type": "markdown",
   "id": "1ff09108-3299-45dc-88b6-614c8ba0b04a",
   "metadata": {},
   "source": [
    "#### insert\n",
    "- É utilizado para inserir itens na lista"
   ]
  },
  {
   "cell_type": "code",
   "execution_count": 156,
   "id": "88602e4e-7321-43fc-a709-9edd0796fcc9",
   "metadata": {},
   "outputs": [],
   "source": [
    "nomes = ['Lucas', 'João', 'Jéssica']\n",
    "\n",
    "nomes.insert(0, 'Pedro')"
   ]
  },
  {
   "cell_type": "code",
   "execution_count": 157,
   "id": "cde485bd-fc18-4de9-901f-b590a274ca45",
   "metadata": {},
   "outputs": [
    {
     "data": {
      "text/plain": [
       "['Pedro', 'Lucas', 'João', 'Jéssica']"
      ]
     },
     "execution_count": 157,
     "metadata": {},
     "output_type": "execute_result"
    }
   ],
   "source": [
    "nomes"
   ]
  },
  {
   "cell_type": "markdown",
   "id": "7aeed3d2-980a-40b9-9898-44cc08eea104",
   "metadata": {},
   "source": [
    "#### remove\n",
    "- É utilizado para remover determinado item da lista"
   ]
  },
  {
   "cell_type": "code",
   "execution_count": 158,
   "id": "83b8ce70-8279-48e5-9d83-163ae4773018",
   "metadata": {},
   "outputs": [],
   "source": [
    "nomes.remove('Lucas')"
   ]
  },
  {
   "cell_type": "code",
   "execution_count": 159,
   "id": "d66cad6b-8d64-429c-bab0-2991919eae59",
   "metadata": {},
   "outputs": [
    {
     "data": {
      "text/plain": [
       "['Pedro', 'João', 'Jéssica']"
      ]
     },
     "execution_count": 159,
     "metadata": {},
     "output_type": "execute_result"
    }
   ],
   "source": [
    "nomes"
   ]
  },
  {
   "cell_type": "code",
   "execution_count": 169,
   "id": "7fae3e62-e0e1-4844-ae2e-0f5cd7827b42",
   "metadata": {},
   "outputs": [],
   "source": [
    "nomes = ['Lucas','Pedro', 'João', 'Jéssica','Lucas', 4]\n",
    "nomes.remove('Lucas')"
   ]
  },
  {
   "cell_type": "code",
   "execution_count": 170,
   "id": "ce14f623-811f-410f-abdd-b0f4e77957fd",
   "metadata": {},
   "outputs": [
    {
     "data": {
      "text/plain": [
       "['Pedro', 'João', 'Jéssica', 'Lucas', 4]"
      ]
     },
     "execution_count": 170,
     "metadata": {},
     "output_type": "execute_result"
    }
   ],
   "source": [
    "nomes"
   ]
  },
  {
   "cell_type": "code",
   "execution_count": 171,
   "id": "bf9180c6-b5b9-46fa-991b-cd2a1686dafe",
   "metadata": {},
   "outputs": [],
   "source": [
    "nomes.remove(4)"
   ]
  },
  {
   "cell_type": "code",
   "execution_count": 172,
   "id": "d76fc83e-bc8a-4338-ac94-348c8381f03a",
   "metadata": {},
   "outputs": [
    {
     "data": {
      "text/plain": [
       "['Pedro', 'João', 'Jéssica', 'Lucas']"
      ]
     },
     "execution_count": 172,
     "metadata": {},
     "output_type": "execute_result"
    }
   ],
   "source": [
    "nomes"
   ]
  },
  {
   "cell_type": "code",
   "execution_count": 173,
   "id": "e3f6844a-a034-4e40-a82b-1dc451a333ab",
   "metadata": {},
   "outputs": [
    {
     "data": {
      "text/plain": [
       "'Lucas'"
      ]
     },
     "execution_count": 173,
     "metadata": {},
     "output_type": "execute_result"
    }
   ],
   "source": [
    "nomes.pop(3)"
   ]
  },
  {
   "cell_type": "markdown",
   "id": "3b4ffe53-b110-4b33-8cc9-e65282d5396f",
   "metadata": {},
   "source": [
    "#### count\n",
    "- É possível verificar a quantidade de ocorrências de determinado elemento em uma lista"
   ]
  },
  {
   "cell_type": "code",
   "execution_count": 174,
   "id": "6803be62-bdf3-40bd-a533-88e912060e6f",
   "metadata": {},
   "outputs": [
    {
     "data": {
      "text/plain": [
       "2"
      ]
     },
     "execution_count": 174,
     "metadata": {},
     "output_type": "execute_result"
    }
   ],
   "source": [
    "lista_count = [1, 1, 11, 15, 111]\n",
    "\n",
    "lista_count.count(1)"
   ]
  },
  {
   "cell_type": "code",
   "execution_count": 175,
   "id": "ed1ca85c-ada3-4a20-a941-a01f9658dfba",
   "metadata": {},
   "outputs": [
    {
     "data": {
      "text/plain": [
       "1"
      ]
     },
     "execution_count": 175,
     "metadata": {},
     "output_type": "execute_result"
    }
   ],
   "source": [
    "lista_count.count(11)"
   ]
  },
  {
   "cell_type": "code",
   "execution_count": 176,
   "id": "ae773f3e-375b-471c-8407-72335d01c468",
   "metadata": {},
   "outputs": [
    {
     "data": {
      "text/plain": [
       "1"
      ]
     },
     "execution_count": 176,
     "metadata": {},
     "output_type": "execute_result"
    }
   ],
   "source": [
    "lista_count.count(111)"
   ]
  },
  {
   "cell_type": "markdown",
   "id": "e09ae67b-0755-4345-96ca-d2cfddee0972",
   "metadata": {},
   "source": [
    "# Exercício \n",
    "### Pesquise as funções:\n",
    "- reverse\n",
    "- sort\n",
    "- copy"
   ]
  },
  {
   "cell_type": "code",
   "execution_count": null,
   "id": "1ab60ffd-ae1a-4735-9a8b-1b977b25632d",
   "metadata": {},
   "outputs": [],
   "source": []
  }
 ],
 "metadata": {
  "kernelspec": {
   "display_name": "Python 3 (ipykernel)",
   "language": "python",
   "name": "python3"
  },
  "language_info": {
   "codemirror_mode": {
    "name": "ipython",
    "version": 3
   },
   "file_extension": ".py",
   "mimetype": "text/x-python",
   "name": "python",
   "nbconvert_exporter": "python",
   "pygments_lexer": "ipython3",
   "version": "3.11.7"
  }
 },
 "nbformat": 4,
 "nbformat_minor": 5
}
