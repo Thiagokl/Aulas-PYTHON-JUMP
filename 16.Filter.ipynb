{
 "cells": [
  {
   "cell_type": "markdown",
   "id": "9b6bba69-5925-4676-a928-923d5dc6ed0f",
   "metadata": {},
   "source": [
    "# Filter\n",
    "- Aplica um filtro a determinados valores de uma lista; \n",
    "- O retorno  será um objeto do tipo filter;\n",
    "- É possível criar uma lista com os valores desejados."
   ]
  },
  {
   "cell_type": "markdown",
   "id": "b49429c9-f888-465f-8f3e-b5d8bf6f7395",
   "metadata": {},
   "source": [
    "### Estrutura\n",
    "```python\n",
    "    filter(<função>, <interável>)"
   ]
  },
  {
   "cell_type": "code",
   "execution_count": 1,
   "id": "2571fde5-f78d-44b2-8852-61f342fcfb15",
   "metadata": {},
   "outputs": [],
   "source": [
    "def is_par(num):\n",
    "    if num // 2 == num / 2:\n",
    "        return True\n",
    "    return False"
   ]
  },
  {
   "cell_type": "code",
   "execution_count": 4,
   "id": "11c3a971-e7ca-4975-ae84-01ebbe0150fc",
   "metadata": {},
   "outputs": [
    {
     "data": {
      "text/plain": [
       "[0, 1, 2, 3, 4, 5, 6, 7, 8, 9, 10, 11, 12, 13, 14, 15, 16, 17, 18, 19, 20]"
      ]
     },
     "execution_count": 4,
     "metadata": {},
     "output_type": "execute_result"
    }
   ],
   "source": [
    "lista_numeros = [i for i in range(0, 21)]\n",
    "lista_numeros"
   ]
  },
  {
   "cell_type": "markdown",
   "id": "a390ff9d-6998-4317-9df5-423aac2a9695",
   "metadata": {},
   "source": [
    "- Utilizando a função para aplicar o filtro "
   ]
  },
  {
   "cell_type": "code",
   "execution_count": 5,
   "id": "4cbedc03-fddc-4ec1-91fc-94062bfd2ec4",
   "metadata": {},
   "outputs": [
    {
     "data": {
      "text/plain": [
       "<filter at 0x1d56766b6d0>"
      ]
     },
     "execution_count": 5,
     "metadata": {},
     "output_type": "execute_result"
    }
   ],
   "source": [
    "filter(is_par, lista_numeros)"
   ]
  },
  {
   "cell_type": "code",
   "execution_count": 6,
   "id": "b7074933-0b39-423d-8bc8-a2c934522333",
   "metadata": {},
   "outputs": [
    {
     "data": {
      "text/plain": [
       "[0, 2, 4, 6, 8, 10, 12, 14, 16, 18, 20]"
      ]
     },
     "execution_count": 6,
     "metadata": {},
     "output_type": "execute_result"
    }
   ],
   "source": [
    "list(filter(is_par, lista_numeros))"
   ]
  },
  {
   "cell_type": "markdown",
   "id": "f6d04048-e5e1-4e52-a8d8-3a961f0f4bba",
   "metadata": {},
   "source": [
    "- Faça um filtro que retorne valores do tipo string "
   ]
  },
  {
   "cell_type": "code",
   "execution_count": 15,
   "id": "b22bab10-ba0e-42b1-a7b5-a1a1f76d2f4c",
   "metadata": {},
   "outputs": [],
   "source": [
    "lista_int = [n for n in range(5)]\n",
    "lista_str = [str(s) for s in range(5)]\n",
    "lista_int.extend(lista_str)\n",
    "lista_mista = lista_int"
   ]
  },
  {
   "cell_type": "code",
   "execution_count": 16,
   "id": "6a3126fd-db86-482c-b84f-f414da71ee09",
   "metadata": {},
   "outputs": [
    {
     "data": {
      "text/plain": [
       "[0, 1, 2, 3, 4, '0', '1', '2', '3', '4']"
      ]
     },
     "execution_count": 16,
     "metadata": {},
     "output_type": "execute_result"
    }
   ],
   "source": [
    "lista_mista"
   ]
  },
  {
   "cell_type": "code",
   "execution_count": 17,
   "id": "513f8c9c-a6d3-4403-81d1-80eaa4612892",
   "metadata": {},
   "outputs": [
    {
     "data": {
      "text/plain": [
       "['0', '1', '2', '3', '4']"
      ]
     },
     "execution_count": 17,
     "metadata": {},
     "output_type": "execute_result"
    }
   ],
   "source": [
    "def is_str(x):\n",
    "    if type(x) == type('string_aleatoria'):\n",
    "        return True\n",
    "    else: \n",
    "        return False\n",
    "        \n",
    "list(filter(is_str,lista_mista))"
   ]
  },
  {
   "cell_type": "code",
   "execution_count": 18,
   "id": "9187f8ca-cea9-4de2-802e-5d8d6b758cc2",
   "metadata": {},
   "outputs": [
    {
     "data": {
      "text/plain": [
       "['0', '1', '2', '3', '4']"
      ]
     },
     "execution_count": 18,
     "metadata": {},
     "output_type": "execute_result"
    }
   ],
   "source": [
    "def string(valor):\n",
    "    return type(valor) == str\n",
    "    \n",
    "list(filter(string, lista_mista))"
   ]
  },
  {
   "cell_type": "code",
   "execution_count": 20,
   "id": "0240f11a-2046-45b6-883f-774738a8028b",
   "metadata": {},
   "outputs": [
    {
     "data": {
      "text/plain": [
       "False"
      ]
     },
     "execution_count": 20,
     "metadata": {},
     "output_type": "execute_result"
    }
   ],
   "source": [
    "type(1) == type('string_aleatoria')"
   ]
  },
  {
   "cell_type": "markdown",
   "id": "c7e40862-447e-4404-8d1a-ea8eb2dbefc8",
   "metadata": {},
   "source": [
    "- Utilizando lambda "
   ]
  },
  {
   "cell_type": "code",
   "execution_count": 21,
   "id": "03d8b2c3-46a7-44ec-ba6b-0bc53588b983",
   "metadata": {},
   "outputs": [
    {
     "data": {
      "text/plain": [
       "['0', '1', '2', '3', '4']"
      ]
     },
     "execution_count": 21,
     "metadata": {},
     "output_type": "execute_result"
    }
   ],
   "source": [
    "list(filter(lambda x: type(x)==str, lista_mista))"
   ]
  },
  {
   "cell_type": "code",
   "execution_count": null,
   "id": "fd6adcb3-1b40-4bce-a64a-eca8ce27e34b",
   "metadata": {},
   "outputs": [],
   "source": []
  }
 ],
 "metadata": {
  "kernelspec": {
   "display_name": "Python 3 (ipykernel)",
   "language": "python",
   "name": "python3"
  },
  "language_info": {
   "codemirror_mode": {
    "name": "ipython",
    "version": 3
   },
   "file_extension": ".py",
   "mimetype": "text/x-python",
   "name": "python",
   "nbconvert_exporter": "python",
   "pygments_lexer": "ipython3",
   "version": "3.11.7"
  }
 },
 "nbformat": 4,
 "nbformat_minor": 5
}
