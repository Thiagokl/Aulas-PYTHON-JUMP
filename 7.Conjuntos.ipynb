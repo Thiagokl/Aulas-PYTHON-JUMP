{
 "cells": [
  {
   "cell_type": "markdown",
   "id": "8438c892-4bce-4db0-af5e-db4e87dc3666",
   "metadata": {},
   "source": [
    "### Cojuntos (set)\n",
    "\n",
    "- São como os conjuntos em matemática;\n",
    "- Não possuem uma ordem;\n",
    "- Não possuem elementos repetidos."
   ]
  },
  {
   "cell_type": "markdown",
   "id": "1dd88f66-12ed-4f29-9845-e0be0f64eab4",
   "metadata": {},
   "source": [
    "- Inicializando um conjunto "
   ]
  },
  {
   "cell_type": "code",
   "execution_count": 2,
   "id": "767f8dd1-ca5f-48a9-8450-dda9e69f061c",
   "metadata": {},
   "outputs": [],
   "source": [
    "conjunto = {1, 2, 3, 4, 4}"
   ]
  },
  {
   "cell_type": "code",
   "execution_count": 3,
   "id": "ff1eb1fb-e8fe-4cc3-88a9-92a4f5af3298",
   "metadata": {},
   "outputs": [
    {
     "data": {
      "text/plain": [
       "{1, 2, 3, 4}"
      ]
     },
     "execution_count": 3,
     "metadata": {},
     "output_type": "execute_result"
    }
   ],
   "source": [
    "conjunto"
   ]
  },
  {
   "cell_type": "code",
   "execution_count": 11,
   "id": "0da3ef79-120e-4eb0-96e3-8c56a0f01b83",
   "metadata": {},
   "outputs": [
    {
     "data": {
      "text/plain": [
       "set"
      ]
     },
     "execution_count": 11,
     "metadata": {},
     "output_type": "execute_result"
    }
   ],
   "source": [
    "type(conjunto_a)"
   ]
  },
  {
   "cell_type": "code",
   "execution_count": 4,
   "id": "2c39ff32-9e2a-4b60-a50f-eb7ed599e32c",
   "metadata": {},
   "outputs": [],
   "source": [
    "conjunto_a = {1,2,3,4}\n",
    "conjunto_b = {4,5,6,7}"
   ]
  },
  {
   "cell_type": "markdown",
   "id": "4039934d-8d63-4165-9e10-b03caa5d4c80",
   "metadata": {},
   "source": [
    "### União \n",
    "\n",
    "![Image of Yaktocat](https://static.todamateria.com.br/upload/un/ia/uniao.jpg)"
   ]
  },
  {
   "cell_type": "code",
   "execution_count": 5,
   "id": "9198afca-afc4-4e2b-bb49-423f69dd16ca",
   "metadata": {},
   "outputs": [
    {
     "data": {
      "text/plain": [
       "{1, 2, 3, 4, 5, 6, 7}"
      ]
     },
     "execution_count": 5,
     "metadata": {},
     "output_type": "execute_result"
    }
   ],
   "source": [
    "conjunto_a.union(conjunto_b)"
   ]
  },
  {
   "cell_type": "code",
   "execution_count": 6,
   "id": "900d357c-53bb-4eea-8f70-d7257d71aa9f",
   "metadata": {},
   "outputs": [
    {
     "data": {
      "text/plain": [
       "{1, 2, 3, 4, 5, 6, 7}"
      ]
     },
     "execution_count": 6,
     "metadata": {},
     "output_type": "execute_result"
    }
   ],
   "source": [
    "conjunto_b.union(conjunto_a)"
   ]
  },
  {
   "cell_type": "markdown",
   "id": "0af2d7e2-c7f9-4e89-a30e-bc11cd79b36a",
   "metadata": {},
   "source": [
    "### Intersecção \n",
    "\n",
    "![Image of Yaktocat](https://static.todamateria.com.br/upload/in/te/interseca_ao.jpg)"
   ]
  },
  {
   "cell_type": "code",
   "execution_count": 7,
   "id": "d481d2a1-4cf0-4b9a-8675-dddbac7e99cf",
   "metadata": {},
   "outputs": [
    {
     "data": {
      "text/plain": [
       "{4}"
      ]
     },
     "execution_count": 7,
     "metadata": {},
     "output_type": "execute_result"
    }
   ],
   "source": [
    "conjunto_a.intersection(conjunto_b)"
   ]
  },
  {
   "cell_type": "code",
   "execution_count": 8,
   "id": "e2857252-948b-444d-b356-0df16c7c9fad",
   "metadata": {},
   "outputs": [
    {
     "data": {
      "text/plain": [
       "{4}"
      ]
     },
     "execution_count": 8,
     "metadata": {},
     "output_type": "execute_result"
    }
   ],
   "source": [
    "conjunto_b.intersection(conjunto_a)"
   ]
  },
  {
   "cell_type": "markdown",
   "id": "8ec98c84-b986-49c9-b268-69c28396e7ce",
   "metadata": {},
   "source": [
    "### Diferença\n",
    "\n",
    "![Image of Yaktocat](https://static.todamateria.com.br/upload/di/fe/diferena_a.jpg)"
   ]
  },
  {
   "cell_type": "code",
   "execution_count": 9,
   "id": "cc7a1b3d-2ec2-4265-b8cb-978f486779a1",
   "metadata": {},
   "outputs": [
    {
     "data": {
      "text/plain": [
       "{1, 2, 3}"
      ]
     },
     "execution_count": 9,
     "metadata": {},
     "output_type": "execute_result"
    }
   ],
   "source": [
    "conjunto_a.difference(conjunto_b)"
   ]
  },
  {
   "cell_type": "code",
   "execution_count": 10,
   "id": "fbf7b49a-aa26-4cca-b2d7-42eab28e48ce",
   "metadata": {},
   "outputs": [
    {
     "data": {
      "text/plain": [
       "{5, 6, 7}"
      ]
     },
     "execution_count": 10,
     "metadata": {},
     "output_type": "execute_result"
    }
   ],
   "source": [
    "conjunto_b.difference(conjunto_a)"
   ]
  },
  {
   "cell_type": "markdown",
   "id": "ea062e95-49fa-45bf-be05-6dbd41d50eb7",
   "metadata": {},
   "source": [
    "#### diferença simétrica\n",
    "\n",
    "![Imagem of Yaktocat](data:image/png;base64,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)"
   ]
  },
  {
   "cell_type": "code",
   "execution_count": 12,
   "id": "16c8bb27-ec28-4487-b4bc-917d8beb741d",
   "metadata": {},
   "outputs": [
    {
     "data": {
      "text/plain": [
       "{1, 2, 3, 5, 6, 7}"
      ]
     },
     "execution_count": 12,
     "metadata": {},
     "output_type": "execute_result"
    }
   ],
   "source": [
    "conjunto_a.symmetric_difference(conjunto_b)"
   ]
  },
  {
   "cell_type": "code",
   "execution_count": 13,
   "id": "7371851c-971d-4f9c-929c-4c27e564c295",
   "metadata": {},
   "outputs": [
    {
     "data": {
      "text/plain": [
       "{1, 2, 3, 5, 6, 7}"
      ]
     },
     "execution_count": 13,
     "metadata": {},
     "output_type": "execute_result"
    }
   ],
   "source": [
    "conjunto_b.symmetric_difference(conjunto_a)"
   ]
  },
  {
   "cell_type": "code",
   "execution_count": null,
   "id": "c19e4b60-5c1f-4a69-bd54-61a27154687f",
   "metadata": {},
   "outputs": [],
   "source": []
  }
 ],
 "metadata": {
  "kernelspec": {
   "display_name": "Python 3 (ipykernel)",
   "language": "python",
   "name": "python3"
  },
  "language_info": {
   "codemirror_mode": {
    "name": "ipython",
    "version": 3
   },
   "file_extension": ".py",
   "mimetype": "text/x-python",
   "name": "python",
   "nbconvert_exporter": "python",
   "pygments_lexer": "ipython3",
   "version": "3.11.7"
  }
 },
 "nbformat": 4,
 "nbformat_minor": 5
}
