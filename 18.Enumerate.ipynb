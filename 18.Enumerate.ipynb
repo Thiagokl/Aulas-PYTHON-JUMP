{
 "cells": [
  {
   "cell_type": "markdown",
   "id": "e0f52b42-98a7-42c6-8d5d-d357049b0b26",
   "metadata": {},
   "source": [
    "# Enumerate\n",
    "- Retorna uma tupla com o contador e o valor."
   ]
  },
  {
   "cell_type": "markdown",
   "id": "74f0c9a3-8f33-47a4-9b60-8d8711866eda",
   "metadata": {},
   "source": [
    "### Estrutura\n",
    "```python\n",
    " enumerate(<interável>, start=0)"
   ]
  },
  {
   "cell_type": "markdown",
   "id": "a6997d4b-4de2-4013-9e74-aa2226f9c85c",
   "metadata": {},
   "source": [
    "- Exemplo"
   ]
  },
  {
   "cell_type": "code",
   "execution_count": 5,
   "id": "57cd40f0-ca86-4045-acf7-8777666d1ca7",
   "metadata": {},
   "outputs": [],
   "source": [
    "seq = ['a', 'b', 'c', 'd']"
   ]
  },
  {
   "cell_type": "code",
   "execution_count": 6,
   "id": "f6d71dd5-c391-48ff-b0b6-0e87eba77ce0",
   "metadata": {},
   "outputs": [
    {
     "data": {
      "text/plain": [
       "[(0, 'a'), (1, 'b'), (2, 'c'), (3, 'd')]"
      ]
     },
     "execution_count": 6,
     "metadata": {},
     "output_type": "execute_result"
    }
   ],
   "source": [
    "list(enumerate(seq))"
   ]
  },
  {
   "cell_type": "code",
   "execution_count": 8,
   "id": "19486fae-141f-44df-87d1-c9f9a2253c45",
   "metadata": {},
   "outputs": [
    {
     "data": {
      "text/plain": [
       "[(1, 'a'), (2, 'b'), (3, 'c'), (4, 'd')]"
      ]
     },
     "execution_count": 8,
     "metadata": {},
     "output_type": "execute_result"
    }
   ],
   "source": [
    "list(enumerate(seq, 1))"
   ]
  },
  {
   "cell_type": "code",
   "execution_count": 9,
   "id": "b871202e-5aaa-4f10-9f67-0aa31f62a33b",
   "metadata": {},
   "outputs": [
    {
     "data": {
      "text/plain": [
       "[(100, 'a'), (101, 'b'), (102, 'c'), (103, 'd')]"
      ]
     },
     "execution_count": 9,
     "metadata": {},
     "output_type": "execute_result"
    }
   ],
   "source": [
    "list(enumerate(seq, 100))"
   ]
  },
  {
   "cell_type": "markdown",
   "id": "9c6f62d3-d61b-4062-bb11-653fc8cb377b",
   "metadata": {},
   "source": [
    "**Exemplo**: Imprimindo os valores de uma lista com a função enumerate() e seus respectivos índices"
   ]
  },
  {
   "cell_type": "code",
   "execution_count": 13,
   "id": "91174e7c-a32d-4bd1-9dff-55d26b98e3a4",
   "metadata": {},
   "outputs": [
    {
     "data": {
      "text/plain": [
       "[10, 15, 20, 25, 30, 35, 40, 45, 50, 55, 60, 65, 70, 75, 80, 85, 90, 95]"
      ]
     },
     "execution_count": 13,
     "metadata": {},
     "output_type": "execute_result"
    }
   ],
   "source": [
    "lista = list(range(10, 100, 5))\n",
    "lista "
   ]
  },
  {
   "cell_type": "code",
   "execution_count": 15,
   "id": "82cbfb18-05ec-47ed-9d0f-a743a0e2ce7f",
   "metadata": {},
   "outputs": [
    {
     "name": "stdout",
     "output_type": "stream",
     "text": [
      "1 10\n",
      "2 15\n",
      "3 20\n",
      "4 25\n",
      "5 30\n",
      "6 35\n",
      "7 40\n",
      "8 45\n",
      "9 50\n",
      "10 55\n",
      "11 60\n",
      "12 65\n",
      "13 70\n",
      "14 75\n",
      "15 80\n",
      "16 85\n",
      "17 90\n",
      "18 95\n"
     ]
    }
   ],
   "source": [
    "for indece, valor in enumerate(lista, 1):\n",
    "    print(indece, valor)"
   ]
  },
  {
   "cell_type": "code",
   "execution_count": 17,
   "id": "5390a8b7-411e-43c5-ae2b-c03fd25ef8d0",
   "metadata": {},
   "outputs": [
    {
     "name": "stdout",
     "output_type": "stream",
     "text": [
      "1 10\n",
      "2 15\n",
      "3 20\n",
      "4 25\n",
      "5 30\n",
      "6 35\n",
      "7 40\n",
      "8 45\n",
      "9 50\n",
      "10 55\n",
      "11 60\n",
      "12 65\n",
      "13 70\n",
      "14 75\n",
      "15 80\n",
      "16 85\n",
      "17 90\n",
      "18 95\n"
     ]
    }
   ],
   "source": [
    "for tupla in enumerate(lista, 1):\n",
    "    print(tupla[0], tupla[1])"
   ]
  },
  {
   "cell_type": "code",
   "execution_count": null,
   "id": "2e908f95-b59d-4328-8a4f-92d498aa39fe",
   "metadata": {},
   "outputs": [],
   "source": []
  }
 ],
 "metadata": {
  "kernelspec": {
   "display_name": "Python 3 (ipykernel)",
   "language": "python",
   "name": "python3"
  },
  "language_info": {
   "codemirror_mode": {
    "name": "ipython",
    "version": 3
   },
   "file_extension": ".py",
   "mimetype": "text/x-python",
   "name": "python",
   "nbconvert_exporter": "python",
   "pygments_lexer": "ipython3",
   "version": "3.11.7"
  }
 },
 "nbformat": 4,
 "nbformat_minor": 5
}
