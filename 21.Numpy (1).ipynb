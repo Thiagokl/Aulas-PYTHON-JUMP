{
 "cells": [
  {
   "cell_type": "markdown",
   "id": "4774907c-13c3-4a8c-8b92-f0ad35aab194",
   "metadata": {},
   "source": [
    "![Image of Yaktocat](https://miro.medium.com/max/765/1*qePzd2m_uIPvsozXYh89CQ.png)"
   ]
  },
  {
   "cell_type": "markdown",
   "id": "5de5ee4b-f195-41b8-8c0b-a24eebdc1921",
   "metadata": {},
   "source": [
    "# Numpy (numerical python)\n",
    "\n",
    "- Facilitador de cálculos numéricos "
   ]
  },
  {
   "cell_type": "markdown",
   "id": "c78a5498-9064-4ad1-8507-1f8ac0b617aa",
   "metadata": {},
   "source": [
    "##### Importando da biblioteca "
   ]
  },
  {
   "cell_type": "code",
   "execution_count": 1,
   "id": "f30f6a79-fa88-4300-808a-925ede2776d6",
   "metadata": {},
   "outputs": [],
   "source": [
    "import numpy"
   ]
  },
  {
   "cell_type": "markdown",
   "id": "505cc422-c06a-46d1-b758-0d5bca4f1fa0",
   "metadata": {},
   "source": [
    "##### Importando funções "
   ]
  },
  {
   "cell_type": "code",
   "execution_count": 2,
   "id": "52eaaad4-37dc-408e-a171-5293c96a4666",
   "metadata": {},
   "outputs": [],
   "source": [
    "from numpy import arange"
   ]
  },
  {
   "cell_type": "markdown",
   "id": "4ecc3268-7fcf-4140-aca0-be8d13fb2efe",
   "metadata": {},
   "source": [
    "##### Import da biblioteca e atribuindo um apelido "
   ]
  },
  {
   "cell_type": "code",
   "execution_count": 3,
   "id": "125eeaf7-26b1-4f8f-9607-3bde3d666077",
   "metadata": {},
   "outputs": [],
   "source": [
    "import numpy as np "
   ]
  },
  {
   "cell_type": "markdown",
   "id": "9962693b-211c-4486-95b5-cdde8f2829f8",
   "metadata": {},
   "source": [
    "##### Help numpy "
   ]
  },
  {
   "cell_type": "code",
   "execution_count": 4,
   "id": "3f9b640e-95fb-4c0c-bf45-1a11536e8ecd",
   "metadata": {},
   "outputs": [],
   "source": [
    "# help(np)"
   ]
  },
  {
   "cell_type": "code",
   "execution_count": 5,
   "id": "d52894be-5d9e-44e4-985d-de7e1c129dab",
   "metadata": {},
   "outputs": [
    {
     "name": "stdout",
     "output_type": "stream",
     "text": [
      "Help on built-in function arange in module numpy:\n",
      "\n",
      "arange(...)\n",
      "    arange([start,] stop[, step,], dtype=None, *, like=None)\n",
      "    \n",
      "    Return evenly spaced values within a given interval.\n",
      "    \n",
      "    ``arange`` can be called with a varying number of positional arguments:\n",
      "    \n",
      "    * ``arange(stop)``: Values are generated within the half-open interval\n",
      "      ``[0, stop)`` (in other words, the interval including `start` but\n",
      "      excluding `stop`).\n",
      "    * ``arange(start, stop)``: Values are generated within the half-open\n",
      "      interval ``[start, stop)``.\n",
      "    * ``arange(start, stop, step)`` Values are generated within the half-open\n",
      "      interval ``[start, stop)``, with spacing between values given by\n",
      "      ``step``.\n",
      "    \n",
      "    For integer arguments the function is roughly equivalent to the Python\n",
      "    built-in :py:class:`range`, but returns an ndarray rather than a ``range``\n",
      "    instance.\n",
      "    \n",
      "    When using a non-integer step, such as 0.1, it is often better to use\n",
      "    `numpy.linspace`.\n",
      "    \n",
      "    See the Warning sections below for more information.\n",
      "    \n",
      "    Parameters\n",
      "    ----------\n",
      "    start : integer or real, optional\n",
      "        Start of interval.  The interval includes this value.  The default\n",
      "        start value is 0.\n",
      "    stop : integer or real\n",
      "        End of interval.  The interval does not include this value, except\n",
      "        in some cases where `step` is not an integer and floating point\n",
      "        round-off affects the length of `out`.\n",
      "    step : integer or real, optional\n",
      "        Spacing between values.  For any output `out`, this is the distance\n",
      "        between two adjacent values, ``out[i+1] - out[i]``.  The default\n",
      "        step size is 1.  If `step` is specified as a position argument,\n",
      "        `start` must also be given.\n",
      "    dtype : dtype, optional\n",
      "        The type of the output array.  If `dtype` is not given, infer the data\n",
      "        type from the other input arguments.\n",
      "    like : array_like, optional\n",
      "        Reference object to allow the creation of arrays which are not\n",
      "        NumPy arrays. If an array-like passed in as ``like`` supports\n",
      "        the ``__array_function__`` protocol, the result will be defined\n",
      "        by it. In this case, it ensures the creation of an array object\n",
      "        compatible with that passed in via this argument.\n",
      "    \n",
      "        .. versionadded:: 1.20.0\n",
      "    \n",
      "    Returns\n",
      "    -------\n",
      "    arange : ndarray\n",
      "        Array of evenly spaced values.\n",
      "    \n",
      "        For floating point arguments, the length of the result is\n",
      "        ``ceil((stop - start)/step)``.  Because of floating point overflow,\n",
      "        this rule may result in the last element of `out` being greater\n",
      "        than `stop`.\n",
      "    \n",
      "    Warnings\n",
      "    --------\n",
      "    The length of the output might not be numerically stable.\n",
      "    \n",
      "    Another stability issue is due to the internal implementation of\n",
      "    `numpy.arange`.\n",
      "    The actual step value used to populate the array is\n",
      "    ``dtype(start + step) - dtype(start)`` and not `step`. Precision loss\n",
      "    can occur here, due to casting or due to using floating points when\n",
      "    `start` is much larger than `step`. This can lead to unexpected\n",
      "    behaviour. For example::\n",
      "    \n",
      "      >>> np.arange(0, 5, 0.5, dtype=int)\n",
      "      array([0, 0, 0, 0, 0, 0, 0, 0, 0, 0])\n",
      "      >>> np.arange(-3, 3, 0.5, dtype=int)\n",
      "      array([-3, -2, -1,  0,  1,  2,  3,  4,  5,  6,  7,  8])\n",
      "    \n",
      "    In such cases, the use of `numpy.linspace` should be preferred.\n",
      "    \n",
      "    The built-in :py:class:`range` generates :std:doc:`Python built-in integers\n",
      "    that have arbitrary size <python:c-api/long>`, while `numpy.arange`\n",
      "    produces `numpy.int32` or `numpy.int64` numbers. This may result in\n",
      "    incorrect results for large integer values::\n",
      "    \n",
      "      >>> power = 40\n",
      "      >>> modulo = 10000\n",
      "      >>> x1 = [(n ** power) % modulo for n in range(8)]\n",
      "      >>> x2 = [(n ** power) % modulo for n in np.arange(8)]\n",
      "      >>> print(x1)\n",
      "      [0, 1, 7776, 8801, 6176, 625, 6576, 4001]  # correct\n",
      "      >>> print(x2)\n",
      "      [0, 1, 7776, 7185, 0, 5969, 4816, 3361]  # incorrect\n",
      "    \n",
      "    See Also\n",
      "    --------\n",
      "    numpy.linspace : Evenly spaced numbers with careful handling of endpoints.\n",
      "    numpy.ogrid: Arrays of evenly spaced numbers in N-dimensions.\n",
      "    numpy.mgrid: Grid-shaped arrays of evenly spaced numbers in N-dimensions.\n",
      "    :ref:`how-to-partition`\n",
      "    \n",
      "    Examples\n",
      "    --------\n",
      "    >>> np.arange(3)\n",
      "    array([0, 1, 2])\n",
      "    >>> np.arange(3.0)\n",
      "    array([ 0.,  1.,  2.])\n",
      "    >>> np.arange(3,7)\n",
      "    array([3, 4, 5, 6])\n",
      "    >>> np.arange(3,7,2)\n",
      "    array([3, 5])\n",
      "\n"
     ]
    }
   ],
   "source": [
    "help(np.arange)"
   ]
  },
  {
   "cell_type": "markdown",
   "id": "a0cce8ce-db19-4612-bd19-603ce10d70dd",
   "metadata": {},
   "source": [
    "### Array\n",
    "- Um array numpy é uma extensão do array python, porém é multidimensional (o que possibilidade mais funcionalidades)."
   ]
  },
  {
   "cell_type": "markdown",
   "id": "2f09008d-3cd8-43f3-b790-756b96902876",
   "metadata": {},
   "source": [
    "- **arange** é utilizado para gerar um array "
   ]
  },
  {
   "cell_type": "code",
   "execution_count": 6,
   "id": "0f75c89b-97fc-476b-8f01-540cd6298aff",
   "metadata": {},
   "outputs": [],
   "source": [
    "array = np.arange(4)"
   ]
  },
  {
   "cell_type": "code",
   "execution_count": 7,
   "id": "eb9200a2-ea92-4479-91d7-fa82ba48f516",
   "metadata": {},
   "outputs": [
    {
     "data": {
      "text/plain": [
       "array([0, 1, 2, 3])"
      ]
     },
     "execution_count": 7,
     "metadata": {},
     "output_type": "execute_result"
    }
   ],
   "source": [
    "array"
   ]
  },
  {
   "cell_type": "code",
   "execution_count": 8,
   "id": "f6eb8080-e5f3-4546-9f8d-a25f4b69349b",
   "metadata": {},
   "outputs": [
    {
     "data": {
      "text/plain": [
       "numpy.ndarray"
      ]
     },
     "execution_count": 8,
     "metadata": {},
     "output_type": "execute_result"
    }
   ],
   "source": [
    "type(array)"
   ]
  },
  {
   "cell_type": "markdown",
   "id": "c69ce231-8b53-4d87-8bea-2d433be7fcc8",
   "metadata": {},
   "source": [
    "- Visualizando a quantidade de dados "
   ]
  },
  {
   "cell_type": "code",
   "execution_count": 9,
   "id": "c4ad16dd-e728-40a9-8b3f-ca48662d8589",
   "metadata": {},
   "outputs": [
    {
     "data": {
      "text/plain": [
       "(4,)"
      ]
     },
     "execution_count": 9,
     "metadata": {},
     "output_type": "execute_result"
    }
   ],
   "source": [
    "array.shape"
   ]
  },
  {
   "cell_type": "markdown",
   "id": "c515d121-02ed-4710-9d04-66b7a20fe9e4",
   "metadata": {},
   "source": [
    "- Visualizando o tipo dos dados no array"
   ]
  },
  {
   "cell_type": "code",
   "execution_count": 10,
   "id": "02276ca8-8876-4c39-a5c5-3570fe8d78c7",
   "metadata": {},
   "outputs": [
    {
     "data": {
      "text/plain": [
       "dtype('int32')"
      ]
     },
     "execution_count": 10,
     "metadata": {},
     "output_type": "execute_result"
    }
   ],
   "source": [
    "array.dtype"
   ]
  },
  {
   "cell_type": "markdown",
   "id": "85d04d34-4187-4326-8d3d-f8f15e05e4a0",
   "metadata": {},
   "source": [
    "### Array a partir de listas "
   ]
  },
  {
   "cell_type": "code",
   "execution_count": 11,
   "id": "8f54dca2-85a4-4219-bf3c-9748e0ea83a5",
   "metadata": {},
   "outputs": [
    {
     "name": "stdout",
     "output_type": "stream",
     "text": [
      "Help on built-in function array in module numpy:\n",
      "\n",
      "array(...)\n",
      "    array(object, dtype=None, *, copy=True, order='K', subok=False, ndmin=0,\n",
      "          like=None)\n",
      "    \n",
      "    Create an array.\n",
      "    \n",
      "    Parameters\n",
      "    ----------\n",
      "    object : array_like\n",
      "        An array, any object exposing the array interface, an object whose\n",
      "        ``__array__`` method returns an array, or any (nested) sequence.\n",
      "        If object is a scalar, a 0-dimensional array containing object is\n",
      "        returned.\n",
      "    dtype : data-type, optional\n",
      "        The desired data-type for the array. If not given, NumPy will try to use\n",
      "        a default ``dtype`` that can represent the values (by applying promotion\n",
      "        rules when necessary.)\n",
      "    copy : bool, optional\n",
      "        If true (default), then the object is copied.  Otherwise, a copy will\n",
      "        only be made if ``__array__`` returns a copy, if obj is a nested\n",
      "        sequence, or if a copy is needed to satisfy any of the other\n",
      "        requirements (``dtype``, ``order``, etc.).\n",
      "    order : {'K', 'A', 'C', 'F'}, optional\n",
      "        Specify the memory layout of the array. If object is not an array, the\n",
      "        newly created array will be in C order (row major) unless 'F' is\n",
      "        specified, in which case it will be in Fortran order (column major).\n",
      "        If object is an array the following holds.\n",
      "    \n",
      "        ===== ========= ===================================================\n",
      "        order  no copy                     copy=True\n",
      "        ===== ========= ===================================================\n",
      "        'K'   unchanged F & C order preserved, otherwise most similar order\n",
      "        'A'   unchanged F order if input is F and not C, otherwise C order\n",
      "        'C'   C order   C order\n",
      "        'F'   F order   F order\n",
      "        ===== ========= ===================================================\n",
      "    \n",
      "        When ``copy=False`` and a copy is made for other reasons, the result is\n",
      "        the same as if ``copy=True``, with some exceptions for 'A', see the\n",
      "        Notes section. The default order is 'K'.\n",
      "    subok : bool, optional\n",
      "        If True, then sub-classes will be passed-through, otherwise\n",
      "        the returned array will be forced to be a base-class array (default).\n",
      "    ndmin : int, optional\n",
      "        Specifies the minimum number of dimensions that the resulting\n",
      "        array should have.  Ones will be prepended to the shape as\n",
      "        needed to meet this requirement.\n",
      "    like : array_like, optional\n",
      "        Reference object to allow the creation of arrays which are not\n",
      "        NumPy arrays. If an array-like passed in as ``like`` supports\n",
      "        the ``__array_function__`` protocol, the result will be defined\n",
      "        by it. In this case, it ensures the creation of an array object\n",
      "        compatible with that passed in via this argument.\n",
      "    \n",
      "        .. versionadded:: 1.20.0\n",
      "    \n",
      "    Returns\n",
      "    -------\n",
      "    out : ndarray\n",
      "        An array object satisfying the specified requirements.\n",
      "    \n",
      "    See Also\n",
      "    --------\n",
      "    empty_like : Return an empty array with shape and type of input.\n",
      "    ones_like : Return an array of ones with shape and type of input.\n",
      "    zeros_like : Return an array of zeros with shape and type of input.\n",
      "    full_like : Return a new array with shape of input filled with value.\n",
      "    empty : Return a new uninitialized array.\n",
      "    ones : Return a new array setting values to one.\n",
      "    zeros : Return a new array setting values to zero.\n",
      "    full : Return a new array of given shape filled with value.\n",
      "    \n",
      "    \n",
      "    Notes\n",
      "    -----\n",
      "    When order is 'A' and ``object`` is an array in neither 'C' nor 'F' order,\n",
      "    and a copy is forced by a change in dtype, then the order of the result is\n",
      "    not necessarily 'C' as expected. This is likely a bug.\n",
      "    \n",
      "    Examples\n",
      "    --------\n",
      "    >>> np.array([1, 2, 3])\n",
      "    array([1, 2, 3])\n",
      "    \n",
      "    Upcasting:\n",
      "    \n",
      "    >>> np.array([1, 2, 3.0])\n",
      "    array([ 1.,  2.,  3.])\n",
      "    \n",
      "    More than one dimension:\n",
      "    \n",
      "    >>> np.array([[1, 2], [3, 4]])\n",
      "    array([[1, 2],\n",
      "           [3, 4]])\n",
      "    \n",
      "    Minimum dimensions 2:\n",
      "    \n",
      "    >>> np.array([1, 2, 3], ndmin=2)\n",
      "    array([[1, 2, 3]])\n",
      "    \n",
      "    Type provided:\n",
      "    \n",
      "    >>> np.array([1, 2, 3], dtype=complex)\n",
      "    array([ 1.+0.j,  2.+0.j,  3.+0.j])\n",
      "    \n",
      "    Data-type consisting of more than one element:\n",
      "    \n",
      "    >>> x = np.array([(1,2),(3,4)],dtype=[('a','<i4'),('b','<i4')])\n",
      "    >>> x['a']\n",
      "    array([1, 3])\n",
      "    \n",
      "    Creating an array from sub-classes:\n",
      "    \n",
      "    >>> np.array(np.mat('1 2; 3 4'))\n",
      "    array([[1, 2],\n",
      "           [3, 4]])\n",
      "    \n",
      "    >>> np.array(np.mat('1 2; 3 4'), subok=True)\n",
      "    matrix([[1, 2],\n",
      "            [3, 4]])\n",
      "\n"
     ]
    }
   ],
   "source": [
    "help(np.array)"
   ]
  },
  {
   "cell_type": "code",
   "execution_count": 12,
   "id": "accff448-ad8e-4d83-8f4e-ad0a68deac76",
   "metadata": {},
   "outputs": [],
   "source": [
    "# array_listas = np.array([[1, 2, 3], [4, 5, 6, 7]])"
   ]
  },
  {
   "cell_type": "markdown",
   "id": "95bc91da-b4a8-475f-9da4-66617a30254d",
   "metadata": {},
   "source": [
    "- As listas devem ter o mesmo tamanho "
   ]
  },
  {
   "cell_type": "code",
   "execution_count": 13,
   "id": "7f6b1ff4-857d-43b9-9354-9bb2b8a3b1ee",
   "metadata": {},
   "outputs": [],
   "source": [
    "array_listas = np.array([[1, 2, 3], [4, 5, 6]])"
   ]
  },
  {
   "cell_type": "code",
   "execution_count": 14,
   "id": "18dfef9e-6eaa-4555-b9bc-2a52b9221894",
   "metadata": {},
   "outputs": [
    {
     "data": {
      "text/plain": [
       "array([[1, 2, 3],\n",
       "       [4, 5, 6]])"
      ]
     },
     "execution_count": 14,
     "metadata": {},
     "output_type": "execute_result"
    }
   ],
   "source": [
    "array_listas"
   ]
  },
  {
   "cell_type": "code",
   "execution_count": 15,
   "id": "217c13ca-27c0-443a-b57d-b5785ab8890e",
   "metadata": {},
   "outputs": [
    {
     "data": {
      "text/plain": [
       "True"
      ]
     },
     "execution_count": 15,
     "metadata": {},
     "output_type": "execute_result"
    }
   ],
   "source": [
    "type(array_listas) == type(array)"
   ]
  },
  {
   "cell_type": "code",
   "execution_count": 16,
   "id": "c0762167-7817-408e-a7d4-868099a6118d",
   "metadata": {},
   "outputs": [
    {
     "data": {
      "text/plain": [
       "(2, 3)"
      ]
     },
     "execution_count": 16,
     "metadata": {},
     "output_type": "execute_result"
    }
   ],
   "source": [
    "array_listas.shape"
   ]
  },
  {
   "cell_type": "markdown",
   "id": "ba0e868e-bcd8-4ee8-9465-af3eb63afdb4",
   "metadata": {},
   "source": [
    "### Array strings "
   ]
  },
  {
   "cell_type": "code",
   "execution_count": 17,
   "id": "1ed1d21c-ca16-4ddd-a336-309a4272b306",
   "metadata": {},
   "outputs": [],
   "source": [
    "array_strings = np.array([['Um', 'array'],['de', 'strings']])"
   ]
  },
  {
   "cell_type": "code",
   "execution_count": 18,
   "id": "2b882536-db90-46da-a343-82b8fca65a4d",
   "metadata": {},
   "outputs": [
    {
     "data": {
      "text/plain": [
       "array([['Um', 'array'],\n",
       "       ['de', 'strings']], dtype='<U7')"
      ]
     },
     "execution_count": 18,
     "metadata": {},
     "output_type": "execute_result"
    }
   ],
   "source": [
    "array_strings"
   ]
  },
  {
   "cell_type": "code",
   "execution_count": 19,
   "id": "66e44d0e-0099-4c0d-8b1c-2cf730efbeea",
   "metadata": {},
   "outputs": [
    {
     "data": {
      "text/plain": [
       "dtype('<U7')"
      ]
     },
     "execution_count": 19,
     "metadata": {},
     "output_type": "execute_result"
    }
   ],
   "source": [
    "array_strings.dtype"
   ]
  },
  {
   "cell_type": "code",
   "execution_count": 20,
   "id": "1aa7527d-b129-4aed-9406-1aa48ed369db",
   "metadata": {},
   "outputs": [
    {
     "data": {
      "text/plain": [
       "(2, 2)"
      ]
     },
     "execution_count": 20,
     "metadata": {},
     "output_type": "execute_result"
    }
   ],
   "source": [
    "array_strings.shape"
   ]
  },
  {
   "cell_type": "markdown",
   "id": "cfa5b7e6-4123-43a1-a3d7-e84a31a1627e",
   "metadata": {},
   "source": [
    "### Array de números "
   ]
  },
  {
   "cell_type": "code",
   "execution_count": 21,
   "id": "668b6434-f3e5-4ec9-b3fe-3a0c24968176",
   "metadata": {},
   "outputs": [],
   "source": [
    "vetor = np.array([i for i in range(10)])"
   ]
  },
  {
   "cell_type": "code",
   "execution_count": 22,
   "id": "a73f8886-957d-4bac-9c85-69e038bb68fc",
   "metadata": {},
   "outputs": [
    {
     "data": {
      "text/plain": [
       "array([0, 1, 2, 3, 4, 5, 6, 7, 8, 9])"
      ]
     },
     "execution_count": 22,
     "metadata": {},
     "output_type": "execute_result"
    }
   ],
   "source": [
    "vetor"
   ]
  },
  {
   "cell_type": "markdown",
   "id": "efdb3563-d931-4de4-96c5-a1101bac3ba7",
   "metadata": {},
   "source": [
    "- Alterar dados do vetor "
   ]
  },
  {
   "cell_type": "code",
   "execution_count": 23,
   "id": "f4f926a7-7b4b-4d0c-a168-b9ae8b59f04e",
   "metadata": {},
   "outputs": [
    {
     "data": {
      "text/plain": [
       "dtype('int32')"
      ]
     },
     "execution_count": 23,
     "metadata": {},
     "output_type": "execute_result"
    }
   ],
   "source": [
    "vetor.dtype"
   ]
  },
  {
   "cell_type": "code",
   "execution_count": 24,
   "id": "aeb0af44-fdc5-49fc-abe7-25bd8a652579",
   "metadata": {},
   "outputs": [],
   "source": [
    "vetor[0] = 100"
   ]
  },
  {
   "cell_type": "code",
   "execution_count": 25,
   "id": "deee6967-9b70-4cc9-b1cc-0c3243f17dce",
   "metadata": {},
   "outputs": [
    {
     "data": {
      "text/plain": [
       "array([100,   1,   2,   3,   4,   5,   6,   7,   8,   9])"
      ]
     },
     "execution_count": 25,
     "metadata": {},
     "output_type": "execute_result"
    }
   ],
   "source": [
    "vetor "
   ]
  },
  {
   "cell_type": "code",
   "execution_count": 26,
   "id": "910ea184-8a5e-4ff1-a2ff-3f3c326fcb72",
   "metadata": {},
   "outputs": [],
   "source": [
    "vetor[1] = '2'"
   ]
  },
  {
   "cell_type": "code",
   "execution_count": 27,
   "id": "feb06f3b-62da-4ca9-8c19-f39967507cb4",
   "metadata": {},
   "outputs": [],
   "source": [
    "# vetor[2] = 'P'"
   ]
  },
  {
   "cell_type": "code",
   "execution_count": 28,
   "id": "9cba722d-923b-47fe-98f5-f26a548ef359",
   "metadata": {},
   "outputs": [
    {
     "data": {
      "text/plain": [
       "array([100,   2,   2,   3,   4,   5,   6,   7,   8,   9])"
      ]
     },
     "execution_count": 28,
     "metadata": {},
     "output_type": "execute_result"
    }
   ],
   "source": [
    "vetor"
   ]
  },
  {
   "cell_type": "code",
   "execution_count": 29,
   "id": "795d5583-076d-4513-be46-0eaf831fac6b",
   "metadata": {},
   "outputs": [
    {
     "data": {
      "text/plain": [
       "(10,)"
      ]
     },
     "execution_count": 29,
     "metadata": {},
     "output_type": "execute_result"
    }
   ],
   "source": [
    "vetor.shape"
   ]
  },
  {
   "cell_type": "code",
   "execution_count": 30,
   "id": "e02623de-33a1-4d9f-bb60-5b4a6e548c4c",
   "metadata": {},
   "outputs": [
    {
     "data": {
      "text/plain": [
       "dtype('int32')"
      ]
     },
     "execution_count": 30,
     "metadata": {},
     "output_type": "execute_result"
    }
   ],
   "source": [
    "vetor.dtype"
   ]
  },
  {
   "cell_type": "markdown",
   "id": "ea37f9e3-128a-4517-81d4-fa84f5e9b3e3",
   "metadata": {},
   "source": [
    "### Array de elementos iguais a zero"
   ]
  },
  {
   "cell_type": "code",
   "execution_count": 31,
   "id": "5dea2f39-f44f-43fa-b8a6-5379a3ffd7e0",
   "metadata": {},
   "outputs": [],
   "source": [
    "array_zero = np.zeros([3,3])"
   ]
  },
  {
   "cell_type": "code",
   "execution_count": 32,
   "id": "48841cbf-2ad4-4b75-aa0a-6fd7d98f6b02",
   "metadata": {},
   "outputs": [
    {
     "data": {
      "text/plain": [
       "array([[0., 0., 0.],\n",
       "       [0., 0., 0.],\n",
       "       [0., 0., 0.]])"
      ]
     },
     "execution_count": 32,
     "metadata": {},
     "output_type": "execute_result"
    }
   ],
   "source": [
    "array_zero"
   ]
  },
  {
   "cell_type": "code",
   "execution_count": 33,
   "id": "be81d38a-8c43-44ab-a043-e983ed6fe564",
   "metadata": {},
   "outputs": [
    {
     "data": {
      "text/plain": [
       "(3, 3)"
      ]
     },
     "execution_count": 33,
     "metadata": {},
     "output_type": "execute_result"
    }
   ],
   "source": [
    "array_zero.shape"
   ]
  },
  {
   "cell_type": "code",
   "execution_count": 34,
   "id": "dc08a8c9-c0a5-4045-abcf-825303e330eb",
   "metadata": {},
   "outputs": [
    {
     "data": {
      "text/plain": [
       "dtype('float64')"
      ]
     },
     "execution_count": 34,
     "metadata": {},
     "output_type": "execute_result"
    }
   ],
   "source": [
    "array_zero.dtype"
   ]
  },
  {
   "cell_type": "markdown",
   "id": "abb192f5-519d-447d-83d7-e39db32b59ec",
   "metadata": {},
   "source": [
    "### Array de valores unitários "
   ]
  },
  {
   "cell_type": "code",
   "execution_count": 35,
   "id": "5e6c54f1-91fc-4819-880e-4a13cf7d1cb3",
   "metadata": {},
   "outputs": [],
   "source": [
    "array_unitario = np.ones([2,2])"
   ]
  },
  {
   "cell_type": "code",
   "execution_count": 36,
   "id": "cc153b3b-45ba-43ff-89be-5c93859a2570",
   "metadata": {},
   "outputs": [
    {
     "data": {
      "text/plain": [
       "array([[1., 1.],\n",
       "       [1., 1.]])"
      ]
     },
     "execution_count": 36,
     "metadata": {},
     "output_type": "execute_result"
    }
   ],
   "source": [
    "array_unitario"
   ]
  },
  {
   "cell_type": "code",
   "execution_count": 37,
   "id": "255d5f49-d9c5-4339-ac96-dcb0197fb2d9",
   "metadata": {},
   "outputs": [
    {
     "data": {
      "text/plain": [
       "dtype('float64')"
      ]
     },
     "execution_count": 37,
     "metadata": {},
     "output_type": "execute_result"
    }
   ],
   "source": [
    "array_unitario.dtype"
   ]
  },
  {
   "cell_type": "code",
   "execution_count": 38,
   "id": "f59d1f9e-78eb-4ce0-b368-5bf9390f7bc5",
   "metadata": {},
   "outputs": [
    {
     "name": "stdout",
     "output_type": "stream",
     "text": [
      "Help on function ones in module numpy:\n",
      "\n",
      "ones(shape, dtype=None, order='C', *, like=None)\n",
      "    Return a new array of given shape and type, filled with ones.\n",
      "    \n",
      "    Parameters\n",
      "    ----------\n",
      "    shape : int or sequence of ints\n",
      "        Shape of the new array, e.g., ``(2, 3)`` or ``2``.\n",
      "    dtype : data-type, optional\n",
      "        The desired data-type for the array, e.g., `numpy.int8`.  Default is\n",
      "        `numpy.float64`.\n",
      "    order : {'C', 'F'}, optional, default: C\n",
      "        Whether to store multi-dimensional data in row-major\n",
      "        (C-style) or column-major (Fortran-style) order in\n",
      "        memory.\n",
      "    like : array_like, optional\n",
      "        Reference object to allow the creation of arrays which are not\n",
      "        NumPy arrays. If an array-like passed in as ``like`` supports\n",
      "        the ``__array_function__`` protocol, the result will be defined\n",
      "        by it. In this case, it ensures the creation of an array object\n",
      "        compatible with that passed in via this argument.\n",
      "    \n",
      "        .. versionadded:: 1.20.0\n",
      "    \n",
      "    Returns\n",
      "    -------\n",
      "    out : ndarray\n",
      "        Array of ones with the given shape, dtype, and order.\n",
      "    \n",
      "    See Also\n",
      "    --------\n",
      "    ones_like : Return an array of ones with shape and type of input.\n",
      "    empty : Return a new uninitialized array.\n",
      "    zeros : Return a new array setting values to zero.\n",
      "    full : Return a new array of given shape filled with value.\n",
      "    \n",
      "    \n",
      "    Examples\n",
      "    --------\n",
      "    >>> np.ones(5)\n",
      "    array([1., 1., 1., 1., 1.])\n",
      "    \n",
      "    >>> np.ones((5,), dtype=int)\n",
      "    array([1, 1, 1, 1, 1])\n",
      "    \n",
      "    >>> np.ones((2, 1))\n",
      "    array([[1.],\n",
      "           [1.]])\n",
      "    \n",
      "    >>> s = (2,2)\n",
      "    >>> np.ones(s)\n",
      "    array([[1.,  1.],\n",
      "           [1.,  1.]])\n",
      "\n"
     ]
    }
   ],
   "source": [
    "help(np.ones)"
   ]
  },
  {
   "cell_type": "markdown",
   "id": "0d512375-9a18-4792-96e6-918b4bbcb4c8",
   "metadata": {},
   "source": [
    "### Array randômico "
   ]
  },
  {
   "cell_type": "code",
   "execution_count": 39,
   "id": "1801b712-448f-4554-a093-a8acbfe96d23",
   "metadata": {},
   "outputs": [
    {
     "name": "stdout",
     "output_type": "stream",
     "text": [
      "Help on built-in function random:\n",
      "\n",
      "random(...) method of numpy.random.mtrand.RandomState instance\n",
      "    random(size=None)\n",
      "    \n",
      "    Return random floats in the half-open interval [0.0, 1.0). Alias for\n",
      "    `random_sample` to ease forward-porting to the new random API.\n",
      "\n"
     ]
    }
   ],
   "source": [
    "help(np.random.random)"
   ]
  },
  {
   "cell_type": "code",
   "execution_count": 40,
   "id": "61919586-d281-4cfb-ad5b-ffc122ea4730",
   "metadata": {},
   "outputs": [],
   "source": [
    "array_random = np.random.random([3,3])"
   ]
  },
  {
   "cell_type": "code",
   "execution_count": 41,
   "id": "b222922f-61e9-4cef-a16c-be037586fd90",
   "metadata": {},
   "outputs": [
    {
     "data": {
      "text/plain": [
       "array([[0.22517968, 0.67218793, 0.57950404],\n",
       "       [0.29457625, 0.24990371, 0.90173431],\n",
       "       [0.06892316, 0.44521913, 0.68495551]])"
      ]
     },
     "execution_count": 41,
     "metadata": {},
     "output_type": "execute_result"
    }
   ],
   "source": [
    "array_random"
   ]
  },
  {
   "cell_type": "markdown",
   "id": "88188dd2-ada5-4fb3-8e59-49f7df59f49c",
   "metadata": {},
   "source": [
    "- É possível criar um array com valores definidos em um intervalo "
   ]
  },
  {
   "cell_type": "code",
   "execution_count": 42,
   "id": "633b406e-65b2-4db3-b960-10bb35ecffa3",
   "metadata": {},
   "outputs": [],
   "source": [
    "array_random_2 = np.floor(10*np.random.random([3,3]))"
   ]
  },
  {
   "cell_type": "code",
   "execution_count": 43,
   "id": "1b16af9a-64ef-4eb1-887b-be43c80bcfae",
   "metadata": {},
   "outputs": [
    {
     "data": {
      "text/plain": [
       "array([[6., 2., 8.],\n",
       "       [9., 5., 9.],\n",
       "       [8., 4., 0.]])"
      ]
     },
     "execution_count": 43,
     "metadata": {},
     "output_type": "execute_result"
    }
   ],
   "source": [
    "array_random_2"
   ]
  },
  {
   "cell_type": "code",
   "execution_count": 44,
   "id": "653eb671-260c-4326-8ed7-4d692e32336e",
   "metadata": {},
   "outputs": [
    {
     "data": {
      "text/plain": [
       "array([2, 0])"
      ]
     },
     "execution_count": 44,
     "metadata": {},
     "output_type": "execute_result"
    }
   ],
   "source": [
    "np.random.randint([3,3])"
   ]
  },
  {
   "cell_type": "code",
   "execution_count": 45,
   "id": "ecdea83c-99b9-4556-b1e5-12749e612557",
   "metadata": {},
   "outputs": [
    {
     "data": {
      "text/plain": [
       "array([[0.52805011, 0.3190031 , 0.01356893],\n",
       "       [0.63449831, 0.73355285, 0.12576412],\n",
       "       [0.16819183, 0.31403018, 0.81762001]])"
      ]
     },
     "execution_count": 45,
     "metadata": {},
     "output_type": "execute_result"
    }
   ],
   "source": [
    "np.random.random([3,3])"
   ]
  },
  {
   "cell_type": "code",
   "execution_count": 46,
   "id": "e4afe50b-875c-48d0-8847-cc4efcc758ea",
   "metadata": {},
   "outputs": [
    {
     "name": "stdout",
     "output_type": "stream",
     "text": [
      "Help on built-in function randint:\n",
      "\n",
      "randint(...) method of numpy.random.mtrand.RandomState instance\n",
      "    randint(low, high=None, size=None, dtype=int)\n",
      "    \n",
      "    Return random integers from `low` (inclusive) to `high` (exclusive).\n",
      "    \n",
      "    Return random integers from the \"discrete uniform\" distribution of\n",
      "    the specified dtype in the \"half-open\" interval [`low`, `high`). If\n",
      "    `high` is None (the default), then results are from [0, `low`).\n",
      "    \n",
      "    .. note::\n",
      "        New code should use the `~numpy.random.Generator.integers`\n",
      "        method of a `~numpy.random.Generator` instance instead;\n",
      "        please see the :ref:`random-quick-start`.\n",
      "    \n",
      "    Parameters\n",
      "    ----------\n",
      "    low : int or array-like of ints\n",
      "        Lowest (signed) integers to be drawn from the distribution (unless\n",
      "        ``high=None``, in which case this parameter is one above the\n",
      "        *highest* such integer).\n",
      "    high : int or array-like of ints, optional\n",
      "        If provided, one above the largest (signed) integer to be drawn\n",
      "        from the distribution (see above for behavior if ``high=None``).\n",
      "        If array-like, must contain integer values\n",
      "    size : int or tuple of ints, optional\n",
      "        Output shape.  If the given shape is, e.g., ``(m, n, k)``, then\n",
      "        ``m * n * k`` samples are drawn.  Default is None, in which case a\n",
      "        single value is returned.\n",
      "    dtype : dtype, optional\n",
      "        Desired dtype of the result. Byteorder must be native.\n",
      "        The default value is int.\n",
      "    \n",
      "        .. versionadded:: 1.11.0\n",
      "    \n",
      "    Returns\n",
      "    -------\n",
      "    out : int or ndarray of ints\n",
      "        `size`-shaped array of random integers from the appropriate\n",
      "        distribution, or a single such random int if `size` not provided.\n",
      "    \n",
      "    See Also\n",
      "    --------\n",
      "    random_integers : similar to `randint`, only for the closed\n",
      "        interval [`low`, `high`], and 1 is the lowest value if `high` is\n",
      "        omitted.\n",
      "    random.Generator.integers: which should be used for new code.\n",
      "    \n",
      "    Examples\n",
      "    --------\n",
      "    >>> np.random.randint(2, size=10)\n",
      "    array([1, 0, 0, 0, 1, 1, 0, 0, 1, 0]) # random\n",
      "    >>> np.random.randint(1, size=10)\n",
      "    array([0, 0, 0, 0, 0, 0, 0, 0, 0, 0])\n",
      "    \n",
      "    Generate a 2 x 4 array of ints between 0 and 4, inclusive:\n",
      "    \n",
      "    >>> np.random.randint(5, size=(2, 4))\n",
      "    array([[4, 0, 2, 1], # random\n",
      "           [3, 2, 2, 0]])\n",
      "    \n",
      "    Generate a 1 x 3 array with 3 different upper bounds\n",
      "    \n",
      "    >>> np.random.randint(1, [3, 5, 10])\n",
      "    array([2, 2, 9]) # random\n",
      "    \n",
      "    Generate a 1 by 3 array with 3 different lower bounds\n",
      "    \n",
      "    >>> np.random.randint([1, 5, 7], 10)\n",
      "    array([9, 8, 7]) # random\n",
      "    \n",
      "    Generate a 2 by 4 array using broadcasting with dtype of uint8\n",
      "    \n",
      "    >>> np.random.randint([1, 3, 5, 7], [[10], [20]], dtype=np.uint8)\n",
      "    array([[ 8,  6,  9,  7], # random\n",
      "           [ 1, 16,  9, 12]], dtype=uint8)\n",
      "\n"
     ]
    }
   ],
   "source": [
    "help(np.random.randint)"
   ]
  },
  {
   "cell_type": "code",
   "execution_count": 47,
   "id": "b9475809-1e35-4a5a-bcc9-39ca55e7c896",
   "metadata": {},
   "outputs": [
    {
     "data": {
      "text/plain": [
       "array([[ 6,  6,  8,  9],\n",
       "       [11, 13,  6, 13]])"
      ]
     },
     "execution_count": 47,
     "metadata": {},
     "output_type": "execute_result"
    }
   ],
   "source": [
    "np.random.randint([1, 3, 5, 7], [[10], [20]])"
   ]
  },
  {
   "cell_type": "code",
   "execution_count": 48,
   "id": "399afc0e-47d2-4c2c-95d3-9d29e3a7847a",
   "metadata": {},
   "outputs": [
    {
     "data": {
      "image/png": "[encoded data removed]",
      "text/plain": [
       "<Figure size 640x480 with 1 Axes>"
      ]
     },
     "metadata": {},
     "output_type": "display_data"
    }
   ],
   "source": [
    "import matplotlib.pyplot as plt\n",
    "\n",
    "plt.show(plt.hist(np.random.random(100)))"
   ]
  },
  {
   "cell_type": "code",
   "execution_count": 49,
   "id": "53b012d7-d5a6-45f9-9774-b78e4ebf2dcb",
   "metadata": {},
   "outputs": [
    {
     "data": {
      "text/plain": [
       "<matplotlib.colorbar.Colorbar at 0x29339219810>"
      ]
     },
     "execution_count": 49,
     "metadata": {},
     "output_type": "execute_result"
    },
    {
     "data": {
      "image/png": "[encoded data removed]",
      "text/plain": [
       "<Figure size 640x480 with 2 Axes>"
      ]
     },
     "metadata": {},
     "output_type": "display_data"
    }
   ],
   "source": [
    "imagem = np.random.rand(30,30)\n",
    "\n",
    "plt.imshow(imagem, cmap=plt.cm.hot)\n",
    "plt.colorbar()"
   ]
  },
  {
   "cell_type": "code",
   "execution_count": 50,
   "id": "57119a34-d76c-4d34-8f45-ffa2da21bc7c",
   "metadata": {},
   "outputs": [
    {
     "data": {
      "image/png": "[encoded data removed]",
      "text/plain": [
       "<Figure size 640x480 with 1 Axes>"
      ]
     },
     "metadata": {},
     "output_type": "display_data"
    }
   ],
   "source": [
    "a = np.random.randn(400,2)\n",
    "m = a.mean(axis=0)\n",
    "\n",
    "plt.plot(a[:,0], a[:,1], 'o', markersize=5, alpha=0.50)\n",
    "plt.plot(m[0],m[1], 'ro', markersize=10)\n",
    "plt.show()"
   ]
  },
  {
   "cell_type": "code",
   "execution_count": 51,
   "id": "c7ecdf0e-bc66-4966-a760-d4ac6850c381",
   "metadata": {},
   "outputs": [
    {
     "name": "stdout",
     "output_type": "stream",
     "text": [
      "Help on _ArrayFunctionDispatcher in module numpy:\n",
      "\n",
      "mean(a, axis=None, dtype=None, out=None, keepdims=<no value>, *, where=<no value>)\n",
      "    Compute the arithmetic mean along the specified axis.\n",
      "    \n",
      "    Returns the average of the array elements.  The average is taken over\n",
      "    the flattened array by default, otherwise over the specified axis.\n",
      "    `float64` intermediate and return values are used for integer inputs.\n",
      "    \n",
      "    Parameters\n",
      "    ----------\n",
      "    a : array_like\n",
      "        Array containing numbers whose mean is desired. If `a` is not an\n",
      "        array, a conversion is attempted.\n",
      "    axis : None or int or tuple of ints, optional\n",
      "        Axis or axes along which the means are computed. The default is to\n",
      "        compute the mean of the flattened array.\n",
      "    \n",
      "        .. versionadded:: 1.7.0\n",
      "    \n",
      "        If this is a tuple of ints, a mean is performed over multiple axes,\n",
      "        instead of a single axis or all the axes as before.\n",
      "    dtype : data-type, optional\n",
      "        Type to use in computing the mean.  For integer inputs, the default\n",
      "        is `float64`; for floating point inputs, it is the same as the\n",
      "        input dtype.\n",
      "    out : ndarray, optional\n",
      "        Alternate output array in which to place the result.  The default\n",
      "        is ``None``; if provided, it must have the same shape as the\n",
      "        expected output, but the type will be cast if necessary.\n",
      "        See :ref:`ufuncs-output-type` for more details.\n",
      "    \n",
      "    keepdims : bool, optional\n",
      "        If this is set to True, the axes which are reduced are left\n",
      "        in the result as dimensions with size one. With this option,\n",
      "        the result will broadcast correctly against the input array.\n",
      "    \n",
      "        If the default value is passed, then `keepdims` will not be\n",
      "        passed through to the `mean` method of sub-classes of\n",
      "        `ndarray`, however any non-default value will be.  If the\n",
      "        sub-class' method does not implement `keepdims` any\n",
      "        exceptions will be raised.\n",
      "    \n",
      "    where : array_like of bool, optional\n",
      "        Elements to include in the mean. See `~numpy.ufunc.reduce` for details.\n",
      "    \n",
      "        .. versionadded:: 1.20.0\n",
      "    \n",
      "    Returns\n",
      "    -------\n",
      "    m : ndarray, see dtype parameter above\n",
      "        If `out=None`, returns a new array containing the mean values,\n",
      "        otherwise a reference to the output array is returned.\n",
      "    \n",
      "    See Also\n",
      "    --------\n",
      "    average : Weighted average\n",
      "    std, var, nanmean, nanstd, nanvar\n",
      "    \n",
      "    Notes\n",
      "    -----\n",
      "    The arithmetic mean is the sum of the elements along the axis divided\n",
      "    by the number of elements.\n",
      "    \n",
      "    Note that for floating-point input, the mean is computed using the\n",
      "    same precision the input has.  Depending on the input data, this can\n",
      "    cause the results to be inaccurate, especially for `float32` (see\n",
      "    example below).  Specifying a higher-precision accumulator using the\n",
      "    `dtype` keyword can alleviate this issue.\n",
      "    \n",
      "    By default, `float16` results are computed using `float32` intermediates\n",
      "    for extra precision.\n",
      "    \n",
      "    Examples\n",
      "    --------\n",
      "    >>> a = np.array([[1, 2], [3, 4]])\n",
      "    >>> np.mean(a)\n",
      "    2.5\n",
      "    >>> np.mean(a, axis=0)\n",
      "    array([2., 3.])\n",
      "    >>> np.mean(a, axis=1)\n",
      "    array([1.5, 3.5])\n",
      "    \n",
      "    In single precision, `mean` can be inaccurate:\n",
      "    \n",
      "    >>> a = np.zeros((2, 512*512), dtype=np.float32)\n",
      "    >>> a[0, :] = 1.0\n",
      "    >>> a[1, :] = 0.1\n",
      "    >>> np.mean(a)\n",
      "    0.54999924\n",
      "    \n",
      "    Computing the mean in float64 is more accurate:\n",
      "    \n",
      "    >>> np.mean(a, dtype=np.float64)\n",
      "    0.55000000074505806 # may vary\n",
      "    \n",
      "    Specifying a where argument:\n",
      "    \n",
      "    >>> a = np.array([[5, 9, 13], [14, 10, 12], [11, 15, 19]])\n",
      "    >>> np.mean(a)\n",
      "    12.0\n",
      "    >>> np.mean(a, where=[[True], [False], [False]])\n",
      "    9.0\n",
      "\n"
     ]
    }
   ],
   "source": [
    "help(np.mean)"
   ]
  },
  {
   "cell_type": "markdown",
   "id": "cdb9c2d3-726e-4cdc-abd2-89c1a2de7e08",
   "metadata": {},
   "source": [
    "### Array com todos os valores iguais "
   ]
  },
  {
   "cell_type": "code",
   "execution_count": 52,
   "id": "d69866bc-8208-4ceb-8cb3-446fe577f753",
   "metadata": {},
   "outputs": [],
   "source": [
    "array_eq = np.full([3,3], 7)"
   ]
  },
  {
   "cell_type": "code",
   "execution_count": 53,
   "id": "b4b61a19-4117-40f7-bcbe-e624deae2a49",
   "metadata": {},
   "outputs": [
    {
     "data": {
      "text/plain": [
       "array([[7, 7, 7],\n",
       "       [7, 7, 7],\n",
       "       [7, 7, 7]])"
      ]
     },
     "execution_count": 53,
     "metadata": {},
     "output_type": "execute_result"
    }
   ],
   "source": [
    "array_eq"
   ]
  },
  {
   "cell_type": "markdown",
   "id": "24448787-a08e-4b74-877a-d4f8935a50a8",
   "metadata": {},
   "source": [
    "### Array identidade "
   ]
  },
  {
   "cell_type": "code",
   "execution_count": 54,
   "id": "8e921386-c966-48ee-a9d2-88e0fc71bcf1",
   "metadata": {},
   "outputs": [],
   "source": [
    "array_id = np.eye(4)"
   ]
  },
  {
   "cell_type": "code",
   "execution_count": 55,
   "id": "ccbd3157-e7f1-4f2c-ad9a-519bd1b6d84a",
   "metadata": {},
   "outputs": [
    {
     "name": "stdout",
     "output_type": "stream",
     "text": [
      "Help on function eye in module numpy:\n",
      "\n",
      "eye(N, M=None, k=0, dtype=<class 'float'>, order='C', *, like=None)\n",
      "    Return a 2-D array with ones on the diagonal and zeros elsewhere.\n",
      "    \n",
      "    Parameters\n",
      "    ----------\n",
      "    N : int\n",
      "      Number of rows in the output.\n",
      "    M : int, optional\n",
      "      Number of columns in the output. If None, defaults to `N`.\n",
      "    k : int, optional\n",
      "      Index of the diagonal: 0 (the default) refers to the main diagonal,\n",
      "      a positive value refers to an upper diagonal, and a negative value\n",
      "      to a lower diagonal.\n",
      "    dtype : data-type, optional\n",
      "      Data-type of the returned array.\n",
      "    order : {'C', 'F'}, optional\n",
      "        Whether the output should be stored in row-major (C-style) or\n",
      "        column-major (Fortran-style) order in memory.\n",
      "    \n",
      "        .. versionadded:: 1.14.0\n",
      "    like : array_like, optional\n",
      "        Reference object to allow the creation of arrays which are not\n",
      "        NumPy arrays. If an array-like passed in as ``like`` supports\n",
      "        the ``__array_function__`` protocol, the result will be defined\n",
      "        by it. In this case, it ensures the creation of an array object\n",
      "        compatible with that passed in via this argument.\n",
      "    \n",
      "        .. versionadded:: 1.20.0\n",
      "    \n",
      "    Returns\n",
      "    -------\n",
      "    I : ndarray of shape (N,M)\n",
      "      An array where all elements are equal to zero, except for the `k`-th\n",
      "      diagonal, whose values are equal to one.\n",
      "    \n",
      "    See Also\n",
      "    --------\n",
      "    identity : (almost) equivalent function\n",
      "    diag : diagonal 2-D array from a 1-D array specified by the user.\n",
      "    \n",
      "    Examples\n",
      "    --------\n",
      "    >>> np.eye(2, dtype=int)\n",
      "    array([[1, 0],\n",
      "           [0, 1]])\n",
      "    >>> np.eye(3, k=1)\n",
      "    array([[0.,  1.,  0.],\n",
      "           [0.,  0.,  1.],\n",
      "           [0.,  0.,  0.]])\n",
      "\n"
     ]
    }
   ],
   "source": [
    "help( np.eye)"
   ]
  },
  {
   "cell_type": "code",
   "execution_count": 56,
   "id": "69e28083-3d73-4794-8175-c92e9a99a386",
   "metadata": {},
   "outputs": [
    {
     "data": {
      "text/plain": [
       "array([[1., 0., 0., 0.],\n",
       "       [0., 1., 0., 0.],\n",
       "       [0., 0., 1., 0.],\n",
       "       [0., 0., 0., 1.]])"
      ]
     },
     "execution_count": 56,
     "metadata": {},
     "output_type": "execute_result"
    }
   ],
   "source": [
    "array_id"
   ]
  },
  {
   "cell_type": "markdown",
   "id": "9dedd135-0875-44ed-9e8b-a86784f6cd10",
   "metadata": {},
   "source": [
    "### Atributos e métodos de um array "
   ]
  },
  {
   "cell_type": "markdown",
   "id": "6f37c695-5a16-4e61-ad53-5cec7c943a11",
   "metadata": {},
   "source": [
    "- **reshape()**: é utilizado para reestruturar nosso array"
   ]
  },
  {
   "cell_type": "code",
   "execution_count": 57,
   "id": "23f9d4cb-02bf-4790-90f3-229a60c6921b",
   "metadata": {},
   "outputs": [],
   "source": [
    "array = np.arange(8)"
   ]
  },
  {
   "cell_type": "code",
   "execution_count": 58,
   "id": "ffaf88cd-ae9e-40c4-8bc6-0e8933766017",
   "metadata": {},
   "outputs": [
    {
     "data": {
      "text/plain": [
       "array([0, 1, 2, 3, 4, 5, 6, 7])"
      ]
     },
     "execution_count": 58,
     "metadata": {},
     "output_type": "execute_result"
    }
   ],
   "source": [
    "array"
   ]
  },
  {
   "cell_type": "code",
   "execution_count": 59,
   "id": "ffb63704-4548-46d9-be50-d0ded0029ceb",
   "metadata": {},
   "outputs": [
    {
     "data": {
      "text/plain": [
       "array([[0, 1],\n",
       "       [2, 3],\n",
       "       [4, 5],\n",
       "       [6, 7]])"
      ]
     },
     "execution_count": 59,
     "metadata": {},
     "output_type": "execute_result"
    }
   ],
   "source": [
    "array.reshape((4,2))"
   ]
  },
  {
   "cell_type": "code",
   "execution_count": 60,
   "id": "7d3db8fb-94c5-4d62-ab38-2cb6084f428e",
   "metadata": {},
   "outputs": [
    {
     "data": {
      "text/plain": [
       "array([[0, 1, 2, 3, 4, 5, 6, 7]])"
      ]
     },
     "execution_count": 60,
     "metadata": {},
     "output_type": "execute_result"
    }
   ],
   "source": [
    "array.reshape((1,8))"
   ]
  },
  {
   "cell_type": "code",
   "execution_count": 61,
   "id": "9915b6e5-8d01-4f8a-9302-b4520dba9823",
   "metadata": {},
   "outputs": [
    {
     "data": {
      "text/plain": [
       "array([[0, 1, 2, 3],\n",
       "       [4, 5, 6, 7]])"
      ]
     },
     "execution_count": 61,
     "metadata": {},
     "output_type": "execute_result"
    }
   ],
   "source": [
    "array.reshape((2,4))"
   ]
  },
  {
   "cell_type": "code",
   "execution_count": 62,
   "id": "4a66ecf1-b974-4bff-a701-ecb29243c9b8",
   "metadata": {},
   "outputs": [
    {
     "name": "stdout",
     "output_type": "stream",
     "text": [
      "Help on _ArrayFunctionDispatcher in module numpy:\n",
      "\n",
      "reshape(a, newshape, order='C')\n",
      "    Gives a new shape to an array without changing its data.\n",
      "    \n",
      "    Parameters\n",
      "    ----------\n",
      "    a : array_like\n",
      "        Array to be reshaped.\n",
      "    newshape : int or tuple of ints\n",
      "        The new shape should be compatible with the original shape. If\n",
      "        an integer, then the result will be a 1-D array of that length.\n",
      "        One shape dimension can be -1. In this case, the value is\n",
      "        inferred from the length of the array and remaining dimensions.\n",
      "    order : {'C', 'F', 'A'}, optional\n",
      "        Read the elements of `a` using this index order, and place the\n",
      "        elements into the reshaped array using this index order.  'C'\n",
      "        means to read / write the elements using C-like index order,\n",
      "        with the last axis index changing fastest, back to the first\n",
      "        axis index changing slowest. 'F' means to read / write the\n",
      "        elements using Fortran-like index order, with the first index\n",
      "        changing fastest, and the last index changing slowest. Note that\n",
      "        the 'C' and 'F' options take no account of the memory layout of\n",
      "        the underlying array, and only refer to the order of indexing.\n",
      "        'A' means to read / write the elements in Fortran-like index\n",
      "        order if `a` is Fortran *contiguous* in memory, C-like order\n",
      "        otherwise.\n",
      "    \n",
      "    Returns\n",
      "    -------\n",
      "    reshaped_array : ndarray\n",
      "        This will be a new view object if possible; otherwise, it will\n",
      "        be a copy.  Note there is no guarantee of the *memory layout* (C- or\n",
      "        Fortran- contiguous) of the returned array.\n",
      "    \n",
      "    See Also\n",
      "    --------\n",
      "    ndarray.reshape : Equivalent method.\n",
      "    \n",
      "    Notes\n",
      "    -----\n",
      "    It is not always possible to change the shape of an array without copying\n",
      "    the data.\n",
      "    \n",
      "    The `order` keyword gives the index ordering both for *fetching* the values\n",
      "    from `a`, and then *placing* the values into the output array.\n",
      "    For example, let's say you have an array:\n",
      "    \n",
      "    >>> a = np.arange(6).reshape((3, 2))\n",
      "    >>> a\n",
      "    array([[0, 1],\n",
      "           [2, 3],\n",
      "           [4, 5]])\n",
      "    \n",
      "    You can think of reshaping as first raveling the array (using the given\n",
      "    index order), then inserting the elements from the raveled array into the\n",
      "    new array using the same kind of index ordering as was used for the\n",
      "    raveling.\n",
      "    \n",
      "    >>> np.reshape(a, (2, 3)) # C-like index ordering\n",
      "    array([[0, 1, 2],\n",
      "           [3, 4, 5]])\n",
      "    >>> np.reshape(np.ravel(a), (2, 3)) # equivalent to C ravel then C reshape\n",
      "    array([[0, 1, 2],\n",
      "           [3, 4, 5]])\n",
      "    >>> np.reshape(a, (2, 3), order='F') # Fortran-like index ordering\n",
      "    array([[0, 4, 3],\n",
      "           [2, 1, 5]])\n",
      "    >>> np.reshape(np.ravel(a, order='F'), (2, 3), order='F')\n",
      "    array([[0, 4, 3],\n",
      "           [2, 1, 5]])\n",
      "    \n",
      "    Examples\n",
      "    --------\n",
      "    >>> a = np.array([[1,2,3], [4,5,6]])\n",
      "    >>> np.reshape(a, 6)\n",
      "    array([1, 2, 3, 4, 5, 6])\n",
      "    >>> np.reshape(a, 6, order='F')\n",
      "    array([1, 4, 2, 5, 3, 6])\n",
      "    \n",
      "    >>> np.reshape(a, (3,-1))       # the unspecified value is inferred to be 2\n",
      "    array([[1, 2],\n",
      "           [3, 4],\n",
      "           [5, 6]])\n",
      "\n"
     ]
    }
   ],
   "source": [
    "help(np.reshape)"
   ]
  },
  {
   "cell_type": "code",
   "execution_count": 63,
   "id": "275c25aa-4579-43ce-9343-0979718f5349",
   "metadata": {},
   "outputs": [
    {
     "data": {
      "text/plain": [
       "array([[0, 1],\n",
       "       [2, 3],\n",
       "       [4, 5],\n",
       "       [6, 7]])"
      ]
     },
     "execution_count": 63,
     "metadata": {},
     "output_type": "execute_result"
    }
   ],
   "source": [
    "np.arange(8).reshape((4,2), order='C')"
   ]
  },
  {
   "cell_type": "code",
   "execution_count": 64,
   "id": "6c62adcb-2289-4085-a8fc-3ff17c1ae05d",
   "metadata": {},
   "outputs": [
    {
     "data": {
      "text/plain": [
       "array([[0, 4],\n",
       "       [1, 5],\n",
       "       [2, 6],\n",
       "       [3, 7]])"
      ]
     },
     "execution_count": 64,
     "metadata": {},
     "output_type": "execute_result"
    }
   ],
   "source": [
    "np.arange(8).reshape((4,2), order='F')"
   ]
  },
  {
   "cell_type": "markdown",
   "id": "76751f0d-d829-4c29-a8cf-1d2300e4534d",
   "metadata": {},
   "source": [
    "- **tolist()**: transforma um array em lista "
   ]
  },
  {
   "cell_type": "code",
   "execution_count": 65,
   "id": "27d2b583-fc27-4af1-9f62-8114be3f3ee1",
   "metadata": {},
   "outputs": [
    {
     "data": {
      "text/plain": [
       "[0, 1, 2, 3, 4, 5, 6, 7]"
      ]
     },
     "execution_count": 65,
     "metadata": {},
     "output_type": "execute_result"
    }
   ],
   "source": [
    "np.arange(8).tolist()"
   ]
  },
  {
   "cell_type": "code",
   "execution_count": 66,
   "id": "83d375c3-a01e-4aad-afea-1205c54b3021",
   "metadata": {},
   "outputs": [
    {
     "data": {
      "text/plain": [
       "[[0, 4], [1, 5], [2, 6], [3, 7]]"
      ]
     },
     "execution_count": 66,
     "metadata": {},
     "output_type": "execute_result"
    }
   ],
   "source": [
    "np.arange(8).reshape((4,2), order='F').tolist()"
   ]
  },
  {
   "cell_type": "code",
   "execution_count": 67,
   "id": "72333bdf-98d9-481e-a7e3-e732d651c4a2",
   "metadata": {},
   "outputs": [
    {
     "data": {
      "text/plain": [
       "list"
      ]
     },
     "execution_count": 67,
     "metadata": {},
     "output_type": "execute_result"
    }
   ],
   "source": [
    "type(np.arange(8).tolist())"
   ]
  },
  {
   "cell_type": "markdown",
   "id": "71cdf728-7fc7-4260-931b-45971277e27d",
   "metadata": {},
   "source": [
    "- Criando arrays "
   ]
  },
  {
   "cell_type": "code",
   "execution_count": 68,
   "id": "3686daca-4d90-4051-bc36-d0b93c8b8bfa",
   "metadata": {},
   "outputs": [],
   "source": [
    "array = np.arange(6)\n",
    "array2 = np.arange(6).reshape((3,2), order='C')\n",
    "array3 = np.array([['Um','array'],['de','strings']])"
   ]
  },
  {
   "cell_type": "code",
   "execution_count": 69,
   "id": "8969f22d-9202-430d-ba2c-0d3d7bdab8b1",
   "metadata": {},
   "outputs": [
    {
     "name": "stdout",
     "output_type": "stream",
     "text": [
      "[0 1 2 3 4 5]\n",
      "\n",
      "[[0 1]\n",
      " [2 3]\n",
      " [4 5]]\n",
      "\n",
      "[['Um' 'array']\n",
      " ['de' 'strings']]\n"
     ]
    }
   ],
   "source": [
    "print(array, array2, array3, sep='\\n\\n')"
   ]
  },
  {
   "cell_type": "markdown",
   "id": "85e331a4-4f6b-46fe-8928-7ba5b80487ac",
   "metadata": {},
   "source": [
    "- **shape**: retorna a forma do array "
   ]
  },
  {
   "cell_type": "code",
   "execution_count": 70,
   "id": "8e043d1b-be42-4201-b424-062ba877f91f",
   "metadata": {},
   "outputs": [
    {
     "data": {
      "text/plain": [
       "(6,)"
      ]
     },
     "execution_count": 70,
     "metadata": {},
     "output_type": "execute_result"
    }
   ],
   "source": [
    "array.shape"
   ]
  },
  {
   "cell_type": "code",
   "execution_count": 71,
   "id": "48f119a5-7ee5-4d9a-be3f-99794e78d1ba",
   "metadata": {},
   "outputs": [
    {
     "data": {
      "text/plain": [
       "(3, 2)"
      ]
     },
     "execution_count": 71,
     "metadata": {},
     "output_type": "execute_result"
    }
   ],
   "source": [
    "array2.shape"
   ]
  },
  {
   "cell_type": "code",
   "execution_count": 72,
   "id": "eb80d6a3-48fa-472b-b9df-2e7306eae2e5",
   "metadata": {},
   "outputs": [
    {
     "data": {
      "text/plain": [
       "(2, 2)"
      ]
     },
     "execution_count": 72,
     "metadata": {},
     "output_type": "execute_result"
    }
   ],
   "source": [
    "array3.shape"
   ]
  },
  {
   "cell_type": "markdown",
   "id": "6526b605-12bf-42d0-9170-a3b02254bd7d",
   "metadata": {},
   "source": [
    "- **ndim**: retorna o número de dimensões do array "
   ]
  },
  {
   "cell_type": "code",
   "execution_count": 73,
   "id": "2331ddb4-8780-491d-b210-1df43bed7b9f",
   "metadata": {},
   "outputs": [
    {
     "data": {
      "text/plain": [
       "1"
      ]
     },
     "execution_count": 73,
     "metadata": {},
     "output_type": "execute_result"
    }
   ],
   "source": [
    "array.ndim"
   ]
  },
  {
   "cell_type": "code",
   "execution_count": 74,
   "id": "e8f86dd1-771d-4244-ad6f-69553e64b631",
   "metadata": {},
   "outputs": [
    {
     "data": {
      "text/plain": [
       "2"
      ]
     },
     "execution_count": 74,
     "metadata": {},
     "output_type": "execute_result"
    }
   ],
   "source": [
    "array2.ndim"
   ]
  },
  {
   "cell_type": "code",
   "execution_count": 75,
   "id": "ee2a0213-3088-4872-ab9a-3ef9782b543d",
   "metadata": {},
   "outputs": [
    {
     "data": {
      "text/plain": [
       "2"
      ]
     },
     "execution_count": 75,
     "metadata": {},
     "output_type": "execute_result"
    }
   ],
   "source": [
    "array3.ndim"
   ]
  },
  {
   "cell_type": "code",
   "execution_count": 76,
   "id": "ecf9cc02-6cda-4fd7-b039-bc61fb387466",
   "metadata": {},
   "outputs": [
    {
     "data": {
      "text/plain": [
       "array([[[0., 0., 0., 0.],\n",
       "        [0., 0., 0., 0.],\n",
       "        [0., 0., 0., 0.]],\n",
       "\n",
       "       [[0., 0., 0., 0.],\n",
       "        [0., 0., 0., 0.],\n",
       "        [0., 0., 0., 0.]]])"
      ]
     },
     "execution_count": 76,
     "metadata": {},
     "output_type": "execute_result"
    }
   ],
   "source": [
    "np.zeros((2, 3, 4))"
   ]
  },
  {
   "cell_type": "code",
   "execution_count": 77,
   "id": "60523ab6-30a0-425d-b382-636caebce222",
   "metadata": {},
   "outputs": [
    {
     "data": {
      "text/plain": [
       "3"
      ]
     },
     "execution_count": 77,
     "metadata": {},
     "output_type": "execute_result"
    }
   ],
   "source": [
    "np.zeros((2, 3, 4)).ndim"
   ]
  },
  {
   "cell_type": "markdown",
   "id": "bba2abe8-f68a-4402-a5a9-5230bae6df29",
   "metadata": {},
   "source": [
    "- **size**: retorna o número de elementos do nosso array "
   ]
  },
  {
   "cell_type": "code",
   "execution_count": 78,
   "id": "ac20013f-c30d-48af-9c85-ba52ccb79b49",
   "metadata": {},
   "outputs": [
    {
     "data": {
      "text/plain": [
       "24"
      ]
     },
     "execution_count": 78,
     "metadata": {},
     "output_type": "execute_result"
    }
   ],
   "source": [
    "np.zeros((2, 3, 4)).size"
   ]
  },
  {
   "cell_type": "code",
   "execution_count": 79,
   "id": "e82b47fe-099b-4126-b331-7bb2cac7b7dd",
   "metadata": {},
   "outputs": [
    {
     "data": {
      "text/plain": [
       "6"
      ]
     },
     "execution_count": 79,
     "metadata": {},
     "output_type": "execute_result"
    }
   ],
   "source": [
    "array.size"
   ]
  },
  {
   "cell_type": "code",
   "execution_count": 80,
   "id": "a68a5ea4-306d-4c26-953b-453ddd04606f",
   "metadata": {},
   "outputs": [
    {
     "data": {
      "text/plain": [
       "6"
      ]
     },
     "execution_count": 80,
     "metadata": {},
     "output_type": "execute_result"
    }
   ],
   "source": [
    "array2.size"
   ]
  },
  {
   "cell_type": "code",
   "execution_count": 81,
   "id": "4f5287f1-df80-4a54-9430-8f770fc02941",
   "metadata": {},
   "outputs": [
    {
     "data": {
      "text/plain": [
       "4"
      ]
     },
     "execution_count": 81,
     "metadata": {},
     "output_type": "execute_result"
    }
   ],
   "source": [
    "array3.size"
   ]
  },
  {
   "cell_type": "markdown",
   "id": "7a00637e-1b0c-469b-8db0-3f104f6636a2",
   "metadata": {},
   "source": [
    "- **dtype**: retorna o tipo do array "
   ]
  },
  {
   "cell_type": "code",
   "execution_count": 82,
   "id": "5926b265-3e26-4359-b21b-42efe2a4b328",
   "metadata": {},
   "outputs": [
    {
     "data": {
      "text/plain": [
       "dtype('int32')"
      ]
     },
     "execution_count": 82,
     "metadata": {},
     "output_type": "execute_result"
    }
   ],
   "source": [
    "array.dtype"
   ]
  },
  {
   "cell_type": "code",
   "execution_count": 83,
   "id": "59a3b63f-64fc-401c-8f07-04ca66ea11bc",
   "metadata": {},
   "outputs": [
    {
     "data": {
      "text/plain": [
       "dtype('<U7')"
      ]
     },
     "execution_count": 83,
     "metadata": {},
     "output_type": "execute_result"
    }
   ],
   "source": [
    "array3.dtype"
   ]
  },
  {
   "cell_type": "code",
   "execution_count": 84,
   "id": "35fa5c4e-18eb-40d4-969d-328128d17fcb",
   "metadata": {},
   "outputs": [
    {
     "data": {
      "text/plain": [
       "dtype('int32')"
      ]
     },
     "execution_count": 84,
     "metadata": {},
     "output_type": "execute_result"
    }
   ],
   "source": [
    "array2.dtype"
   ]
  },
  {
   "cell_type": "markdown",
   "id": "49282b49-8c9c-4670-b353-d9e2d21f7985",
   "metadata": {},
   "source": [
    "- **dtype('<U7')**: U7 porque é uma cadeia de caracteres de comprimento 13 internamente em Unicode. "
   ]
  },
  {
   "cell_type": "code",
   "execution_count": 85,
   "id": "04517cbd-10b7-4ad5-8b39-402f11e50cf1",
   "metadata": {},
   "outputs": [
    {
     "data": {
      "text/plain": [
       "dtype('<U13')"
      ]
     },
     "execution_count": 85,
     "metadata": {},
     "output_type": "execute_result"
    }
   ],
   "source": [
    "np.array([['Um','array'],['de','umafrasemaior']]).dtype"
   ]
  },
  {
   "cell_type": "markdown",
   "id": "f7f2d39f-1abf-4a54-a4f8-498c653f7572",
   "metadata": {},
   "source": [
    "- **T**: retornar a transposta do array (é obtida transportando-se ordenadamente os elementos das linhas de A para as colunas da transposta)."
   ]
  },
  {
   "cell_type": "code",
   "execution_count": 86,
   "id": "6bd3a8d3-d871-4bad-87c8-fe44e30f28ee",
   "metadata": {},
   "outputs": [
    {
     "data": {
      "text/plain": [
       "array([0, 1, 2, 3, 4, 5])"
      ]
     },
     "execution_count": 86,
     "metadata": {},
     "output_type": "execute_result"
    }
   ],
   "source": [
    "array"
   ]
  },
  {
   "cell_type": "code",
   "execution_count": 87,
   "id": "6a9d09e4-e4c7-41fa-96d3-4cae961dabdb",
   "metadata": {},
   "outputs": [
    {
     "data": {
      "text/plain": [
       "array([0, 1, 2, 3, 4, 5])"
      ]
     },
     "execution_count": 87,
     "metadata": {},
     "output_type": "execute_result"
    }
   ],
   "source": [
    "array.T"
   ]
  },
  {
   "cell_type": "code",
   "execution_count": 88,
   "id": "fb1885e5-b120-4756-9bdc-bcc46099b86b",
   "metadata": {},
   "outputs": [
    {
     "data": {
      "text/plain": [
       "array([[0, 1],\n",
       "       [2, 3],\n",
       "       [4, 5]])"
      ]
     },
     "execution_count": 88,
     "metadata": {},
     "output_type": "execute_result"
    }
   ],
   "source": [
    "array2"
   ]
  },
  {
   "cell_type": "code",
   "execution_count": 89,
   "id": "e9930c5d-f429-4d79-ad9f-77de9eeb8b9f",
   "metadata": {},
   "outputs": [
    {
     "data": {
      "text/plain": [
       "array([[0, 2, 4],\n",
       "       [1, 3, 5]])"
      ]
     },
     "execution_count": 89,
     "metadata": {},
     "output_type": "execute_result"
    }
   ],
   "source": [
    "array2.T"
   ]
  },
  {
   "cell_type": "code",
   "execution_count": 90,
   "id": "3f82de9a-2c1b-497d-a1bf-fb6b9c82547b",
   "metadata": {},
   "outputs": [
    {
     "data": {
      "text/plain": [
       "array([['Um', 'array'],\n",
       "       ['de', 'strings']], dtype='<U7')"
      ]
     },
     "execution_count": 90,
     "metadata": {},
     "output_type": "execute_result"
    }
   ],
   "source": [
    "array3"
   ]
  },
  {
   "cell_type": "code",
   "execution_count": 91,
   "id": "1ce2af22-0999-4371-991a-19ab8c7f98a0",
   "metadata": {},
   "outputs": [
    {
     "data": {
      "text/plain": [
       "array([['Um', 'de'],\n",
       "       ['array', 'strings']], dtype='<U7')"
      ]
     },
     "execution_count": 91,
     "metadata": {},
     "output_type": "execute_result"
    }
   ],
   "source": [
    "array3.T"
   ]
  },
  {
   "cell_type": "markdown",
   "id": "d3622803-ac91-4103-a771-a89f1aa3c97c",
   "metadata": {},
   "source": [
    "- **linspace**: retorna um número de valores igualmente distrubídos no intervalo espeficado."
   ]
  },
  {
   "cell_type": "code",
   "execution_count": 92,
   "id": "f697e7f5-0780-4670-a090-c91e7b8dc40c",
   "metadata": {},
   "outputs": [
    {
     "data": {
      "text/plain": [
       "array([0.        , 0.04081633, 0.08163265, 0.12244898, 0.16326531,\n",
       "       0.20408163, 0.24489796, 0.28571429, 0.32653061, 0.36734694,\n",
       "       0.40816327, 0.44897959, 0.48979592, 0.53061224, 0.57142857,\n",
       "       0.6122449 , 0.65306122, 0.69387755, 0.73469388, 0.7755102 ,\n",
       "       0.81632653, 0.85714286, 0.89795918, 0.93877551, 0.97959184,\n",
       "       1.02040816, 1.06122449, 1.10204082, 1.14285714, 1.18367347,\n",
       "       1.2244898 , 1.26530612, 1.30612245, 1.34693878, 1.3877551 ,\n",
       "       1.42857143, 1.46938776, 1.51020408, 1.55102041, 1.59183673,\n",
       "       1.63265306, 1.67346939, 1.71428571, 1.75510204, 1.79591837,\n",
       "       1.83673469, 1.87755102, 1.91836735, 1.95918367, 2.        ])"
      ]
     },
     "execution_count": 92,
     "metadata": {},
     "output_type": "execute_result"
    }
   ],
   "source": [
    "np.linspace(0,2)"
   ]
  },
  {
   "cell_type": "code",
   "execution_count": 93,
   "id": "dcc4c779-9ee5-4dc2-9fce-27d034310727",
   "metadata": {},
   "outputs": [
    {
     "data": {
      "text/plain": [
       "array([ 1.,  2.,  3.,  4.,  5.,  6.,  7.,  8.,  9., 10., 11., 12., 13.,\n",
       "       14., 15., 16., 17., 18., 19., 20., 21., 22., 23., 24., 25., 26.,\n",
       "       27., 28., 29., 30., 31., 32., 33., 34., 35., 36., 37., 38., 39.,\n",
       "       40., 41., 42., 43., 44., 45., 46., 47., 48., 49., 50.])"
      ]
     },
     "execution_count": 93,
     "metadata": {},
     "output_type": "execute_result"
    }
   ],
   "source": [
    "np.linspace(1,50)"
   ]
  },
  {
   "cell_type": "markdown",
   "id": "ce388114-bf88-4117-b96a-b297c16ab0f7",
   "metadata": {},
   "source": [
    "- Definindo o tamanho "
   ]
  },
  {
   "cell_type": "code",
   "execution_count": 94,
   "id": "b20dee61-bccf-49f3-8eda-79021b03022f",
   "metadata": {},
   "outputs": [
    {
     "data": {
      "text/plain": [
       "array([0., 2.])"
      ]
     },
     "execution_count": 94,
     "metadata": {},
     "output_type": "execute_result"
    }
   ],
   "source": [
    "np.linspace(0,2,2)"
   ]
  },
  {
   "cell_type": "code",
   "execution_count": 95,
   "id": "c0bf7dfa-8e4b-4fbe-a616-1bba7f4d1151",
   "metadata": {},
   "outputs": [
    {
     "name": "stdout",
     "output_type": "stream",
     "text": [
      "Help on _ArrayFunctionDispatcher in module numpy:\n",
      "\n",
      "linspace(start, stop, num=50, endpoint=True, retstep=False, dtype=None, axis=0)\n",
      "    Return evenly spaced numbers over a specified interval.\n",
      "    \n",
      "    Returns `num` evenly spaced samples, calculated over the\n",
      "    interval [`start`, `stop`].\n",
      "    \n",
      "    The endpoint of the interval can optionally be excluded.\n",
      "    \n",
      "    .. versionchanged:: 1.16.0\n",
      "        Non-scalar `start` and `stop` are now supported.\n",
      "    \n",
      "    .. versionchanged:: 1.20.0\n",
      "        Values are rounded towards ``-inf`` instead of ``0`` when an\n",
      "        integer ``dtype`` is specified. The old behavior can\n",
      "        still be obtained with ``np.linspace(start, stop, num).astype(int)``\n",
      "    \n",
      "    Parameters\n",
      "    ----------\n",
      "    start : array_like\n",
      "        The starting value of the sequence.\n",
      "    stop : array_like\n",
      "        The end value of the sequence, unless `endpoint` is set to False.\n",
      "        In that case, the sequence consists of all but the last of ``num + 1``\n",
      "        evenly spaced samples, so that `stop` is excluded.  Note that the step\n",
      "        size changes when `endpoint` is False.\n",
      "    num : int, optional\n",
      "        Number of samples to generate. Default is 50. Must be non-negative.\n",
      "    endpoint : bool, optional\n",
      "        If True, `stop` is the last sample. Otherwise, it is not included.\n",
      "        Default is True.\n",
      "    retstep : bool, optional\n",
      "        If True, return (`samples`, `step`), where `step` is the spacing\n",
      "        between samples.\n",
      "    dtype : dtype, optional\n",
      "        The type of the output array.  If `dtype` is not given, the data type\n",
      "        is inferred from `start` and `stop`. The inferred dtype will never be\n",
      "        an integer; `float` is chosen even if the arguments would produce an\n",
      "        array of integers.\n",
      "    \n",
      "        .. versionadded:: 1.9.0\n",
      "    \n",
      "    axis : int, optional\n",
      "        The axis in the result to store the samples.  Relevant only if start\n",
      "        or stop are array-like.  By default (0), the samples will be along a\n",
      "        new axis inserted at the beginning. Use -1 to get an axis at the end.\n",
      "    \n",
      "        .. versionadded:: 1.16.0\n",
      "    \n",
      "    Returns\n",
      "    -------\n",
      "    samples : ndarray\n",
      "        There are `num` equally spaced samples in the closed interval\n",
      "        ``[start, stop]`` or the half-open interval ``[start, stop)``\n",
      "        (depending on whether `endpoint` is True or False).\n",
      "    step : float, optional\n",
      "        Only returned if `retstep` is True\n",
      "    \n",
      "        Size of spacing between samples.\n",
      "    \n",
      "    \n",
      "    See Also\n",
      "    --------\n",
      "    arange : Similar to `linspace`, but uses a step size (instead of the\n",
      "             number of samples).\n",
      "    geomspace : Similar to `linspace`, but with numbers spaced evenly on a log\n",
      "                scale (a geometric progression).\n",
      "    logspace : Similar to `geomspace`, but with the end points specified as\n",
      "               logarithms.\n",
      "    :ref:`how-to-partition`\n",
      "    \n",
      "    Examples\n",
      "    --------\n",
      "    >>> np.linspace(2.0, 3.0, num=5)\n",
      "    array([2.  , 2.25, 2.5 , 2.75, 3.  ])\n",
      "    >>> np.linspace(2.0, 3.0, num=5, endpoint=False)\n",
      "    array([2. ,  2.2,  2.4,  2.6,  2.8])\n",
      "    >>> np.linspace(2.0, 3.0, num=5, retstep=True)\n",
      "    (array([2.  ,  2.25,  2.5 ,  2.75,  3.  ]), 0.25)\n",
      "    \n",
      "    Graphical illustration:\n",
      "    \n",
      "    >>> import matplotlib.pyplot as plt\n",
      "    >>> N = 8\n",
      "    >>> y = np.zeros(N)\n",
      "    >>> x1 = np.linspace(0, 10, N, endpoint=True)\n",
      "    >>> x2 = np.linspace(0, 10, N, endpoint=False)\n",
      "    >>> plt.plot(x1, y, 'o')\n",
      "    [<matplotlib.lines.Line2D object at 0x...>]\n",
      "    >>> plt.plot(x2, y + 0.5, 'o')\n",
      "    [<matplotlib.lines.Line2D object at 0x...>]\n",
      "    >>> plt.ylim([-0.5, 1])\n",
      "    (-0.5, 1)\n",
      "    >>> plt.show()\n",
      "\n"
     ]
    }
   ],
   "source": [
    "help(np.linspace)"
   ]
  },
  {
   "cell_type": "markdown",
   "id": "e05bb0cb-3854-46ec-8525-970731ed6624",
   "metadata": {},
   "source": [
    "- *num*: é o número de elementos\n",
    "- *endpoint*: é se deve chegar ao fim do intervalo ou não\n",
    "- *retstep*: Se True retorna uma tupla, onde o primeiro valor é o array e o segundo o incremento "
   ]
  },
  {
   "cell_type": "code",
   "execution_count": 96,
   "id": "d4a5f5a4-eb5f-4b0b-8bde-22d34ae70a3d",
   "metadata": {},
   "outputs": [
    {
     "data": {
      "text/plain": [
       "(array([0.  , 0.01, 0.02, 0.03, 0.04, 0.05, 0.06, 0.07, 0.08, 0.09, 0.1 ,\n",
       "        0.11, 0.12, 0.13, 0.14, 0.15, 0.16, 0.17, 0.18, 0.19, 0.2 , 0.21,\n",
       "        0.22, 0.23, 0.24, 0.25, 0.26, 0.27, 0.28, 0.29, 0.3 , 0.31, 0.32,\n",
       "        0.33, 0.34, 0.35, 0.36, 0.37, 0.38, 0.39, 0.4 , 0.41, 0.42, 0.43,\n",
       "        0.44, 0.45, 0.46, 0.47, 0.48, 0.49, 0.5 , 0.51, 0.52, 0.53, 0.54,\n",
       "        0.55, 0.56, 0.57, 0.58, 0.59, 0.6 , 0.61, 0.62, 0.63, 0.64, 0.65,\n",
       "        0.66, 0.67, 0.68, 0.69, 0.7 , 0.71, 0.72, 0.73, 0.74, 0.75, 0.76,\n",
       "        0.77, 0.78, 0.79, 0.8 , 0.81, 0.82, 0.83, 0.84, 0.85, 0.86, 0.87,\n",
       "        0.88, 0.89, 0.9 , 0.91, 0.92, 0.93, 0.94, 0.95, 0.96, 0.97, 0.98,\n",
       "        0.99]),\n",
       " 0.01)"
      ]
     },
     "execution_count": 96,
     "metadata": {},
     "output_type": "execute_result"
    }
   ],
   "source": [
    "np.linspace(0,1, num=100, endpoint=False, retstep=True)"
   ]
  },
  {
   "cell_type": "code",
   "execution_count": 97,
   "id": "7248a33e-8291-4fbd-9a69-a5052577ec04",
   "metadata": {},
   "outputs": [
    {
     "data": {
      "text/plain": [
       "array([ 1.        ,  1.64285714,  2.28571429,  2.92857143,  3.57142857,\n",
       "        4.21428571,  4.85714286,  5.5       ,  6.14285714,  6.78571429,\n",
       "        7.42857143,  8.07142857,  8.71428571,  9.35714286, 10.        ])"
      ]
     },
     "execution_count": 97,
     "metadata": {},
     "output_type": "execute_result"
    }
   ],
   "source": [
    "np.linspace(1,10, num=15)"
   ]
  },
  {
   "cell_type": "markdown",
   "id": "869703ea-86bb-4089-8d62-a657165297c1",
   "metadata": {},
   "source": [
    "#### Novo vetor"
   ]
  },
  {
   "cell_type": "code",
   "execution_count": 98,
   "id": "00d9ab3d-8287-4326-9df1-2603c5c6bf29",
   "metadata": {},
   "outputs": [],
   "source": [
    "vetor = np.arange(5)"
   ]
  },
  {
   "cell_type": "code",
   "execution_count": 99,
   "id": "19009b52-112a-4672-8f11-599aadf75ee9",
   "metadata": {},
   "outputs": [
    {
     "data": {
      "text/plain": [
       "array([0, 1, 2, 3, 4])"
      ]
     },
     "execution_count": 99,
     "metadata": {},
     "output_type": "execute_result"
    }
   ],
   "source": [
    "vetor"
   ]
  },
  {
   "cell_type": "markdown",
   "id": "5770b615-d063-4bb2-9589-283e1b2d8d27",
   "metadata": {},
   "source": [
    "- **sum()**: soma dos valores"
   ]
  },
  {
   "cell_type": "code",
   "execution_count": 100,
   "id": "314a974d-b361-4318-ad9a-a7982118fff8",
   "metadata": {},
   "outputs": [
    {
     "data": {
      "text/plain": [
       "10"
      ]
     },
     "execution_count": 100,
     "metadata": {},
     "output_type": "execute_result"
    }
   ],
   "source": [
    "vetor.sum()"
   ]
  },
  {
   "cell_type": "code",
   "execution_count": 101,
   "id": "bb859d7d-f07a-447c-b454-057ccb20da79",
   "metadata": {},
   "outputs": [
    {
     "data": {
      "text/plain": [
       "10"
      ]
     },
     "execution_count": 101,
     "metadata": {},
     "output_type": "execute_result"
    }
   ],
   "source": [
    "np.sum(vetor)"
   ]
  },
  {
   "cell_type": "markdown",
   "id": "8932c8b2-16f3-453c-a1ed-f0cad7b8ee0a",
   "metadata": {},
   "source": [
    "- **cumsum()**: soma acumulativa dos valores"
   ]
  },
  {
   "cell_type": "code",
   "execution_count": 102,
   "id": "6eb989d0-426e-49de-8901-c3269e5cfc8a",
   "metadata": {},
   "outputs": [
    {
     "data": {
      "text/plain": [
       "array([ 0,  1,  3,  6, 10])"
      ]
     },
     "execution_count": 102,
     "metadata": {},
     "output_type": "execute_result"
    }
   ],
   "source": [
    "vetor.cumsum()"
   ]
  },
  {
   "cell_type": "markdown",
   "id": "f3389336-80b5-4863-99a8-00b3ef926de6",
   "metadata": {},
   "source": [
    "- **mean()**: retorna a média dos valores "
   ]
  },
  {
   "cell_type": "code",
   "execution_count": 103,
   "id": "81337cd6-7e4c-4138-b28e-2e31ba447766",
   "metadata": {},
   "outputs": [
    {
     "data": {
      "text/plain": [
       "2.0"
      ]
     },
     "execution_count": 103,
     "metadata": {},
     "output_type": "execute_result"
    }
   ],
   "source": [
    "vetor.mean()"
   ]
  },
  {
   "cell_type": "markdown",
   "id": "abed217f-31aa-47b2-80d0-1d7872e96fbf",
   "metadata": {},
   "source": [
    "- **np.std()**: retorna o desvio padrão dos dados "
   ]
  },
  {
   "cell_type": "code",
   "execution_count": 104,
   "id": "9142ceba-5bb4-4dcf-944b-848fc4f2ec14",
   "metadata": {},
   "outputs": [
    {
     "data": {
      "text/plain": [
       "1.4142135623730951"
      ]
     },
     "execution_count": 104,
     "metadata": {},
     "output_type": "execute_result"
    }
   ],
   "source": [
    "np.std(vetor)"
   ]
  },
  {
   "cell_type": "code",
   "execution_count": 105,
   "id": "9553fbbb-ffa1-4e60-b18c-57bac36b3223",
   "metadata": {},
   "outputs": [
    {
     "data": {
      "text/plain": [
       "1.4142135623730951"
      ]
     },
     "execution_count": 105,
     "metadata": {},
     "output_type": "execute_result"
    }
   ],
   "source": [
    "vetor.std()"
   ]
  },
  {
   "cell_type": "markdown",
   "id": "9073088b-ca38-4dee-82b0-605573a5932a",
   "metadata": {},
   "source": [
    "- **prod()**: retorna o produto de todos os elementos "
   ]
  },
  {
   "cell_type": "code",
   "execution_count": 106,
   "id": "ac1078d1-b5bb-4c26-8655-f02dee606252",
   "metadata": {},
   "outputs": [
    {
     "data": {
      "text/plain": [
       "0"
      ]
     },
     "execution_count": 106,
     "metadata": {},
     "output_type": "execute_result"
    }
   ],
   "source": [
    "vetor.prod()"
   ]
  },
  {
   "cell_type": "code",
   "execution_count": 107,
   "id": "e6653e34-a2ad-4d4c-a3f2-b4f5fea304af",
   "metadata": {},
   "outputs": [],
   "source": [
    "vetor = np.arange(1, 6)"
   ]
  },
  {
   "cell_type": "code",
   "execution_count": 108,
   "id": "88d76778-584c-4e7b-98e9-ce7bb5dd0544",
   "metadata": {},
   "outputs": [
    {
     "data": {
      "text/plain": [
       "array([1, 2, 3, 4, 5])"
      ]
     },
     "execution_count": 108,
     "metadata": {},
     "output_type": "execute_result"
    }
   ],
   "source": [
    "vetor"
   ]
  },
  {
   "cell_type": "code",
   "execution_count": 109,
   "id": "3c0a18bf-c969-4ed8-8317-e70d1714e7f8",
   "metadata": {},
   "outputs": [
    {
     "data": {
      "text/plain": [
       "120"
      ]
     },
     "execution_count": 109,
     "metadata": {},
     "output_type": "execute_result"
    }
   ],
   "source": [
    "vetor.prod()"
   ]
  },
  {
   "cell_type": "code",
   "execution_count": 110,
   "id": "e0dee183-64e1-416c-81c5-bc12a9685327",
   "metadata": {},
   "outputs": [
    {
     "data": {
      "text/plain": [
       "120"
      ]
     },
     "execution_count": 110,
     "metadata": {},
     "output_type": "execute_result"
    }
   ],
   "source": [
    "1*2*3*4*5"
   ]
  },
  {
   "cell_type": "markdown",
   "id": "9150ad88-20d3-4dcf-b70b-9c3b135e6289",
   "metadata": {},
   "source": [
    "### Operações com array numpy\n",
    "- Conseguimos fazer operações entre arrays que tenham **mesmo número de dimensões e elementos**"
   ]
  },
  {
   "cell_type": "code",
   "execution_count": 111,
   "id": "a7ee4076-9d23-4b6d-9558-7af3ae126ec4",
   "metadata": {},
   "outputs": [],
   "source": [
    "array_unitario = np.ones([4,4])"
   ]
  },
  {
   "cell_type": "code",
   "execution_count": 112,
   "id": "5a66fbb7-bdf2-4309-9eb4-cb1a436aec6e",
   "metadata": {},
   "outputs": [
    {
     "data": {
      "text/plain": [
       "array([[1., 1., 1., 1.],\n",
       "       [1., 1., 1., 1.],\n",
       "       [1., 1., 1., 1.],\n",
       "       [1., 1., 1., 1.]])"
      ]
     },
     "execution_count": 112,
     "metadata": {},
     "output_type": "execute_result"
    }
   ],
   "source": [
    "array_unitario"
   ]
  },
  {
   "cell_type": "code",
   "execution_count": 113,
   "id": "539c3cc6-7775-4af3-82d1-fabfdbefeb5b",
   "metadata": {},
   "outputs": [
    {
     "data": {
      "text/plain": [
       "array([[1., 0., 0., 0.],\n",
       "       [0., 1., 0., 0.],\n",
       "       [0., 0., 1., 0.],\n",
       "       [0., 0., 0., 1.]])"
      ]
     },
     "execution_count": 113,
     "metadata": {},
     "output_type": "execute_result"
    }
   ],
   "source": [
    "array_id"
   ]
  },
  {
   "cell_type": "markdown",
   "id": "f0623285-391e-4b8c-aad6-772f402de603",
   "metadata": {},
   "source": [
    "- Soma "
   ]
  },
  {
   "cell_type": "code",
   "execution_count": 114,
   "id": "2021522f-c61b-4ccf-9e70-d7c743cdab28",
   "metadata": {},
   "outputs": [
    {
     "data": {
      "text/plain": [
       "array([[2., 1., 1., 1.],\n",
       "       [1., 2., 1., 1.],\n",
       "       [1., 1., 2., 1.],\n",
       "       [1., 1., 1., 2.]])"
      ]
     },
     "execution_count": 114,
     "metadata": {},
     "output_type": "execute_result"
    }
   ],
   "source": [
    "# primeiro método\n",
    "array_unitario + array_id"
   ]
  },
  {
   "cell_type": "code",
   "execution_count": 115,
   "id": "57bba365-ab3c-4913-9595-5bc881855516",
   "metadata": {},
   "outputs": [
    {
     "data": {
      "text/plain": [
       "array([[2., 1., 1., 1.],\n",
       "       [1., 2., 1., 1.],\n",
       "       [1., 1., 2., 1.],\n",
       "       [1., 1., 1., 2.]])"
      ]
     },
     "execution_count": 115,
     "metadata": {},
     "output_type": "execute_result"
    }
   ],
   "source": [
    "# segundo método\n",
    "np.add(array_unitario, array_id)"
   ]
  },
  {
   "cell_type": "markdown",
   "id": "93b69381-1249-4cd2-a8c5-668ce4ba4745",
   "metadata": {},
   "source": [
    "- Subtração "
   ]
  },
  {
   "cell_type": "code",
   "execution_count": 116,
   "id": "91b09986-1aaa-4758-b327-9bbc5f0338e0",
   "metadata": {},
   "outputs": [
    {
     "data": {
      "text/plain": [
       "array([[0., 1., 1., 1.],\n",
       "       [1., 0., 1., 1.],\n",
       "       [1., 1., 0., 1.],\n",
       "       [1., 1., 1., 0.]])"
      ]
     },
     "execution_count": 116,
     "metadata": {},
     "output_type": "execute_result"
    }
   ],
   "source": [
    "# primeiro método\n",
    "array_unitario - array_id"
   ]
  },
  {
   "cell_type": "code",
   "execution_count": 117,
   "id": "b2df8369-3839-490c-ba0e-f5bab20a99b9",
   "metadata": {},
   "outputs": [
    {
     "data": {
      "text/plain": [
       "array([[0., 1., 1., 1.],\n",
       "       [1., 0., 1., 1.],\n",
       "       [1., 1., 0., 1.],\n",
       "       [1., 1., 1., 0.]])"
      ]
     },
     "execution_count": 117,
     "metadata": {},
     "output_type": "execute_result"
    }
   ],
   "source": [
    "# segundo método\n",
    "np.subtract(array_unitario, array_id)"
   ]
  },
  {
   "cell_type": "markdown",
   "id": "ed23911d-5711-46ab-99b5-2ce7c35d16e4",
   "metadata": {},
   "source": [
    "- Multiplicação "
   ]
  },
  {
   "cell_type": "code",
   "execution_count": 118,
   "id": "397caf27-69a7-4dff-878c-5135332613d4",
   "metadata": {},
   "outputs": [
    {
     "data": {
      "text/plain": [
       "array([[1., 0., 0., 0.],\n",
       "       [0., 1., 0., 0.],\n",
       "       [0., 0., 1., 0.],\n",
       "       [0., 0., 0., 1.]])"
      ]
     },
     "execution_count": 118,
     "metadata": {},
     "output_type": "execute_result"
    }
   ],
   "source": [
    "# primeiro método\n",
    "array_unitario * array_id"
   ]
  },
  {
   "cell_type": "code",
   "execution_count": 119,
   "id": "0f244bff-4bbd-45a8-8511-2f45586fc117",
   "metadata": {},
   "outputs": [
    {
     "data": {
      "text/plain": [
       "array([[1., 0., 0., 0.],\n",
       "       [0., 1., 0., 0.],\n",
       "       [0., 0., 1., 0.],\n",
       "       [0., 0., 0., 1.]])"
      ]
     },
     "execution_count": 119,
     "metadata": {},
     "output_type": "execute_result"
    }
   ],
   "source": [
    "# segundo método\n",
    "np.multiply(array_unitario, array_id)"
   ]
  },
  {
   "cell_type": "markdown",
   "id": "32118101-d284-493d-afc3-8cac6e66a3ec",
   "metadata": {},
   "source": [
    "- Divisão "
   ]
  },
  {
   "cell_type": "code",
   "execution_count": 120,
   "id": "e1de68b8-1346-4f78-b53b-fa5f44cda3db",
   "metadata": {},
   "outputs": [
    {
     "name": "stderr",
     "output_type": "stream",
     "text": [
      "C:\\Users\\jump\\AppData\\Local\\Temp\\ipykernel_30748\\967897802.py:2: RuntimeWarning: divide by zero encountered in divide\n",
      "  array_unitario / array_id\n"
     ]
    },
    {
     "data": {
      "text/plain": [
       "array([[ 1., inf, inf, inf],\n",
       "       [inf,  1., inf, inf],\n",
       "       [inf, inf,  1., inf],\n",
       "       [inf, inf, inf,  1.]])"
      ]
     },
     "execution_count": 120,
     "metadata": {},
     "output_type": "execute_result"
    }
   ],
   "source": [
    "# primeiro método\n",
    "array_unitario / array_id"
   ]
  },
  {
   "cell_type": "code",
   "execution_count": 121,
   "id": "000ddee5-acbf-48f5-99be-e81e555f0070",
   "metadata": {},
   "outputs": [
    {
     "data": {
      "text/plain": [
       "array([[4., 4., 4., 4.],\n",
       "       [4., 4., 4., 4.],\n",
       "       [4., 4., 4., 4.],\n",
       "       [4., 4., 4., 4.]])"
      ]
     },
     "execution_count": 121,
     "metadata": {},
     "output_type": "execute_result"
    }
   ],
   "source": [
    "np.full([4,4], 8) / np.full([4,4], 2)"
   ]
  },
  {
   "cell_type": "code",
   "execution_count": 122,
   "id": "d678af7e-670f-4af9-9ff5-9ffad61c012d",
   "metadata": {},
   "outputs": [
    {
     "data": {
      "text/plain": [
       "array([[4., 4., 4., 4.],\n",
       "       [4., 4., 4., 4.],\n",
       "       [4., 4., 4., 4.],\n",
       "       [4., 4., 4., 4.]])"
      ]
     },
     "execution_count": 122,
     "metadata": {},
     "output_type": "execute_result"
    }
   ],
   "source": [
    "# segundo método\n",
    "np.divide(np.full([4,4], 8), np.full([4,4], 2))"
   ]
  },
  {
   "cell_type": "markdown",
   "id": "dfcd19d6-5456-4a33-9349-314d8e4aa634",
   "metadata": {},
   "source": [
    "- Raiz quadrada "
   ]
  },
  {
   "cell_type": "code",
   "execution_count": 123,
   "id": "6dd9f718-934c-4f01-ac8b-c08692706278",
   "metadata": {},
   "outputs": [],
   "source": [
    "array = np.divide(np.full([4,4], 8), np.full([4,4], 2))"
   ]
  },
  {
   "cell_type": "code",
   "execution_count": 124,
   "id": "e35619d0-2a70-4bbc-91ad-0785d8d79989",
   "metadata": {},
   "outputs": [
    {
     "data": {
      "text/plain": [
       "array([[2., 2., 2., 2.],\n",
       "       [2., 2., 2., 2.],\n",
       "       [2., 2., 2., 2.],\n",
       "       [2., 2., 2., 2.]])"
      ]
     },
     "execution_count": 124,
     "metadata": {},
     "output_type": "execute_result"
    }
   ],
   "source": [
    "# primeiro método \n",
    "np.sqrt(array)"
   ]
  },
  {
   "cell_type": "code",
   "execution_count": 125,
   "id": "2856a7b7-6376-4d88-886e-c15382a1b2cb",
   "metadata": {},
   "outputs": [
    {
     "data": {
      "text/plain": [
       "array([[2., 2., 2., 2.],\n",
       "       [2., 2., 2., 2.],\n",
       "       [2., 2., 2., 2.],\n",
       "       [2., 2., 2., 2.]])"
      ]
     },
     "execution_count": 125,
     "metadata": {},
     "output_type": "execute_result"
    }
   ],
   "source": [
    "# segundo método \n",
    "array ** (1/2)"
   ]
  },
  {
   "cell_type": "markdown",
   "id": "749a6521-1531-4029-9588-184a6895ae41",
   "metadata": {},
   "source": [
    "**ATENÇÃO**: Podemos notar que algumas destas operações com arrays não correspondem às operações matemáticas matriciais que são **muito utilizadas em ciência de dados**, mas conseguimos fazer tais operações utilizando o numpy."
   ]
  },
  {
   "cell_type": "code",
   "execution_count": 126,
   "id": "ae84718b-78e8-45b1-a3bf-01c40b8627e4",
   "metadata": {},
   "outputs": [],
   "source": [
    "matrix1 = np.array([[1,1],[2,3]])\n",
    "matrix2 = np.array([[3,3],[1,4]])"
   ]
  },
  {
   "cell_type": "code",
   "execution_count": 127,
   "id": "04440239-cfe9-4cfa-af14-f0ec03c9bf20",
   "metadata": {},
   "outputs": [
    {
     "data": {
      "text/plain": [
       "array([[1, 1],\n",
       "       [2, 3]])"
      ]
     },
     "execution_count": 127,
     "metadata": {},
     "output_type": "execute_result"
    }
   ],
   "source": [
    "matrix1"
   ]
  },
  {
   "cell_type": "code",
   "execution_count": 128,
   "id": "2dfc83cc-68ba-4da5-a31e-ee3cde8862c0",
   "metadata": {},
   "outputs": [
    {
     "data": {
      "text/plain": [
       "array([[3, 3],\n",
       "       [1, 4]])"
      ]
     },
     "execution_count": 128,
     "metadata": {},
     "output_type": "execute_result"
    }
   ],
   "source": [
    "matrix2"
   ]
  },
  {
   "cell_type": "markdown",
   "id": "791ce471-153a-4045-bb40-9169e33c5434",
   "metadata": {},
   "source": [
    "- Produto de matrizes "
   ]
  },
  {
   "cell_type": "code",
   "execution_count": 129,
   "id": "61f243a5-228b-4f6b-9715-a75f07b03c52",
   "metadata": {},
   "outputs": [
    {
     "data": {
      "text/plain": [
       "array([[ 4,  7],\n",
       "       [ 9, 18]])"
      ]
     },
     "execution_count": 129,
     "metadata": {},
     "output_type": "execute_result"
    }
   ],
   "source": [
    "# primeiro método \n",
    "matrix1.dot(matrix2)"
   ]
  },
  {
   "cell_type": "code",
   "execution_count": 130,
   "id": "ef013759-07f3-495c-9d1d-e268fd6d1c97",
   "metadata": {},
   "outputs": [
    {
     "data": {
      "text/plain": [
       "array([[ 4,  7],\n",
       "       [ 9, 18]])"
      ]
     },
     "execution_count": 130,
     "metadata": {},
     "output_type": "execute_result"
    }
   ],
   "source": [
    "# segundo método\n",
    "np.dot(matrix1, matrix2)"
   ]
  },
  {
   "cell_type": "markdown",
   "id": "765fdd22-679a-44ee-87ff-3cfcb2259339",
   "metadata": {},
   "source": [
    "***a ordem importa***"
   ]
  },
  {
   "cell_type": "code",
   "execution_count": 131,
   "id": "d479819a-8246-4964-bb3a-d22321c7e8fe",
   "metadata": {},
   "outputs": [
    {
     "data": {
      "text/plain": [
       "array([[ 9, 12],\n",
       "       [ 9, 13]])"
      ]
     },
     "execution_count": 131,
     "metadata": {},
     "output_type": "execute_result"
    }
   ],
   "source": [
    "np.dot(matrix2, matrix1)"
   ]
  },
  {
   "cell_type": "markdown",
   "id": "332d68c3-b86e-420a-8b12-7a1bfa37cf5f",
   "metadata": {},
   "source": [
    "- Para ser possível multiplicar matrizes, é primordial que o número de colunas da primeira matriz seja igual ao número de linhas da segunda matriz."
   ]
  },
  {
   "cell_type": "code",
   "execution_count": 132,
   "id": "7ff3cf44-649d-45ad-b1af-7041caa3c31c",
   "metadata": {},
   "outputs": [],
   "source": [
    "matrix3 = np.array([[1,1]])\n",
    "matrix4 = np.array([[3,3,4]])"
   ]
  },
  {
   "cell_type": "code",
   "execution_count": 133,
   "id": "d55f4ad3-c12d-4bc9-b3ee-6fd63d5b9aa2",
   "metadata": {},
   "outputs": [],
   "source": [
    "# matrix3.dot(matrix4)"
   ]
  },
  {
   "cell_type": "code",
   "execution_count": 134,
   "id": "199778f4-e40c-48d5-9180-49cdbf07c83e",
   "metadata": {},
   "outputs": [],
   "source": [
    "# matrix4.dot(matrix3)"
   ]
  },
  {
   "cell_type": "markdown",
   "id": "eb6af832-25f1-4ffc-9a3c-89a8b7dc968b",
   "metadata": {},
   "source": [
    "### Comparação entre arrays\n",
    "- Verificação se um array é menor que outro"
   ]
  },
  {
   "cell_type": "code",
   "execution_count": 135,
   "id": "ff0f5e59-acd2-4abf-95f6-2fbe33dcded3",
   "metadata": {},
   "outputs": [],
   "source": [
    "full_4 = np.full([3,3], 4)"
   ]
  },
  {
   "cell_type": "code",
   "execution_count": 136,
   "id": "a59e95d8-5432-4a30-8815-7bb75709a935",
   "metadata": {},
   "outputs": [],
   "source": [
    "full_4 = np.array([[4, 8, 4],\n",
    "       [4, 4, 4],\n",
    "       [4, 4, 4]])"
   ]
  },
  {
   "cell_type": "code",
   "execution_count": 137,
   "id": "f82f0775-7266-4aa0-9c06-839cdef4bb64",
   "metadata": {},
   "outputs": [
    {
     "data": {
      "text/plain": [
       "array([[4, 8, 4],\n",
       "       [4, 4, 4],\n",
       "       [4, 4, 4]])"
      ]
     },
     "execution_count": 137,
     "metadata": {},
     "output_type": "execute_result"
    }
   ],
   "source": [
    "full_4"
   ]
  },
  {
   "cell_type": "code",
   "execution_count": 138,
   "id": "7d73f239-5a2b-4fc6-a0ca-3d08f6246fdc",
   "metadata": {},
   "outputs": [],
   "source": [
    "full_5 = np.full([3,3], 5)"
   ]
  },
  {
   "cell_type": "code",
   "execution_count": 139,
   "id": "adaad5e1-62a2-480c-8360-4a475ad5c854",
   "metadata": {},
   "outputs": [
    {
     "data": {
      "text/plain": [
       "array([[5, 5, 5],\n",
       "       [5, 5, 5],\n",
       "       [5, 5, 5]])"
      ]
     },
     "execution_count": 139,
     "metadata": {},
     "output_type": "execute_result"
    }
   ],
   "source": [
    "full_5"
   ]
  },
  {
   "cell_type": "code",
   "execution_count": 140,
   "id": "e12790a6-43eb-4a6d-868a-ac593471685e",
   "metadata": {},
   "outputs": [
    {
     "data": {
      "text/plain": [
       "array([[ True, False,  True],\n",
       "       [ True,  True,  True],\n",
       "       [ True,  True,  True]])"
      ]
     },
     "execution_count": 140,
     "metadata": {},
     "output_type": "execute_result"
    }
   ],
   "source": [
    "full_4 < full_5"
   ]
  },
  {
   "cell_type": "code",
   "execution_count": 141,
   "id": "92695e83-ec09-44e3-91f5-cbc70c07ac0f",
   "metadata": {},
   "outputs": [
    {
     "data": {
      "text/plain": [
       "array([[False,  True, False],\n",
       "       [False, False, False],\n",
       "       [False, False, False]])"
      ]
     },
     "execution_count": 141,
     "metadata": {},
     "output_type": "execute_result"
    }
   ],
   "source": [
    "full_4 > full_5"
   ]
  },
  {
   "cell_type": "markdown",
   "id": "8ad5fc1c-9d3e-4b47-825b-68ec883e7cbe",
   "metadata": {},
   "source": [
    "- Verificação de igualdade "
   ]
  },
  {
   "cell_type": "code",
   "execution_count": 142,
   "id": "8d579421-6641-40b8-8e2b-386da068a014",
   "metadata": {},
   "outputs": [
    {
     "data": {
      "text/plain": [
       "array([[1., 0., 0.],\n",
       "       [0., 1., 0.],\n",
       "       [0., 0., 1.]])"
      ]
     },
     "execution_count": 142,
     "metadata": {},
     "output_type": "execute_result"
    }
   ],
   "source": [
    "np.eye(3)"
   ]
  },
  {
   "cell_type": "code",
   "execution_count": 143,
   "id": "25aa9f2f-d9f1-44d8-804b-a45964df3e7d",
   "metadata": {},
   "outputs": [
    {
     "data": {
      "text/plain": [
       "array([[1, 1, 1],\n",
       "       [1, 1, 1],\n",
       "       [1, 1, 1]])"
      ]
     },
     "execution_count": 143,
     "metadata": {},
     "output_type": "execute_result"
    }
   ],
   "source": [
    "np.full([3,3], 1)"
   ]
  },
  {
   "cell_type": "code",
   "execution_count": 144,
   "id": "c2e307a8-28c7-4002-918d-6ef493b77f37",
   "metadata": {},
   "outputs": [
    {
     "data": {
      "text/plain": [
       "array([[ True, False, False],\n",
       "       [False,  True, False],\n",
       "       [False, False,  True]])"
      ]
     },
     "execution_count": 144,
     "metadata": {},
     "output_type": "execute_result"
    }
   ],
   "source": [
    "np.eye(3) == np.full([3,3], 1)"
   ]
  },
  {
   "cell_type": "markdown",
   "id": "676423d7-1476-4173-a530-72ea831abab9",
   "metadata": {},
   "source": [
    "### Seleção de numpy arrays "
   ]
  },
  {
   "cell_type": "code",
   "execution_count": 146,
   "id": "e031e08b-da98-4906-b606-b70cd0ff02fb",
   "metadata": {},
   "outputs": [],
   "source": [
    "matriz = np.array([\n",
    "    ['a', 'b', 'c'],\n",
    "    ['d', 'e', 'f'],\n",
    "    ['g', 'h', 'j']\n",
    "])"
   ]
  },
  {
   "cell_type": "code",
   "execution_count": 147,
   "id": "0cfa295d-911f-497f-b25d-30b017b6ddf4",
   "metadata": {},
   "outputs": [
    {
     "data": {
      "text/plain": [
       "array([['a', 'b', 'c'],\n",
       "       ['d', 'e', 'f'],\n",
       "       ['g', 'h', 'j']], dtype='<U1')"
      ]
     },
     "execution_count": 147,
     "metadata": {},
     "output_type": "execute_result"
    }
   ],
   "source": [
    "matriz"
   ]
  },
  {
   "cell_type": "markdown",
   "id": "5c4f8bab-c167-4c48-ada0-4a3b745b671a",
   "metadata": {},
   "source": [
    "- Retornar a primeira linha "
   ]
  },
  {
   "cell_type": "code",
   "execution_count": 148,
   "id": "5d2c38f4-194d-4b14-8cd9-1e29df7bc331",
   "metadata": {},
   "outputs": [
    {
     "data": {
      "text/plain": [
       "array(['a', 'b', 'c'], dtype='<U1')"
      ]
     },
     "execution_count": 148,
     "metadata": {},
     "output_type": "execute_result"
    }
   ],
   "source": [
    "matriz[0]"
   ]
  },
  {
   "cell_type": "markdown",
   "id": "a360af4e-45ea-47d5-b5a0-3cb1ddd2abc3",
   "metadata": {},
   "source": [
    "- Retornar o primeiro elemento da primeira linha "
   ]
  },
  {
   "cell_type": "code",
   "execution_count": 149,
   "id": "3860f513-1d18-410a-8607-7c9b40605bbb",
   "metadata": {},
   "outputs": [
    {
     "data": {
      "text/plain": [
       "'a'"
      ]
     },
     "execution_count": 149,
     "metadata": {},
     "output_type": "execute_result"
    }
   ],
   "source": [
    "matriz[0][0]"
   ]
  },
  {
   "cell_type": "markdown",
   "id": "e8fbc540-97ea-4f8e-8203-f653589bba4e",
   "metadata": {},
   "source": [
    "- Retornar o terceiro elemento da primeira linha "
   ]
  },
  {
   "cell_type": "code",
   "execution_count": 150,
   "id": "ccf5ca40-aa84-427f-a5c9-db12bd32aa5c",
   "metadata": {},
   "outputs": [
    {
     "data": {
      "text/plain": [
       "'c'"
      ]
     },
     "execution_count": 150,
     "metadata": {},
     "output_type": "execute_result"
    }
   ],
   "source": [
    "matriz[0][2]"
   ]
  },
  {
   "cell_type": "code",
   "execution_count": 152,
   "id": "e3e1bf09-c58a-4b91-9391-d964f56a000b",
   "metadata": {},
   "outputs": [
    {
     "data": {
      "text/plain": [
       "'c'"
      ]
     },
     "execution_count": 152,
     "metadata": {},
     "output_type": "execute_result"
    }
   ],
   "source": [
    "# outra forma\n",
    "matriz[0, 2]"
   ]
  },
  {
   "cell_type": "markdown",
   "id": "af1f02d9-7a43-4fdc-b1da-6a81e23507ec",
   "metadata": {},
   "source": [
    "- Criando um array com números aleatórios "
   ]
  },
  {
   "cell_type": "code",
   "execution_count": 156,
   "id": "304cb321-d00c-4c5d-9c28-966a8a4534ec",
   "metadata": {},
   "outputs": [],
   "source": [
    "random_array = np.floor(10*np.random.random([4,4]))"
   ]
  },
  {
   "cell_type": "code",
   "execution_count": 158,
   "id": "dbec9e41-39d5-46ac-bcd6-153fd817b248",
   "metadata": {},
   "outputs": [
    {
     "data": {
      "text/plain": [
       "array([[2., 1., 4., 2.],\n",
       "       [9., 0., 5., 7.],\n",
       "       [3., 6., 2., 8.],\n",
       "       [5., 3., 7., 6.]])"
      ]
     },
     "execution_count": 158,
     "metadata": {},
     "output_type": "execute_result"
    }
   ],
   "source": [
    "random_array"
   ]
  },
  {
   "cell_type": "code",
   "execution_count": 157,
   "id": "f1d2b57c-8083-4def-b263-9b32a5d47bed",
   "metadata": {},
   "outputs": [
    {
     "data": {
      "text/plain": [
       "dtype('float64')"
      ]
     },
     "execution_count": 157,
     "metadata": {},
     "output_type": "execute_result"
    }
   ],
   "source": [
    "random_array.dtype"
   ]
  },
  {
   "cell_type": "code",
   "execution_count": 159,
   "id": "5c0aefc4-e01f-4b70-9709-f063d712fb7b",
   "metadata": {},
   "outputs": [],
   "source": [
    "random_array = np.floor(10*np.random.random([4,4])).astype(int)"
   ]
  },
  {
   "cell_type": "code",
   "execution_count": 160,
   "id": "e619ea31-75df-45ea-b76b-1e9cb3faf0de",
   "metadata": {},
   "outputs": [
    {
     "data": {
      "text/plain": [
       "array([[9, 0, 1, 1],\n",
       "       [4, 3, 7, 0],\n",
       "       [9, 9, 0, 9],\n",
       "       [1, 5, 0, 3]])"
      ]
     },
     "execution_count": 160,
     "metadata": {},
     "output_type": "execute_result"
    }
   ],
   "source": [
    "random_array"
   ]
  },
  {
   "cell_type": "code",
   "execution_count": 161,
   "id": "deca5df1-534f-42c4-a642-a1018e89f770",
   "metadata": {},
   "outputs": [
    {
     "data": {
      "text/plain": [
       "dtype('int32')"
      ]
     },
     "execution_count": 161,
     "metadata": {},
     "output_type": "execute_result"
    }
   ],
   "source": [
    "random_array.dtype"
   ]
  },
  {
   "cell_type": "markdown",
   "id": "761e7119-9b92-442f-97af-0106d5994bfc",
   "metadata": {},
   "source": [
    "- Filtro "
   ]
  },
  {
   "cell_type": "code",
   "execution_count": 163,
   "id": "641b3908-9b53-4ab2-b4be-5374d805d2e2",
   "metadata": {},
   "outputs": [
    {
     "data": {
      "text/plain": [
       "array([9, 7, 9, 9, 9])"
      ]
     },
     "execution_count": 163,
     "metadata": {},
     "output_type": "execute_result"
    }
   ],
   "source": [
    "random_array[random_array > 5]"
   ]
  },
  {
   "cell_type": "markdown",
   "id": "76d04b40-a72b-4dbf-88ba-fd3faf6284c6",
   "metadata": {},
   "source": [
    "- **floor()**: arrendonda os dados para o **menor** inteiro."
   ]
  },
  {
   "cell_type": "code",
   "execution_count": 174,
   "id": "993b8aa8-f9eb-4376-914b-6c1db7322c2a",
   "metadata": {},
   "outputs": [
    {
     "data": {
      "text/plain": [
       "array([ 1.    , -1.75  , -1.2   ,  2.9999,  3.1   ,  5.    ,  1.55  ,\n",
       "       -1.55  ])"
      ]
     },
     "execution_count": 174,
     "metadata": {},
     "output_type": "execute_result"
    }
   ],
   "source": [
    "a = np.array([1, -1.75, -1.2,  2.9999, 3.1, 5.0, 1.55, -1.55])\n",
    "a"
   ]
  },
  {
   "cell_type": "code",
   "execution_count": 175,
   "id": "7e9b8eb3-e9d4-4354-b5e7-cf384f5ea487",
   "metadata": {},
   "outputs": [
    {
     "data": {
      "text/plain": [
       "array([ 1., -2., -2.,  2.,  3.,  5.,  1., -2.])"
      ]
     },
     "execution_count": 175,
     "metadata": {},
     "output_type": "execute_result"
    }
   ],
   "source": [
    "np.floor(a)"
   ]
  },
  {
   "cell_type": "markdown",
   "id": "bdea74f6-147a-4d6f-a394-e0c4349e10fc",
   "metadata": {},
   "source": [
    "- **around()**: arrendonda para o inteiro mais próximo."
   ]
  },
  {
   "cell_type": "code",
   "execution_count": 176,
   "id": "2309eb38-a1f0-4f13-a34b-472446254ff0",
   "metadata": {},
   "outputs": [
    {
     "data": {
      "text/plain": [
       "array([ 1., -2., -1.,  3.,  3.,  5.,  2., -2.])"
      ]
     },
     "execution_count": 176,
     "metadata": {},
     "output_type": "execute_result"
    }
   ],
   "source": [
    "np.around(a)"
   ]
  },
  {
   "cell_type": "markdown",
   "id": "6b4e5c57-196d-4f27-8540-6b1b0920ca89",
   "metadata": {},
   "source": [
    "### Funções com arrays "
   ]
  },
  {
   "cell_type": "code",
   "execution_count": 177,
   "id": "b994b123-1b25-40fc-a1b2-e49f712b545b",
   "metadata": {},
   "outputs": [],
   "source": [
    "def par(num):\n",
    "    if num // 2 == num / 2:\n",
    "        return 'par'\n",
    "    return 'impar'"
   ]
  },
  {
   "cell_type": "code",
   "execution_count": 178,
   "id": "53e96c31-c157-4fed-b77b-22975475cc87",
   "metadata": {},
   "outputs": [
    {
     "data": {
      "text/plain": [
       "'par'"
      ]
     },
     "execution_count": 178,
     "metadata": {},
     "output_type": "execute_result"
    }
   ],
   "source": [
    "par(2)"
   ]
  },
  {
   "cell_type": "code",
   "execution_count": 179,
   "id": "4715b6ba-9099-40f6-b44b-c1a7f2fde4ee",
   "metadata": {},
   "outputs": [
    {
     "data": {
      "text/plain": [
       "'impar'"
      ]
     },
     "execution_count": 179,
     "metadata": {},
     "output_type": "execute_result"
    }
   ],
   "source": [
    "par(5)"
   ]
  },
  {
   "cell_type": "code",
   "execution_count": 180,
   "id": "ed2e1337-1f7e-4358-b0ae-6b429614e0bd",
   "metadata": {},
   "outputs": [
    {
     "data": {
      "text/plain": [
       "array([[27,  9,  3],\n",
       "       [20,  2,  2],\n",
       "       [ 1,  8, 23]])"
      ]
     },
     "execution_count": 180,
     "metadata": {},
     "output_type": "execute_result"
    }
   ],
   "source": [
    "random_array2 = np.floor(30*np.random.random([3,3])).astype(int)\n",
    "random_array2"
   ]
  },
  {
   "cell_type": "markdown",
   "id": "2e1663e8-e871-4736-8c4f-8ef107569c03",
   "metadata": {},
   "source": [
    "- **vectorize**: é similar a função map, exceto que usa as regras de transmissão numpy."
   ]
  },
  {
   "cell_type": "code",
   "execution_count": 181,
   "id": "ca015af7-6a54-4d79-b0b3-9e19209b3f66",
   "metadata": {},
   "outputs": [
    {
     "data": {
      "text/plain": [
       "array([['impar', 'impar', 'impar'],\n",
       "       ['par', 'par', 'par'],\n",
       "       ['impar', 'par', 'impar']], dtype='<U5')"
      ]
     },
     "execution_count": 181,
     "metadata": {},
     "output_type": "execute_result"
    }
   ],
   "source": [
    "np.vectorize(par)(random_array2)"
   ]
  },
  {
   "cell_type": "code",
   "execution_count": 182,
   "id": "d52a33dd-199b-40d2-87e6-956397e2ad54",
   "metadata": {},
   "outputs": [
    {
     "data": {
      "text/plain": [
       "5"
      ]
     },
     "execution_count": 182,
     "metadata": {},
     "output_type": "execute_result"
    }
   ],
   "source": [
    "len('impar')"
   ]
  },
  {
   "cell_type": "markdown",
   "id": "756e858c-10dc-48f2-b033-7ff4691afaf1",
   "metadata": {},
   "source": [
    "### Resolução de sistemas lineares "
   ]
  },
  {
   "cell_type": "markdown",
   "id": "be025f52-34b2-44e3-a841-20c24cb08c7c",
   "metadata": {},
   "source": [
    "Considere o sistema:\n",
    "\n",
    "    x + 2y = 30\n",
    "    2x - y = 15\n",
    "    \n",
    "Vamos encontrar os valores de x e y."
   ]
  },
  {
   "cell_type": "markdown",
   "id": "de2b3250-49ce-434d-aa05-1dce321d7990",
   "metadata": {},
   "source": [
    "- Passo 1: criar um array com os coeficientes do sistema"
   ]
  },
  {
   "cell_type": "code",
   "execution_count": 183,
   "id": "88b2b20d-e00d-4c69-9422-45622c023af3",
   "metadata": {},
   "outputs": [],
   "source": [
    "coeficientes = np.array([[1, 2], [2, -1]])"
   ]
  },
  {
   "cell_type": "markdown",
   "id": "1a21a3ad-2a4a-41bf-87fb-89f09d2569ea",
   "metadata": {},
   "source": [
    "- Passo 2: criar um array com os resultados do sistema"
   ]
  },
  {
   "cell_type": "code",
   "execution_count": 196,
   "id": "8f4e8067-4b98-4cc7-bbc2-950b4ba715a4",
   "metadata": {},
   "outputs": [],
   "source": [
    "resultados = np.array([30, 15])"
   ]
  },
  {
   "cell_type": "markdown",
   "id": "65bce6b6-c1df-43c1-bcad-c5ac05c4e5aa",
   "metadata": {},
   "source": [
    "- Passo 3: resolver o sistema aplicando a função **linalg.solve**"
   ]
  },
  {
   "cell_type": "code",
   "execution_count": 197,
   "id": "fc6bbd55-4f90-4fbf-bc24-616e2356bb83",
   "metadata": {},
   "outputs": [
    {
     "data": {
      "text/plain": [
       "array([12,  9])"
      ]
     },
     "execution_count": 197,
     "metadata": {},
     "output_type": "execute_result"
    }
   ],
   "source": [
    "np.linalg.solve(coeficientes, resultados).astype(int)"
   ]
  },
  {
   "cell_type": "code",
   "execution_count": 200,
   "id": "66c9d10d-eeba-4028-895f-6cc5c1db0de3",
   "metadata": {},
   "outputs": [
    {
     "data": {
      "text/plain": [
       "30"
      ]
     },
     "execution_count": 200,
     "metadata": {},
     "output_type": "execute_result"
    }
   ],
   "source": [
    "#x + 2y = 30\n",
    "x = 12\n",
    "y = 9\n",
    "\n",
    "x + 2*y"
   ]
  },
  {
   "cell_type": "code",
   "execution_count": 201,
   "id": "46e0a335-bbc9-4bc1-bb6a-3b3ff188e28b",
   "metadata": {},
   "outputs": [
    {
     "data": {
      "text/plain": [
       "15"
      ]
     },
     "execution_count": 201,
     "metadata": {},
     "output_type": "execute_result"
    }
   ],
   "source": [
    "2*x - y"
   ]
  },
  {
   "cell_type": "markdown",
   "id": "08d0d345-cada-4f7d-b39d-d9de7de98ab4",
   "metadata": {},
   "source": [
    "### Diferenças entre opereções com numpy e listas "
   ]
  },
  {
   "cell_type": "markdown",
   "id": "0b9d2cbc-ca1b-45bd-a6a1-8507ea1bdb1d",
   "metadata": {},
   "source": [
    "#### Lista "
   ]
  },
  {
   "cell_type": "code",
   "execution_count": 202,
   "id": "7b6e42bb-d0b3-4cb7-8c42-b0964d57723f",
   "metadata": {},
   "outputs": [],
   "source": [
    "ano1, ano2, ano3, ano4 = 1995, 1789, 1822, 2024"
   ]
  },
  {
   "cell_type": "code",
   "execution_count": 203,
   "id": "ad5495d2-9c9f-447b-aff6-85c258176125",
   "metadata": {},
   "outputs": [],
   "source": [
    "lista_anos = [ano1, ano2, ano3, ano4]"
   ]
  },
  {
   "cell_type": "code",
   "execution_count": 206,
   "id": "2b376602-8ee5-4302-824f-7e21db9ae8d9",
   "metadata": {},
   "outputs": [
    {
     "data": {
      "text/plain": [
       "2024"
      ]
     },
     "execution_count": 206,
     "metadata": {},
     "output_type": "execute_result"
    }
   ],
   "source": [
    "from datetime import date \n",
    "\n",
    "ano_atual = int(date.strftime(date.today(), '%Y'))\n",
    "ano_atual"
   ]
  },
  {
   "cell_type": "code",
   "execution_count": 207,
   "id": "f8045bba-7428-4c5f-a613-535ff6e1ed21",
   "metadata": {},
   "outputs": [],
   "source": [
    "dif_anos = []\n",
    "\n",
    "for ano in lista_anos:\n",
    "    dif = ano_atual - ano\n",
    "    dif_anos.append(dif)"
   ]
  },
  {
   "cell_type": "code",
   "execution_count": 208,
   "id": "78b99186-6930-49ec-9117-81fefa654e20",
   "metadata": {},
   "outputs": [
    {
     "data": {
      "text/plain": [
       "[29, 235, 202, 0]"
      ]
     },
     "execution_count": 208,
     "metadata": {},
     "output_type": "execute_result"
    }
   ],
   "source": [
    "dif_anos "
   ]
  },
  {
   "cell_type": "markdown",
   "id": "67f118dd-431d-4070-a8dc-32b45de4f447",
   "metadata": {},
   "source": [
    "#### Array "
   ]
  },
  {
   "cell_type": "code",
   "execution_count": 209,
   "id": "73a2c561-0e10-4a66-a093-35d289019182",
   "metadata": {},
   "outputs": [],
   "source": [
    "array_anos = np.array([ano1, ano2, ano3, ano4])"
   ]
  },
  {
   "cell_type": "code",
   "execution_count": 210,
   "id": "5d2b26a4-afbf-4a1a-a49c-de939d1311c8",
   "metadata": {},
   "outputs": [
    {
     "data": {
      "text/plain": [
       "array([1995, 1789, 1822, 2024])"
      ]
     },
     "execution_count": 210,
     "metadata": {},
     "output_type": "execute_result"
    }
   ],
   "source": [
    "array_anos"
   ]
  },
  {
   "cell_type": "code",
   "execution_count": 211,
   "id": "d12d88e3-ed15-4de6-935a-f84b5d52ab59",
   "metadata": {},
   "outputs": [],
   "source": [
    "dif_anos_a = ano_atual - array_anos"
   ]
  },
  {
   "cell_type": "code",
   "execution_count": 212,
   "id": "16003b17-ca0c-4435-8af7-ce631d946655",
   "metadata": {},
   "outputs": [
    {
     "data": {
      "text/plain": [
       "array([ 29, 235, 202,   0])"
      ]
     },
     "execution_count": 212,
     "metadata": {},
     "output_type": "execute_result"
    }
   ],
   "source": [
    "dif_anos_a"
   ]
  },
  {
   "cell_type": "markdown",
   "id": "f5483511-78b1-408c-a24f-c639011be872",
   "metadata": {},
   "source": [
    "#### Comparação de criação 50 mil elementos"
   ]
  },
  {
   "cell_type": "markdown",
   "id": "729367d0-aedb-4997-81bb-28bc87e5c796",
   "metadata": {},
   "source": [
    "- Array "
   ]
  },
  {
   "cell_type": "code",
   "execution_count": 234,
   "id": "25f3555a-d728-4886-b51b-c97d72da2a51",
   "metadata": {},
   "outputs": [],
   "source": [
    "array = np.arange(500000)"
   ]
  },
  {
   "cell_type": "code",
   "execution_count": 235,
   "id": "71b6697b-c7fc-403c-bea9-0bf1d3632f29",
   "metadata": {},
   "outputs": [
    {
     "data": {
      "text/plain": [
       "500000"
      ]
     },
     "execution_count": 235,
     "metadata": {},
     "output_type": "execute_result"
    }
   ],
   "source": [
    "len(array)"
   ]
  },
  {
   "cell_type": "markdown",
   "id": "8e3a1844-ca57-4e46-bf52-e3657041334e",
   "metadata": {},
   "source": [
    "- lista"
   ]
  },
  {
   "cell_type": "code",
   "execution_count": 236,
   "id": "462cd408-4dce-4626-a10a-a0e7447e74f5",
   "metadata": {},
   "outputs": [],
   "source": [
    "lista = list(range(0, 500000))"
   ]
  },
  {
   "cell_type": "code",
   "execution_count": 237,
   "id": "32b74682-5ecc-4a43-b760-bbbef846c1c6",
   "metadata": {},
   "outputs": [
    {
     "data": {
      "text/plain": [
       "500000"
      ]
     },
     "execution_count": 237,
     "metadata": {},
     "output_type": "execute_result"
    }
   ],
   "source": [
    "len(lista)"
   ]
  },
  {
   "cell_type": "code",
   "execution_count": 238,
   "id": "9cb1b46d-e1fd-4d5e-ba72-63c2dafbc0f4",
   "metadata": {},
   "outputs": [
    {
     "name": "stdout",
     "output_type": "stream",
     "text": [
      "CPU times: total: 15.6 ms\n",
      "Wall time: 12.5 ms\n"
     ]
    }
   ],
   "source": [
    "%time for i in range(100): array*=2"
   ]
  },
  {
   "cell_type": "code",
   "execution_count": 239,
   "id": "d78b2d21-8db6-40ec-8212-c040549bb8b7",
   "metadata": {},
   "outputs": [
    {
     "name": "stdout",
     "output_type": "stream",
     "text": [
      "CPU times: total: 2.38 s\n",
      "Wall time: 2.27 s\n"
     ]
    }
   ],
   "source": [
    "%time for i in range(100): [x*2 for x in lista]"
   ]
  },
  {
   "cell_type": "code",
   "execution_count": 244,
   "id": "31390cb6-717b-49fa-a62e-446d0f04ad4c",
   "metadata": {},
   "outputs": [],
   "source": [
    "lista_time = 2.27*(10**3)\n",
    "array_time = 12.5"
   ]
  },
  {
   "cell_type": "code",
   "execution_count": 245,
   "id": "316f5148-3426-40d8-a8f7-260c68803254",
   "metadata": {},
   "outputs": [
    {
     "data": {
      "text/plain": [
       "2270.0"
      ]
     },
     "execution_count": 245,
     "metadata": {},
     "output_type": "execute_result"
    }
   ],
   "source": [
    "lista_time"
   ]
  },
  {
   "cell_type": "code",
   "execution_count": 246,
   "id": "d0926c88-9fc0-4d0f-acad-8d86686b1701",
   "metadata": {},
   "outputs": [
    {
     "data": {
      "text/plain": [
       "12.5"
      ]
     },
     "execution_count": 246,
     "metadata": {},
     "output_type": "execute_result"
    }
   ],
   "source": [
    "array_time"
   ]
  },
  {
   "cell_type": "code",
   "execution_count": 248,
   "id": "ca8ae882-4128-426e-ace8-8bcaa9b03975",
   "metadata": {},
   "outputs": [
    {
     "data": {
      "text/plain": [
       "-99.44933920704845"
      ]
     },
     "execution_count": 248,
     "metadata": {},
     "output_type": "execute_result"
    }
   ],
   "source": [
    "((array_time/lista_time)-1)*100"
   ]
  },
  {
   "cell_type": "code",
   "execution_count": null,
   "id": "4f6e33d8-d82e-4b2f-8feb-4f3621677154",
   "metadata": {},
   "outputs": [],
   "source": []
  }
 ],
 "metadata": {
  "kernelspec": {
   "display_name": "Python 3 (ipykernel)",
   "language": "python",
   "name": "python3"
  },
  "language_info": {
   "codemirror_mode": {
    "name": "ipython",
    "version": 3
   },
   "file_extension": ".py",
   "mimetype": "text/x-python",
   "name": "python",
   "nbconvert_exporter": "python",
   "pygments_lexer": "ipython3",
   "version": "3.11.7"
  }
 },
 "nbformat": 4,
 "nbformat_minor": 5
}
