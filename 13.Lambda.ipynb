{
 "cells": [
  {
   "cell_type": "markdown",
   "id": "bdfbe966-cd5f-413c-a4bd-793d9ce999ea",
   "metadata": {},
   "source": [
    "# Lambda\n",
    "- É uma função que é atribuida a um objeto "
   ]
  },
  {
   "cell_type": "markdown",
   "id": "f598427d-b041-4358-a289-990b9c030b01",
   "metadata": {},
   "source": [
    "#### Estrutura\n",
    "```python\n",
    "lambda <argumentos>:<instruções>"
   ]
  },
  {
   "cell_type": "markdown",
   "id": "e2afcbfb-834c-401e-aa19-6d67a56c2937",
   "metadata": {},
   "source": [
    "- Definindo uma função em 3 linhas "
   ]
  },
  {
   "cell_type": "code",
   "execution_count": 1,
   "id": "61ac6a9e-26db-46e4-a017-1c20cbb5f65f",
   "metadata": {},
   "outputs": [],
   "source": [
    "def soma_1(a, b):\n",
    "    soma = a+b\n",
    "    return soma "
   ]
  },
  {
   "cell_type": "code",
   "execution_count": 2,
   "id": "4616aae7-a7d2-40b1-bf5c-c4542c504ad7",
   "metadata": {},
   "outputs": [
    {
     "data": {
      "text/plain": [
       "3"
      ]
     },
     "execution_count": 2,
     "metadata": {},
     "output_type": "execute_result"
    }
   ],
   "source": [
    "soma_1(1, 2)"
   ]
  },
  {
   "cell_type": "markdown",
   "id": "9a1c61e9-f240-41dc-8984-bb95c671d22e",
   "metadata": {},
   "source": [
    "- Definindo uma função em 2 linhas "
   ]
  },
  {
   "cell_type": "code",
   "execution_count": 3,
   "id": "6aa259bd-59aa-49e5-ac99-af37b1614b07",
   "metadata": {},
   "outputs": [],
   "source": [
    "def soma_2(a, b):\n",
    "    return a+b "
   ]
  },
  {
   "cell_type": "code",
   "execution_count": 4,
   "id": "c76a51ea-e5a4-44d2-b034-357f3e51fe85",
   "metadata": {},
   "outputs": [
    {
     "data": {
      "text/plain": [
       "4"
      ]
     },
     "execution_count": 4,
     "metadata": {},
     "output_type": "execute_result"
    }
   ],
   "source": [
    "soma_2(1, 3)"
   ]
  },
  {
   "cell_type": "markdown",
   "id": "06bf3b0c-6dd1-4667-a3c4-d7d02c7fff36",
   "metadata": {},
   "source": [
    "- Definindo uma funcão em 1 linha "
   ]
  },
  {
   "cell_type": "code",
   "execution_count": 5,
   "id": "84813dd4-f5fd-4ed5-bedd-47a8f0d8a696",
   "metadata": {},
   "outputs": [],
   "source": [
    "def soma_3(a, b): return a+b "
   ]
  },
  {
   "cell_type": "code",
   "execution_count": 6,
   "id": "244d1c3f-c457-4cad-a6df-012619f270ab",
   "metadata": {},
   "outputs": [
    {
     "data": {
      "text/plain": [
       "5"
      ]
     },
     "execution_count": 6,
     "metadata": {},
     "output_type": "execute_result"
    }
   ],
   "source": [
    "soma_3(1, 4)"
   ]
  },
  {
   "cell_type": "markdown",
   "id": "45c5edcc-bedf-4662-8e0d-4617f31f0c62",
   "metadata": {},
   "source": [
    "#### Definindo uma expressão lambda"
   ]
  },
  {
   "cell_type": "code",
   "execution_count": 7,
   "id": "b41f7b8e-47e4-47a3-8b92-7ad9caef17d8",
   "metadata": {},
   "outputs": [],
   "source": [
    "soma_lambda = lambda a, b: a+b"
   ]
  },
  {
   "cell_type": "code",
   "execution_count": 9,
   "id": "f1a0e280-c758-4469-90d4-af1e4eedd958",
   "metadata": {},
   "outputs": [
    {
     "name": "stdin",
     "output_type": "stream",
     "text": [
      "Valor de a:  78\n",
      "Valor de b:  447\n"
     ]
    },
    {
     "data": {
      "text/plain": [
       "525"
      ]
     },
     "execution_count": 9,
     "metadata": {},
     "output_type": "execute_result"
    }
   ],
   "source": [
    "a = int(input('Valor de a: '))\n",
    "b = int(input('Valor de b: '))\n",
    "soma_lambda(a, b)"
   ]
  },
  {
   "cell_type": "markdown",
   "id": "8c2b4858-06ce-4390-894a-c4d505f6ff2e",
   "metadata": {},
   "source": [
    "- Numeros pares "
   ]
  },
  {
   "cell_type": "code",
   "execution_count": 16,
   "id": "b68a78fa-a628-41e6-b71f-c1e5499ca64e",
   "metadata": {},
   "outputs": [],
   "source": [
    "numero_par = lambda numero: numero % 2 == 0"
   ]
  },
  {
   "cell_type": "code",
   "execution_count": 17,
   "id": "4f93a4e0-9721-45a1-8e1e-19d1c0619b45",
   "metadata": {},
   "outputs": [
    {
     "data": {
      "text/plain": [
       "True"
      ]
     },
     "execution_count": 17,
     "metadata": {},
     "output_type": "execute_result"
    }
   ],
   "source": [
    "numero_par(2)"
   ]
  },
  {
   "cell_type": "code",
   "execution_count": 18,
   "id": "cf92ed34-690d-4c4d-a776-438a617d5d6a",
   "metadata": {},
   "outputs": [
    {
     "data": {
      "text/plain": [
       "False"
      ]
     },
     "execution_count": 18,
     "metadata": {},
     "output_type": "execute_result"
    }
   ],
   "source": [
    "numero_par(1)"
   ]
  },
  {
   "cell_type": "markdown",
   "id": "9d200c25-9f16-41d3-9b01-02fa7eeaab54",
   "metadata": {},
   "source": [
    "- Faça uma expressão lambda que retorne a primeira posição de uma string "
   ]
  },
  {
   "cell_type": "code",
   "execution_count": 23,
   "id": "98150f1e-3e16-4168-aee3-e3ba9ccd3e81",
   "metadata": {},
   "outputs": [],
   "source": [
    "posicao_zero = lambda x: x[0]"
   ]
  },
  {
   "cell_type": "code",
   "execution_count": 24,
   "id": "c8492a8d-0bf6-4bbe-8bf1-70e93047d410",
   "metadata": {},
   "outputs": [
    {
     "data": {
      "text/plain": [
       "'J'"
      ]
     },
     "execution_count": 24,
     "metadata": {},
     "output_type": "execute_result"
    }
   ],
   "source": [
    "posicao_zero('JUMP')"
   ]
  },
  {
   "cell_type": "code",
   "execution_count": 25,
   "id": "470df236-348f-44d3-a09e-4b6dc5be7037",
   "metadata": {},
   "outputs": [
    {
     "data": {
      "text/plain": [
       "1"
      ]
     },
     "execution_count": 25,
     "metadata": {},
     "output_type": "execute_result"
    }
   ],
   "source": [
    "posicao_zero([1,2,3])"
   ]
  },
  {
   "cell_type": "code",
   "execution_count": 26,
   "id": "e145d9bc-741d-4dc1-8988-6e20e2069fa8",
   "metadata": {},
   "outputs": [
    {
     "ename": "TypeError",
     "evalue": "'int' object is not subscriptable",
     "output_type": "error",
     "traceback": [
      "\u001b[1;31m---------------------------------------------------------------------------\u001b[0m",
      "\u001b[1;31mTypeError\u001b[0m                                 Traceback (most recent call last)",
      "Cell \u001b[1;32mIn[26], line 1\u001b[0m\n\u001b[1;32m----> 1\u001b[0m posicao_zero(\u001b[38;5;241m123\u001b[39m)\n",
      "Cell \u001b[1;32mIn[23], line 1\u001b[0m, in \u001b[0;36m<lambda>\u001b[1;34m(x)\u001b[0m\n\u001b[1;32m----> 1\u001b[0m posicao_zero \u001b[38;5;241m=\u001b[39m \u001b[38;5;28;01mlambda\u001b[39;00m x: x[\u001b[38;5;241m0\u001b[39m]\n",
      "\u001b[1;31mTypeError\u001b[0m: 'int' object is not subscriptable"
     ]
    }
   ],
   "source": [
    "posicao_zero(123)"
   ]
  },
  {
   "cell_type": "markdown",
   "id": "5bcdfa63-4325-4eb7-b17e-7a69ef50f194",
   "metadata": {},
   "source": [
    "- Tratando erro "
   ]
  },
  {
   "cell_type": "code",
   "execution_count": 27,
   "id": "7466fa99-13f0-4582-a4b6-e6d4a7bd7367",
   "metadata": {},
   "outputs": [],
   "source": [
    "posicao_zero_trando = lambda x: str(x)[0]"
   ]
  },
  {
   "cell_type": "code",
   "execution_count": 28,
   "id": "4c0e9f0c-6180-41e1-bbba-a45b797d86eb",
   "metadata": {},
   "outputs": [
    {
     "data": {
      "text/plain": [
       "'1'"
      ]
     },
     "execution_count": 28,
     "metadata": {},
     "output_type": "execute_result"
    }
   ],
   "source": [
    "posicao_zero_trando(123)"
   ]
  },
  {
   "cell_type": "markdown",
   "id": "5fee0267-e4b2-4ca0-a0d4-83c9dabcf69a",
   "metadata": {},
   "source": [
    "### Lambda com condicionais "
   ]
  },
  {
   "cell_type": "code",
   "execution_count": 33,
   "id": "e19173a6-cc6d-42b0-87f4-ac7fdd86f4dc",
   "metadata": {},
   "outputs": [],
   "source": [
    "par_ou_impar = lambda x: \"par\" if x % 2 == 0 else \"ímpar\""
   ]
  },
  {
   "cell_type": "code",
   "execution_count": 34,
   "id": "53b4725e-84e5-4a0c-ab09-b14fa7e09b01",
   "metadata": {},
   "outputs": [
    {
     "data": {
      "text/plain": [
       "'ímpar'"
      ]
     },
     "execution_count": 34,
     "metadata": {},
     "output_type": "execute_result"
    }
   ],
   "source": [
    "par_ou_impar(57)"
   ]
  },
  {
   "cell_type": "code",
   "execution_count": 35,
   "id": "bc092e4f-29e0-42a1-8da8-cf3a79f799b2",
   "metadata": {},
   "outputs": [
    {
     "data": {
      "text/plain": [
       "'par'"
      ]
     },
     "execution_count": 35,
     "metadata": {},
     "output_type": "execute_result"
    }
   ],
   "source": [
    "par_ou_impar(58)"
   ]
  },
  {
   "cell_type": "markdown",
   "id": "713dc4b6-a460-406f-865d-29645c13b209",
   "metadata": {},
   "source": [
    "- Comparação (maior, menor ou igual)"
   ]
  },
  {
   "cell_type": "code",
   "execution_count": 44,
   "id": "a0a68ad0-713a-496b-b64f-7597c46c2939",
   "metadata": {},
   "outputs": [],
   "source": [
    "compara = lambda x, y: f'{x} é maior que {y}' if x > y\\\n",
    "                    else f'{x} é menor que {y}'"
   ]
  },
  {
   "cell_type": "code",
   "execution_count": 45,
   "id": "2862c718-9a85-43e0-ac3a-5174984ac48e",
   "metadata": {},
   "outputs": [
    {
     "data": {
      "text/plain": [
       "'15 é maior que 5'"
      ]
     },
     "execution_count": 45,
     "metadata": {},
     "output_type": "execute_result"
    }
   ],
   "source": [
    "compara(15, 5)"
   ]
  },
  {
   "cell_type": "code",
   "execution_count": 46,
   "id": "235a8d7b-aba3-449f-8e14-6d0ced294c62",
   "metadata": {},
   "outputs": [
    {
     "data": {
      "text/plain": [
       "'4 é menor que 5'"
      ]
     },
     "execution_count": 46,
     "metadata": {},
     "output_type": "execute_result"
    }
   ],
   "source": [
    "compara(4, 5)"
   ]
  },
  {
   "cell_type": "code",
   "execution_count": 47,
   "id": "11560073-4f1c-4b27-aca6-7792094e725a",
   "metadata": {},
   "outputs": [],
   "source": [
    "compara = lambda x, y: f'{x} é igual a {y}' if x == y\\\n",
    "                    else f'{min(x,y)} é menor que {max(y, x)}'"
   ]
  },
  {
   "cell_type": "code",
   "execution_count": 48,
   "id": "c9f7e6ac-125b-4563-8e5b-e5641a2a4a6c",
   "metadata": {},
   "outputs": [
    {
     "data": {
      "text/plain": [
       "'4 é igual a 4'"
      ]
     },
     "execution_count": 48,
     "metadata": {},
     "output_type": "execute_result"
    }
   ],
   "source": [
    "compara(4, 4)"
   ]
  },
  {
   "cell_type": "code",
   "execution_count": 49,
   "id": "8bed3875-4291-4a32-b750-0d83db1072f9",
   "metadata": {},
   "outputs": [
    {
     "data": {
      "text/plain": [
       "'4 é menor que 5'"
      ]
     },
     "execution_count": 49,
     "metadata": {},
     "output_type": "execute_result"
    }
   ],
   "source": [
    "compara(5, 4)"
   ]
  },
  {
   "cell_type": "code",
   "execution_count": 50,
   "id": "d2a4567e-1003-4460-aa3d-45ff50a1cdf6",
   "metadata": {},
   "outputs": [
    {
     "data": {
      "text/plain": [
       "'5 é menor que 70'"
      ]
     },
     "execution_count": 50,
     "metadata": {},
     "output_type": "execute_result"
    }
   ],
   "source": [
    "compara(5, 70)"
   ]
  },
  {
   "cell_type": "code",
   "execution_count": null,
   "id": "fcf1dcab-e318-44c2-b02a-8e2b640de569",
   "metadata": {},
   "outputs": [],
   "source": []
  }
 ],
 "metadata": {
  "kernelspec": {
   "display_name": "Python 3 (ipykernel)",
   "language": "python",
   "name": "python3"
  },
  "language_info": {
   "codemirror_mode": {
    "name": "ipython",
    "version": 3
   },
   "file_extension": ".py",
   "mimetype": "text/x-python",
   "name": "python",
   "nbconvert_exporter": "python",
   "pygments_lexer": "ipython3",
   "version": "3.11.7"
  }
 },
 "nbformat": 4,
 "nbformat_minor": 5
}
