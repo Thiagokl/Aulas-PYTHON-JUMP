{
 "cells": [
  {
   "cell_type": "markdown",
   "id": "f4b266c8-2f49-4c63-be83-8822910b19f6",
   "metadata": {},
   "source": [
    "# While \n",
    "\n",
    "- Executa um loop enquanto uma condição for verdadeira ou for parado."
   ]
  },
  {
   "cell_type": "markdown",
   "id": "6c49b9b1-fc60-4c6f-8b0c-09a8f8d3d862",
   "metadata": {},
   "source": [
    "### Estrutura \n",
    "\n",
    "```python\n",
    "while <condição>:\n",
    "    <instruções>"
   ]
  },
  {
   "cell_type": "markdown",
   "id": "2924f47e-8b21-4a69-a4ea-0c4a1a8ee997",
   "metadata": {},
   "source": [
    "- Exemplo "
   ]
  },
  {
   "cell_type": "code",
   "execution_count": 1,
   "id": "db2cade4-3b22-41d9-9abf-c622ab4d8696",
   "metadata": {},
   "outputs": [
    {
     "name": "stdout",
     "output_type": "stream",
     "text": [
      "0\n",
      "1\n",
      "2\n",
      "3\n",
      "4\n",
      "5\n",
      "6\n",
      "7\n",
      "8\n",
      "9\n"
     ]
    }
   ],
   "source": [
    "contador = 0\n",
    "\n",
    "while contador < 10:\n",
    "    print(contador)\n",
    "    contador += 1"
   ]
  },
  {
   "cell_type": "markdown",
   "id": "1bf8613a-a6b8-4d1a-9074-c1da9c165256",
   "metadata": {},
   "source": [
    "- Exemplo utilizando break"
   ]
  },
  {
   "cell_type": "code",
   "execution_count": 2,
   "id": "9a61abd0-a81e-4dbd-b2d9-d79b5979ffe3",
   "metadata": {},
   "outputs": [
    {
     "name": "stdout",
     "output_type": "stream",
     "text": [
      "0\n",
      "1\n",
      "2\n",
      "3\n",
      "4\n",
      "5\n",
      "6\n",
      "7\n",
      "8\n",
      "9\n"
     ]
    }
   ],
   "source": [
    "contador = 0\n",
    "\n",
    "while True:\n",
    "    print(contador)\n",
    "    contador += 1\n",
    "    if contador == 10:\n",
    "        break"
   ]
  },
  {
   "cell_type": "markdown",
   "id": "bbf543c7-6313-42ac-82d3-f122e33863d9",
   "metadata": {},
   "source": [
    "- Também é possível utilizar o else"
   ]
  },
  {
   "cell_type": "code",
   "execution_count": 4,
   "id": "2dc06bed-7a4e-4502-8f53-091685cb842f",
   "metadata": {},
   "outputs": [
    {
     "name": "stdout",
     "output_type": "stream",
     "text": [
      "0\n",
      "1\n",
      "2\n",
      "3\n",
      "4\n",
      "5\n",
      "6\n",
      "7\n",
      "8\n",
      "9\n",
      "10\n"
     ]
    }
   ],
   "source": [
    "contador = 0\n",
    "\n",
    "while contador < 10:\n",
    "    print(contador)\n",
    "    contador += 1\n",
    "else:\n",
    "    print(contador)"
   ]
  },
  {
   "cell_type": "markdown",
   "id": "a5116fa0-25c1-4d6d-bd16-4ed0593cd530",
   "metadata": {},
   "source": [
    "- O else só será executado se a condição for falsa "
   ]
  },
  {
   "cell_type": "code",
   "execution_count": 6,
   "id": "853f3429-8a7f-495a-a0f9-ee43f804da59",
   "metadata": {},
   "outputs": [
    {
     "name": "stdout",
     "output_type": "stream",
     "text": [
      "0\n",
      "1\n",
      "2\n",
      "3\n",
      "4\n",
      "5\n",
      "6\n",
      "7\n",
      "8\n",
      "9\n"
     ]
    }
   ],
   "source": [
    "contador = 0\n",
    "\n",
    "while True:\n",
    "    print(contador)\n",
    "    contador += 1\n",
    "    if contador == 10:\n",
    "        break\n",
    "else:\n",
    "    print(contador)"
   ]
  },
  {
   "cell_type": "code",
   "execution_count": 7,
   "id": "d388ee0f-22f6-487f-8526-f5ca8d66030d",
   "metadata": {},
   "outputs": [
    {
     "name": "stdout",
     "output_type": "stream",
     "text": [
      "else\n"
     ]
    }
   ],
   "source": [
    "while False:\n",
    "    pass\n",
    "else:\n",
    "    print('else')"
   ]
  },
  {
   "cell_type": "code",
   "execution_count": 8,
   "id": "ae86a08b-438f-4a5a-be86-9a6c1d206a46",
   "metadata": {},
   "outputs": [],
   "source": [
    "debug = False\n",
    "\n",
    "debug = True"
   ]
  },
  {
   "cell_type": "markdown",
   "id": "73db3e2b-205d-40cd-91aa-f139a03365d1",
   "metadata": {},
   "source": [
    "- Utlizando **pass** e **break**"
   ]
  },
  {
   "cell_type": "code",
   "execution_count": 13,
   "id": "6aabe2db-3bc9-4ec1-b850-c0dc1478a61e",
   "metadata": {},
   "outputs": [
    {
     "name": "stdout",
     "output_type": "stream",
     "text": [
      "1\n",
      "2\n",
      "3\n",
      "4\n",
      "5\n",
      "6\n",
      "7\n",
      "8\n"
     ]
    }
   ],
   "source": [
    "c = 0\n",
    "\n",
    "while c < 10:\n",
    "    if c < 4:\n",
    "        pass\n",
    "    elif c > 7:\n",
    "        break\n",
    "    c += 1\n",
    "    print(c)"
   ]
  },
  {
   "cell_type": "code",
   "execution_count": 20,
   "id": "fcc83bcc-0b3e-4f4e-9a3c-f62e547a07ce",
   "metadata": {},
   "outputs": [
    {
     "name": "stdout",
     "output_type": "stream",
     "text": [
      "0\n",
      "2\n"
     ]
    }
   ],
   "source": [
    "c = 0\n",
    "\n",
    "while c < 10:\n",
    "    if c == 4:\n",
    "        break\n",
    "    else:\n",
    "        pass\n",
    "    print(c)\n",
    "    c += 2"
   ]
  },
  {
   "cell_type": "markdown",
   "id": "2d1b81a8-8d26-4e04-b0f8-488604366485",
   "metadata": {},
   "source": [
    "### try except\n",
    "\n",
    "#### Estrutura \n",
    "```python\n",
    "try:\n",
    "    <instruções>\n",
    "except:\n",
    "    <instruções>"
   ]
  },
  {
   "cell_type": "markdown",
   "id": "2b96f75c-2ef0-4056-91a0-b5896701e47a",
   "metadata": {},
   "source": [
    "- Exemplo em programa "
   ]
  },
  {
   "cell_type": "code",
   "execution_count": 21,
   "id": "4aca636d-775e-41ab-a7ef-46e159ff2d46",
   "metadata": {},
   "outputs": [
    {
     "name": "stdin",
     "output_type": "stream",
     "text": [
      "Qual a idade?  dezoito\n"
     ]
    },
    {
     "ename": "ValueError",
     "evalue": "invalid literal for int() with base 10: 'dezoito'",
     "output_type": "error",
     "traceback": [
      "\u001b[1;31m---------------------------------------------------------------------------\u001b[0m",
      "\u001b[1;31mValueError\u001b[0m                                Traceback (most recent call last)",
      "Cell \u001b[1;32mIn[21], line 2\u001b[0m\n\u001b[0;32m      1\u001b[0m \u001b[38;5;28;01mwhile\u001b[39;00m \u001b[38;5;28;01mTrue\u001b[39;00m:\n\u001b[1;32m----> 2\u001b[0m     idade \u001b[38;5;241m=\u001b[39m \u001b[38;5;28mint\u001b[39m(\u001b[38;5;28minput\u001b[39m(\u001b[38;5;124m'\u001b[39m\u001b[38;5;124mQual a idade? \u001b[39m\u001b[38;5;124m'\u001b[39m))\n\u001b[0;32m      3\u001b[0m     \u001b[38;5;28;01mbreak\u001b[39;00m\n",
      "\u001b[1;31mValueError\u001b[0m: invalid literal for int() with base 10: 'dezoito'"
     ]
    }
   ],
   "source": [
    "while True:\n",
    "    idade = int(input('Qual a idade? '))\n",
    "    break "
   ]
  },
  {
   "cell_type": "code",
   "execution_count": 28,
   "id": "fee7dafa-1d4d-43c2-832b-5d9bb8f9e119",
   "metadata": {},
   "outputs": [
    {
     "name": "stdin",
     "output_type": "stream",
     "text": [
      "Qual a idade?  dezoito\n"
     ]
    },
    {
     "name": "stdout",
     "output_type": "stream",
     "text": [
      "ValueError\n",
      "Por favor, usuário querido, insira somente números.\n"
     ]
    },
    {
     "name": "stdin",
     "output_type": "stream",
     "text": [
      "Qual a idade?  18\n"
     ]
    },
    {
     "name": "stdout",
     "output_type": "stream",
     "text": [
      "Você tem 18 anos.\n"
     ]
    }
   ],
   "source": [
    "while True:\n",
    "    try:\n",
    "        idade = int(input('Qual a idade? '))\n",
    "        print(f'Você tem {idade} anos.')\n",
    "        break \n",
    "    except ValueError:\n",
    "        print('ValueError')\n",
    "        print('Por favor, usuário querido, insira somente números.')"
   ]
  },
  {
   "cell_type": "code",
   "execution_count": 23,
   "id": "8c746106-17c3-4590-bd04-d14a3dfb0693",
   "metadata": {},
   "outputs": [
    {
     "data": {
      "text/plain": [
       "18"
      ]
     },
     "execution_count": 23,
     "metadata": {},
     "output_type": "execute_result"
    }
   ],
   "source": [
    "idade"
   ]
  },
  {
   "cell_type": "code",
   "execution_count": 29,
   "id": "5c59eb29-7f93-4717-aa1f-a31720ec8311",
   "metadata": {},
   "outputs": [
    {
     "name": "stdin",
     "output_type": "stream",
     "text": [
      "Insria o valor de a:  d\n"
     ]
    },
    {
     "name": "stdout",
     "output_type": "stream",
     "text": [
      "\n",
      "Erro do tipo >>> ValueError\n",
      "\n"
     ]
    },
    {
     "name": "stdin",
     "output_type": "stream",
     "text": [
      "Insria o valor de a:  10\n",
      "Insira o valor de b:  0\n"
     ]
    },
    {
     "ename": "ZeroDivisionError",
     "evalue": "division by zero",
     "output_type": "error",
     "traceback": [
      "\u001b[1;31m---------------------------------------------------------------------------\u001b[0m",
      "\u001b[1;31mZeroDivisionError\u001b[0m                         Traceback (most recent call last)",
      "Cell \u001b[1;32mIn[29], line 6\u001b[0m\n\u001b[0;32m      3\u001b[0m a \u001b[38;5;241m=\u001b[39m \u001b[38;5;28mint\u001b[39m(\u001b[38;5;28minput\u001b[39m(\u001b[38;5;124m'\u001b[39m\u001b[38;5;124mInsria o valor de a: \u001b[39m\u001b[38;5;124m'\u001b[39m))\n\u001b[0;32m      4\u001b[0m b \u001b[38;5;241m=\u001b[39m \u001b[38;5;28mint\u001b[39m(\u001b[38;5;28minput\u001b[39m(\u001b[38;5;124m'\u001b[39m\u001b[38;5;124mInsira o valor de b: \u001b[39m\u001b[38;5;124m'\u001b[39m))\n\u001b[1;32m----> 6\u001b[0m c \u001b[38;5;241m=\u001b[39m a \u001b[38;5;241m/\u001b[39m b \n\u001b[0;32m      7\u001b[0m \u001b[38;5;28mprint\u001b[39m(\u001b[38;5;124m'\u001b[39m\u001b[38;5;124mo resultado é\u001b[39m\u001b[38;5;124m'\u001b[39m, c)\n\u001b[0;32m      8\u001b[0m \u001b[38;5;28;01mbreak\u001b[39;00m\n",
      "\u001b[1;31mZeroDivisionError\u001b[0m: division by zero"
     ]
    }
   ],
   "source": [
    "while True:\n",
    "    try:\n",
    "        a = int(input('Insria o valor de a: '))\n",
    "        b = int(input('Insira o valor de b: '))\n",
    "\n",
    "        c = a / b \n",
    "        print('o resultado é', c)\n",
    "        break\n",
    "    except ValueError:\n",
    "        print('\\nErro do tipo >>> ValueError\\n')"
   ]
  },
  {
   "cell_type": "markdown",
   "id": "6dcf5d88-bf1f-431b-aa32-5cbfb8569ccf",
   "metadata": {},
   "source": [
    "- Usando vários except e especificando qual o erro trado "
   ]
  },
  {
   "cell_type": "code",
   "execution_count": 30,
   "id": "9491d79a-8354-4f82-a19e-276b52b6f20a",
   "metadata": {},
   "outputs": [
    {
     "name": "stdin",
     "output_type": "stream",
     "text": [
      "Insria o valor de a:  10\n",
      "Insira o valor de b:  0\n"
     ]
    },
    {
     "name": "stdout",
     "output_type": "stream",
     "text": [
      "\n",
      "Erro genérico\n",
      "\n"
     ]
    },
    {
     "name": "stdin",
     "output_type": "stream",
     "text": [
      "Insria o valor de a:  1\n",
      "Insira o valor de b:  1\n"
     ]
    },
    {
     "name": "stdout",
     "output_type": "stream",
     "text": [
      "o resultado é 1.0\n"
     ]
    }
   ],
   "source": [
    "while True:\n",
    "    try:\n",
    "        a = int(input('Insria o valor de a: '))\n",
    "        b = int(input('Insira o valor de b: '))\n",
    "\n",
    "        c = a / b \n",
    "        print('o resultado é', c)\n",
    "        break\n",
    "    except ValueError:\n",
    "        print('\\nErro do tipo >>> ValueError\\n')\n",
    "    except:\n",
    "        print('\\nErro genérico\\n')"
   ]
  },
  {
   "cell_type": "code",
   "execution_count": 31,
   "id": "616766a2-09bb-48d1-9a19-64f20939a228",
   "metadata": {},
   "outputs": [
    {
     "name": "stdin",
     "output_type": "stream",
     "text": [
      "Insria o valor de a:  10\n",
      "Insira o valor de b:  0\n"
     ]
    },
    {
     "name": "stdout",
     "output_type": "stream",
     "text": [
      "\n",
      "Erro do tipo >>> ZeroDivisionError\n",
      "\n"
     ]
    },
    {
     "name": "stdin",
     "output_type": "stream",
     "text": [
      "Insria o valor de a:  1\n",
      "Insira o valor de b:  1\n"
     ]
    },
    {
     "name": "stdout",
     "output_type": "stream",
     "text": [
      "o resultado é 1.0\n"
     ]
    }
   ],
   "source": [
    "while True:\n",
    "    try:\n",
    "        a = int(input('Insria o valor de a: '))\n",
    "        b = int(input('Insira o valor de b: '))\n",
    "\n",
    "        c = a / b \n",
    "        print('o resultado é', c)\n",
    "        break\n",
    "    except ValueError:\n",
    "        print('\\nErro do tipo >>> ValueError\\n')\n",
    "    except ZeroDivisionError:\n",
    "        print('\\nErro do tipo >>> ZeroDivisionError\\n')"
   ]
  },
  {
   "cell_type": "code",
   "execution_count": 32,
   "id": "f2f6fd8e-91f7-40fd-b562-cec8f5fa9826",
   "metadata": {},
   "outputs": [
    {
     "name": "stdout",
     "output_type": "stream",
     "text": [
      "Divided by zero\n",
      "Should reach here\n"
     ]
    }
   ],
   "source": [
    "try: \n",
    "    1 / 0\n",
    "except ZeroDivisionError: \n",
    "    print('Divided by zero')\n",
    "\n",
    "print('Should reach here')"
   ]
  },
  {
   "cell_type": "code",
   "execution_count": null,
   "id": "9f48d678-3e5b-44e6-8fd9-54c758140e71",
   "metadata": {},
   "outputs": [],
   "source": []
  }
 ],
 "metadata": {
  "kernelspec": {
   "display_name": "Python 3 (ipykernel)",
   "language": "python",
   "name": "python3"
  },
  "language_info": {
   "codemirror_mode": {
    "name": "ipython",
    "version": 3
   },
   "file_extension": ".py",
   "mimetype": "text/x-python",
   "name": "python",
   "nbconvert_exporter": "python",
   "pygments_lexer": "ipython3",
   "version": "3.11.7"
  }
 },
 "nbformat": 4,
 "nbformat_minor": 5
}
