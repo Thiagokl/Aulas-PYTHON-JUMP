{
 "cells": [
  {
   "cell_type": "markdown",
   "id": "3312d62d-8b5a-455f-bd98-e53b74a698ab",
   "metadata": {},
   "source": [
    "# Tuplas (tuples)\n",
    "\n",
    "- É uma lista imutável;\n",
    "- A declaração da variável tupla deve estar entre ()."
   ]
  },
  {
   "cell_type": "markdown",
   "id": "2d35657f-4f10-4148-b1f8-2bbcbe62a4c4",
   "metadata": {},
   "source": [
    "- Declarando uma tupla"
   ]
  },
  {
   "cell_type": "code",
   "execution_count": 1,
   "id": "e49b7cbc-18ed-4e06-aa38-84d38d78ab01",
   "metadata": {},
   "outputs": [],
   "source": [
    "tupla = (1, 2, 3, 4)"
   ]
  },
  {
   "cell_type": "code",
   "execution_count": 2,
   "id": "2e6b6b3d-32d1-4e6c-8c57-c6c974ea92db",
   "metadata": {},
   "outputs": [
    {
     "data": {
      "text/plain": [
       "(1, 2, 3, 4)"
      ]
     },
     "execution_count": 2,
     "metadata": {},
     "output_type": "execute_result"
    }
   ],
   "source": [
    "tupla "
   ]
  },
  {
   "cell_type": "markdown",
   "id": "640ecc82-6db9-4cc7-a87c-86a7126064fa",
   "metadata": {},
   "source": [
    "- Verificando qual o tipo"
   ]
  },
  {
   "cell_type": "code",
   "execution_count": 3,
   "id": "9c6b1f34-8f7c-44e8-b36c-88c923401ab8",
   "metadata": {},
   "outputs": [
    {
     "data": {
      "text/plain": [
       "tuple"
      ]
     },
     "execution_count": 3,
     "metadata": {},
     "output_type": "execute_result"
    }
   ],
   "source": [
    "type(tupla)"
   ]
  },
  {
   "cell_type": "markdown",
   "id": "8caed60b-c382-4add-afa5-5ef7f21a953b",
   "metadata": {},
   "source": [
    "- Verificando o tamanho "
   ]
  },
  {
   "cell_type": "code",
   "execution_count": 4,
   "id": "c101bcf7-bff9-40d0-a3e3-e02840f626b1",
   "metadata": {},
   "outputs": [
    {
     "data": {
      "text/plain": [
       "4"
      ]
     },
     "execution_count": 4,
     "metadata": {},
     "output_type": "execute_result"
    }
   ],
   "source": [
    "len(tupla)"
   ]
  },
  {
   "cell_type": "markdown",
   "id": "131d60fe-a062-4a91-b1e0-8b48fe7f324c",
   "metadata": {},
   "source": [
    "- Adicionar elementos em uma tupla "
   ]
  },
  {
   "cell_type": "code",
   "execution_count": 5,
   "id": "b7411065-ba57-4b84-9d78-80a61819de09",
   "metadata": {},
   "outputs": [
    {
     "ename": "AttributeError",
     "evalue": "'tuple' object has no attribute 'append'",
     "output_type": "error",
     "traceback": [
      "\u001b[1;31m---------------------------------------------------------------------------\u001b[0m",
      "\u001b[1;31mAttributeError\u001b[0m                            Traceback (most recent call last)",
      "Cell \u001b[1;32mIn[5], line 1\u001b[0m\n\u001b[1;32m----> 1\u001b[0m tupla\u001b[38;5;241m.\u001b[39mappend(\u001b[38;5;241m5\u001b[39m)\n",
      "\u001b[1;31mAttributeError\u001b[0m: 'tuple' object has no attribute 'append'"
     ]
    }
   ],
   "source": [
    "tupla.append(5)"
   ]
  },
  {
   "cell_type": "markdown",
   "id": "cb550234-4008-42a3-96ec-8aaa5f266baf",
   "metadata": {},
   "source": [
    "- Deletando elemento em uma tupla "
   ]
  },
  {
   "cell_type": "code",
   "execution_count": 6,
   "id": "8b8baafc-a0cc-4b35-b0b1-690153983de6",
   "metadata": {},
   "outputs": [
    {
     "ename": "TypeError",
     "evalue": "'tuple' object doesn't support item deletion",
     "output_type": "error",
     "traceback": [
      "\u001b[1;31m---------------------------------------------------------------------------\u001b[0m",
      "\u001b[1;31mTypeError\u001b[0m                                 Traceback (most recent call last)",
      "Cell \u001b[1;32mIn[6], line 1\u001b[0m\n\u001b[1;32m----> 1\u001b[0m \u001b[38;5;28;01mdel\u001b[39;00m tupla[\u001b[38;5;241m0\u001b[39m]\n",
      "\u001b[1;31mTypeError\u001b[0m: 'tuple' object doesn't support item deletion"
     ]
    }
   ],
   "source": [
    "del tupla[0]"
   ]
  },
  {
   "cell_type": "markdown",
   "id": "61fb9c49-2a6d-42c3-8690-3f0301d3e14a",
   "metadata": {},
   "source": [
    "- Acessando elementos de uma tupla "
   ]
  },
  {
   "cell_type": "code",
   "execution_count": 7,
   "id": "c6a831dc-2f82-43c3-8a3b-010f517812ea",
   "metadata": {},
   "outputs": [
    {
     "data": {
      "text/plain": [
       "1"
      ]
     },
     "execution_count": 7,
     "metadata": {},
     "output_type": "execute_result"
    }
   ],
   "source": [
    "tupla[0]"
   ]
  },
  {
   "cell_type": "code",
   "execution_count": 9,
   "id": "f2e53819-d6f2-41b5-9f07-bcee13e8b634",
   "metadata": {},
   "outputs": [
    {
     "data": {
      "text/plain": [
       "(2, 3)"
      ]
     },
     "execution_count": 9,
     "metadata": {},
     "output_type": "execute_result"
    }
   ],
   "source": [
    "tupla[1:3]"
   ]
  },
  {
   "cell_type": "code",
   "execution_count": 12,
   "id": "8b352c70-6a48-4e4d-80e3-b431c656117f",
   "metadata": {},
   "outputs": [
    {
     "data": {
      "text/plain": [
       "(1, 3)"
      ]
     },
     "execution_count": 12,
     "metadata": {},
     "output_type": "execute_result"
    }
   ],
   "source": [
    "tupla[::2]"
   ]
  },
  {
   "cell_type": "code",
   "execution_count": 11,
   "id": "204e8e0a-2711-42c9-a5a6-fd1243459dcc",
   "metadata": {},
   "outputs": [
    {
     "data": {
      "text/plain": [
       "2"
      ]
     },
     "execution_count": 11,
     "metadata": {},
     "output_type": "execute_result"
    }
   ],
   "source": [
    "tupla.index(3)"
   ]
  },
  {
   "cell_type": "markdown",
   "id": "a4b72993-b4c5-432f-bfc1-fea840d3e83f",
   "metadata": {},
   "source": [
    "- Converter uma tupla para uma lista "
   ]
  },
  {
   "cell_type": "code",
   "execution_count": 13,
   "id": "1b29b14f-54d6-416f-9d98-8cc1a4fb0062",
   "metadata": {},
   "outputs": [
    {
     "data": {
      "text/plain": [
       "(1, 2, 3, 4)"
      ]
     },
     "execution_count": 13,
     "metadata": {},
     "output_type": "execute_result"
    }
   ],
   "source": [
    "tupla "
   ]
  },
  {
   "cell_type": "code",
   "execution_count": 32,
   "id": "1a7675ca-65c2-4c4d-a5f8-86eef8b1534e",
   "metadata": {},
   "outputs": [],
   "source": [
    "lista = list(tupla)"
   ]
  },
  {
   "cell_type": "code",
   "execution_count": 33,
   "id": "b012ebaf-04ee-4ae9-96e6-f1852c2a1c1c",
   "metadata": {},
   "outputs": [
    {
     "data": {
      "text/plain": [
       "[1, 2, 3, 4]"
      ]
     },
     "execution_count": 33,
     "metadata": {},
     "output_type": "execute_result"
    }
   ],
   "source": [
    "lista "
   ]
  },
  {
   "cell_type": "markdown",
   "id": "de5af27f-fefe-4ee1-8ab6-57a0850eac03",
   "metadata": {},
   "source": [
    "- Deletando elemento de uma tupla "
   ]
  },
  {
   "cell_type": "code",
   "execution_count": 34,
   "id": "d3cf29ec-5bc0-4f18-8faa-b0828c5dff19",
   "metadata": {},
   "outputs": [],
   "source": [
    "del lista[0]"
   ]
  },
  {
   "cell_type": "code",
   "execution_count": 35,
   "id": "f1cfdbea-a53a-4273-9877-252d71ecf274",
   "metadata": {},
   "outputs": [
    {
     "data": {
      "text/plain": [
       "[2, 3, 4]"
      ]
     },
     "execution_count": 35,
     "metadata": {},
     "output_type": "execute_result"
    }
   ],
   "source": [
    "lista"
   ]
  },
  {
   "cell_type": "markdown",
   "id": "f5eb5a4c-baf6-4f68-bc0f-3e759f953fcd",
   "metadata": {},
   "source": [
    "- A tupla permanece igual "
   ]
  },
  {
   "cell_type": "code",
   "execution_count": 36,
   "id": "654ef8b6-78d4-4e37-a6ca-c7cf528c91ff",
   "metadata": {},
   "outputs": [
    {
     "data": {
      "text/plain": [
       "(1, 2, 3, 4)"
      ]
     },
     "execution_count": 36,
     "metadata": {},
     "output_type": "execute_result"
    }
   ],
   "source": [
    "tupla "
   ]
  },
  {
   "cell_type": "markdown",
   "id": "f807a6b7-5a02-4cbb-a62b-1f52ee92e296",
   "metadata": {},
   "source": [
    "- É possível sobrescrever a variável "
   ]
  },
  {
   "cell_type": "code",
   "execution_count": 39,
   "id": "b932d4ff-b53f-48ca-9b17-7b0e12203ada",
   "metadata": {},
   "outputs": [],
   "source": [
    "tupla = tuple(lista)"
   ]
  },
  {
   "cell_type": "code",
   "execution_count": 40,
   "id": "9e31aea6-7753-4877-841c-f2cd362a4005",
   "metadata": {},
   "outputs": [
    {
     "data": {
      "text/plain": [
       "(2, 3, 4)"
      ]
     },
     "execution_count": 40,
     "metadata": {},
     "output_type": "execute_result"
    }
   ],
   "source": [
    "tupla "
   ]
  },
  {
   "cell_type": "markdown",
   "id": "d1a57be2-3e3c-4bfe-abe6-f9fcd60cf81c",
   "metadata": {},
   "source": [
    "- Exemplo função list()"
   ]
  },
  {
   "cell_type": "code",
   "execution_count": 22,
   "id": "ad8a0036-8e44-4cda-a26e-b0cae6a72038",
   "metadata": {},
   "outputs": [],
   "source": [
    "lista_vazia = list()"
   ]
  },
  {
   "cell_type": "code",
   "execution_count": 23,
   "id": "9bebe242-0005-4f75-b2d6-ec25eace12d5",
   "metadata": {},
   "outputs": [
    {
     "data": {
      "text/plain": [
       "[]"
      ]
     },
     "execution_count": 23,
     "metadata": {},
     "output_type": "execute_result"
    }
   ],
   "source": [
    "lista_vazia"
   ]
  },
  {
   "cell_type": "code",
   "execution_count": 24,
   "id": "35ce24de-1c0c-489f-b6b4-599c8c04ca07",
   "metadata": {},
   "outputs": [],
   "source": [
    "lista_vazia.extend([1,2,3,4])"
   ]
  },
  {
   "cell_type": "code",
   "execution_count": 26,
   "id": "07c82c1b-26b8-49dc-a253-e074016dc1a4",
   "metadata": {},
   "outputs": [
    {
     "data": {
      "text/plain": [
       "[1, 2, 3, 4]"
      ]
     },
     "execution_count": 26,
     "metadata": {},
     "output_type": "execute_result"
    }
   ],
   "source": [
    "lista_vazia"
   ]
  },
  {
   "cell_type": "markdown",
   "id": "7286324b-b659-4c70-8417-1ac5d576a5ac",
   "metadata": {},
   "source": [
    "- Criando uma tupla mista "
   ]
  },
  {
   "cell_type": "code",
   "execution_count": 30,
   "id": "21d89267-aaf0-49d5-901f-6e22595e4c02",
   "metadata": {},
   "outputs": [],
   "source": [
    "tupla_mista = (1, 'dois', 3)"
   ]
  },
  {
   "cell_type": "code",
   "execution_count": 31,
   "id": "7911c7bd-08e2-4f4b-aeba-1fb2475360b4",
   "metadata": {},
   "outputs": [
    {
     "data": {
      "text/plain": [
       "(1, 'dois', 3)"
      ]
     },
     "execution_count": 31,
     "metadata": {},
     "output_type": "execute_result"
    }
   ],
   "source": [
    "tupla_mista"
   ]
  },
  {
   "cell_type": "markdown",
   "id": "708ff0ad-22da-4932-9f1c-cb9b117bb5d1",
   "metadata": {},
   "source": [
    "#### Cuidado\n",
    "- Embora a tupla seja um tipo imutável, se possuir um valor de um tipo mutável, o mesmo permanece mutável enquanto dentro da tupla. Por exemplo, se considerarmos uma tupla de listas:"
   ]
  },
  {
   "cell_type": "code",
   "execution_count": 41,
   "id": "55c85702-cea0-44bf-87dd-1fa43280d747",
   "metadata": {},
   "outputs": [],
   "source": [
    "minha_tupla = (\n",
    "    [1, 3, 4],\n",
    "    1,\n",
    "    'x'\n",
    ")"
   ]
  },
  {
   "cell_type": "code",
   "execution_count": 42,
   "id": "d5ec1d6c-ab80-423f-818f-c837f974e4c7",
   "metadata": {},
   "outputs": [
    {
     "data": {
      "text/plain": [
       "([1, 3, 4], 1, 'x')"
      ]
     },
     "execution_count": 42,
     "metadata": {},
     "output_type": "execute_result"
    }
   ],
   "source": [
    "minha_tupla"
   ]
  },
  {
   "cell_type": "markdown",
   "id": "663ca26c-aeb3-4e00-9325-9f30a1d18563",
   "metadata": {},
   "source": [
    "- Tentando alterar a lista dentro da tupla "
   ]
  },
  {
   "cell_type": "code",
   "execution_count": 44,
   "id": "307adf4f-fdba-4d11-bc38-54ff44b4eee4",
   "metadata": {},
   "outputs": [],
   "source": [
    "minha_tupla[0].append(5)"
   ]
  },
  {
   "cell_type": "code",
   "execution_count": 45,
   "id": "e0215e71-3f98-4696-887f-c7babb817005",
   "metadata": {},
   "outputs": [
    {
     "data": {
      "text/plain": [
       "([1, 3, 4, 5], 1, 'x')"
      ]
     },
     "execution_count": 45,
     "metadata": {},
     "output_type": "execute_result"
    }
   ],
   "source": [
    "minha_tupla"
   ]
  },
  {
   "cell_type": "code",
   "execution_count": 46,
   "id": "3f31b8bc-cebd-48a0-b212-db8c12543366",
   "metadata": {},
   "outputs": [],
   "source": [
    "minha_tupla[0][0] = 10"
   ]
  },
  {
   "cell_type": "code",
   "execution_count": 47,
   "id": "edee5dd5-ad1e-48a9-9025-823b36d5072e",
   "metadata": {},
   "outputs": [
    {
     "data": {
      "text/plain": [
       "([10, 3, 4, 5], 1, 'x')"
      ]
     },
     "execution_count": 47,
     "metadata": {},
     "output_type": "execute_result"
    }
   ],
   "source": [
    "minha_tupla"
   ]
  },
  {
   "cell_type": "code",
   "execution_count": 48,
   "id": "a98da477-3aea-4e81-9631-3b9c1b9545b5",
   "metadata": {},
   "outputs": [
    {
     "ename": "TypeError",
     "evalue": "'tuple' object does not support item assignment",
     "output_type": "error",
     "traceback": [
      "\u001b[1;31m---------------------------------------------------------------------------\u001b[0m",
      "\u001b[1;31mTypeError\u001b[0m                                 Traceback (most recent call last)",
      "Cell \u001b[1;32mIn[48], line 1\u001b[0m\n\u001b[1;32m----> 1\u001b[0m minha_tupla[\u001b[38;5;241m1\u001b[39m] \u001b[38;5;241m=\u001b[39m \u001b[38;5;241m10\u001b[39m\n",
      "\u001b[1;31mTypeError\u001b[0m: 'tuple' object does not support item assignment"
     ]
    }
   ],
   "source": [
    "minha_tupla[1] = 10"
   ]
  },
  {
   "cell_type": "code",
   "execution_count": null,
   "id": "2a0a5326-078b-4f41-a0ae-3dbb3d40d4e5",
   "metadata": {},
   "outputs": [],
   "source": []
  }
 ],
 "metadata": {
  "kernelspec": {
   "display_name": "Python 3 (ipykernel)",
   "language": "python",
   "name": "python3"
  },
  "language_info": {
   "codemirror_mode": {
    "name": "ipython",
    "version": 3
   },
   "file_extension": ".py",
   "mimetype": "text/x-python",
   "name": "python",
   "nbconvert_exporter": "python",
   "pygments_lexer": "ipython3",
   "version": "3.11.7"
  }
 },
 "nbformat": 4,
 "nbformat_minor": 5
}
