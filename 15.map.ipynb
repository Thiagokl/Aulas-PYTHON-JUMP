{
 "cells": [
  {
   "cell_type": "markdown",
   "id": "1aa18d42-536d-4de4-ac6d-cc49ba736f95",
   "metadata": {},
   "source": [
    "# Map\n",
    "- O map aplica uma função em cada item de uma lista de itens, ou seja, é um for com uma chamada da função para aplicá-la a cada item da sua lista."
   ]
  },
  {
   "cell_type": "markdown",
   "id": "007f8c33-8992-476f-ad92-9d093fc02bbc",
   "metadata": {},
   "source": [
    "- Criando uma função "
   ]
  },
  {
   "cell_type": "code",
   "execution_count": 2,
   "id": "a726536e-9cb2-4442-a043-54d16084e00c",
   "metadata": {},
   "outputs": [],
   "source": [
    "def fahrenheit(t):\n",
    "    return (((9/5)*t) + 32)"
   ]
  },
  {
   "cell_type": "code",
   "execution_count": 3,
   "id": "78a6953d-5cca-498e-ac16-f262a99343da",
   "metadata": {},
   "outputs": [
    {
     "data": {
      "text/plain": [
       "32.0"
      ]
     },
     "execution_count": 3,
     "metadata": {},
     "output_type": "execute_result"
    }
   ],
   "source": [
    "fahrenheit(0)"
   ]
  },
  {
   "cell_type": "code",
   "execution_count": 4,
   "id": "4ca25e29-1f00-48b7-9ee9-1a62ba724ee7",
   "metadata": {},
   "outputs": [],
   "source": [
    "temperaturas = [0, 28, 32, 16, 15]"
   ]
  },
  {
   "cell_type": "code",
   "execution_count": 5,
   "id": "4c95bc94-a6c7-4a02-a86c-789d7122a953",
   "metadata": {},
   "outputs": [
    {
     "data": {
      "text/plain": [
       "[32.0, 82.4, 89.6, 60.8, 59.0]"
      ]
     },
     "execution_count": 5,
     "metadata": {},
     "output_type": "execute_result"
    }
   ],
   "source": [
    "list(map(fahrenheit, temperaturas))"
   ]
  },
  {
   "cell_type": "markdown",
   "id": "a6b1d9e1-3d4a-4b01-b570-b3f0b8cea4c8",
   "metadata": {},
   "source": [
    "- Usando lambda"
   ]
  },
  {
   "cell_type": "code",
   "execution_count": 7,
   "id": "1a367ba6-5bed-4ecc-8eea-49d98b6a903e",
   "metadata": {},
   "outputs": [
    {
     "data": {
      "text/plain": [
       "[32.0, 82.4, 89.6, 60.8, 59.0]"
      ]
     },
     "execution_count": 7,
     "metadata": {},
     "output_type": "execute_result"
    }
   ],
   "source": [
    "list(map(lambda x: ((9/5)*x) + 32, temperaturas))"
   ]
  },
  {
   "cell_type": "markdown",
   "id": "572c58f7-200f-4789-b04a-32a0ce5e425f",
   "metadata": {},
   "source": [
    "- Exemplo dobrando valores "
   ]
  },
  {
   "cell_type": "code",
   "execution_count": 8,
   "id": "0c4dd1bd-c5e1-4492-a996-a27b6ef52b3a",
   "metadata": {},
   "outputs": [],
   "source": [
    "lista = [2, 4, 8, 16, 32]"
   ]
  },
  {
   "cell_type": "code",
   "execution_count": 9,
   "id": "4c9d99d8-3c92-432b-a3dd-c3fbce8b54f2",
   "metadata": {},
   "outputs": [
    {
     "name": "stdout",
     "output_type": "stream",
     "text": [
      "Help on class map in module builtins:\n",
      "\n",
      "class map(object)\n",
      " |  map(func, *iterables) --> map object\n",
      " |  \n",
      " |  Make an iterator that computes the function using arguments from\n",
      " |  each of the iterables.  Stops when the shortest iterable is exhausted.\n",
      " |  \n",
      " |  Methods defined here:\n",
      " |  \n",
      " |  __getattribute__(self, name, /)\n",
      " |      Return getattr(self, name).\n",
      " |  \n",
      " |  __iter__(self, /)\n",
      " |      Implement iter(self).\n",
      " |  \n",
      " |  __next__(self, /)\n",
      " |      Implement next(self).\n",
      " |  \n",
      " |  __reduce__(...)\n",
      " |      Return state information for pickling.\n",
      " |  \n",
      " |  ----------------------------------------------------------------------\n",
      " |  Static methods defined here:\n",
      " |  \n",
      " |  __new__(*args, **kwargs) from builtins.type\n",
      " |      Create and return a new object.  See help(type) for accurate signature.\n",
      "\n"
     ]
    }
   ],
   "source": [
    "help(map)"
   ]
  },
  {
   "cell_type": "code",
   "execution_count": 10,
   "id": "548471a8-a203-4e36-8ee6-84e162ab2060",
   "metadata": {},
   "outputs": [
    {
     "data": {
      "text/plain": [
       "[280, 300, 1560, 1560, 1300]"
      ]
     },
     "execution_count": 10,
     "metadata": {},
     "output_type": "execute_result"
    }
   ],
   "source": [
    "lista = [14,15,78,78,65]\n",
    " \n",
    "list(map(lambda x,y: x*2 * y,lista,[10 for i in range(len(lista))]))"
   ]
  },
  {
   "cell_type": "code",
   "execution_count": 12,
   "id": "40ad88b6-9489-4e69-922b-f66d7eca2c48",
   "metadata": {},
   "outputs": [
    {
     "data": {
      "text/plain": [
       "280"
      ]
     },
     "execution_count": 12,
     "metadata": {},
     "output_type": "execute_result"
    }
   ],
   "source": [
    "14*2*10"
   ]
  },
  {
   "cell_type": "code",
   "execution_count": 14,
   "id": "ec270b32-6428-48b9-8db7-fa2c342d3460",
   "metadata": {},
   "outputs": [
    {
     "data": {
      "text/plain": [
       "[4, 8, 16, 32, 64]"
      ]
     },
     "execution_count": 14,
     "metadata": {},
     "output_type": "execute_result"
    }
   ],
   "source": [
    "lista = [2, 4, 8, 16, 32]\n",
    "list(map(lambda x: x * 2, lista))"
   ]
  },
  {
   "cell_type": "code",
   "execution_count": 15,
   "id": "2404d3a0-096a-4a5a-b4f2-c2132bc12cb2",
   "metadata": {},
   "outputs": [
    {
     "data": {
      "text/plain": [
       "[4, 8, 16, 32, 64]"
      ]
     },
     "execution_count": 15,
     "metadata": {},
     "output_type": "execute_result"
    }
   ],
   "source": [
    "def dobro(x):\n",
    "    return (x * 2)\n",
    "list(map(dobro, lista))"
   ]
  },
  {
   "cell_type": "markdown",
   "id": "dcb0948f-c7fc-488e-ab14-572164bd5a76",
   "metadata": {},
   "source": [
    "- O map não altera a lista original "
   ]
  },
  {
   "cell_type": "code",
   "execution_count": 16,
   "id": "56dfc998-89de-45e7-8f4d-a853461a21be",
   "metadata": {},
   "outputs": [
    {
     "data": {
      "text/plain": [
       "[4, 8, 16, 32, 64]"
      ]
     },
     "execution_count": 16,
     "metadata": {},
     "output_type": "execute_result"
    }
   ],
   "source": [
    "lista = [2, 4, 8, 16, 32]\n",
    "list(map(lambda x: x * 2, lista))"
   ]
  },
  {
   "cell_type": "code",
   "execution_count": 17,
   "id": "a8115e1f-9e0e-4111-8e8e-3c6eb87d2d7a",
   "metadata": {},
   "outputs": [
    {
     "data": {
      "text/plain": [
       "[2, 4, 8, 16, 32]"
      ]
     },
     "execution_count": 17,
     "metadata": {},
     "output_type": "execute_result"
    }
   ],
   "source": [
    "lista"
   ]
  },
  {
   "cell_type": "code",
   "execution_count": 19,
   "id": "934e0aee-2884-4222-b8f2-92ea24e76dc2",
   "metadata": {},
   "outputs": [
    {
     "data": {
      "text/plain": [
       "[4, 8, 16, 32, 64]"
      ]
     },
     "execution_count": 19,
     "metadata": {},
     "output_type": "execute_result"
    }
   ],
   "source": [
    "lista2 = list(map(lambda x: x * 2, lista))\n",
    "lista2"
   ]
  },
  {
   "cell_type": "code",
   "execution_count": 22,
   "id": "3b72eee4-0efb-44bf-bd5e-98bd7c89b5ad",
   "metadata": {},
   "outputs": [
    {
     "data": {
      "text/plain": [
       "[16, 32, 64, 128, 256]"
      ]
     },
     "execution_count": 22,
     "metadata": {},
     "output_type": "execute_result"
    }
   ],
   "source": [
    "lista = list(map(lambda x: x * 2, lista))\n",
    "lista"
   ]
  },
  {
   "cell_type": "code",
   "execution_count": 23,
   "id": "aa4b0762-e5aa-4bf3-89e1-0bfab5095165",
   "metadata": {},
   "outputs": [
    {
     "name": "stdin",
     "output_type": "stream",
     "text": [
      "Digite o número 1:  1.5\n",
      "Digite o número 2:  1\n",
      "Digite o número 3:  2\n",
      "Digite o número 4:  4\n",
      "Digite o número 5:  8\n"
     ]
    },
    {
     "data": {
      "text/plain": [
       "[3.0, 2.0, 4.0, 8.0, 16.0]"
      ]
     },
     "execution_count": 23,
     "metadata": {},
     "output_type": "execute_result"
    }
   ],
   "source": [
    "lista_num = []\n",
    " \n",
    "for i in range(5):\n",
    "    while True:\n",
    "        try:\n",
    "            valor = float(input(f\"Digite o número {i+1}: \").replace(',', '.'))\n",
    "            lista_num.append(valor)\n",
    "            break\n",
    "        except ValueError:\n",
    "            print(\"Valor inválido. Por favor, insira um número válido usando '.' (ponto) como separador decimal.\")\n",
    " \n",
    "list(map(lambda x: 2*x, lista_num))"
   ]
  },
  {
   "cell_type": "code",
   "execution_count": null,
   "id": "62eabd63-0b37-41fb-844c-3970c6672d4b",
   "metadata": {},
   "outputs": [],
   "source": []
  }
 ],
 "metadata": {
  "kernelspec": {
   "display_name": "Python 3 (ipykernel)",
   "language": "python",
   "name": "python3"
  },
  "language_info": {
   "codemirror_mode": {
    "name": "ipython",
    "version": 3
   },
   "file_extension": ".py",
   "mimetype": "text/x-python",
   "name": "python",
   "nbconvert_exporter": "python",
   "pygments_lexer": "ipython3",
   "version": "3.11.7"
  }
 },
 "nbformat": 4,
 "nbformat_minor": 5
}
