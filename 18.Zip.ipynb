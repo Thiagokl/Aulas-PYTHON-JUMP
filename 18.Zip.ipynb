{
 "cells": [
  {
   "cell_type": "markdown",
   "id": "6b2576bf-a05b-4b8b-8859-43d0b1af8121",
   "metadata": {},
   "source": [
    "# Zip\n",
    "\n",
    "- A função zip() retorna um objeto zip, que é um iterador de tuplas onde o primeiro item em cada iterador passado é emparelhado e, em seguida, o segundo item em cada iterador passado é emparelhado etc;\n",
    "- Se os iteradores passados tiverem comprimentos diferentes, o iterador com menos itens decide o comprimento do novo iterador."
   ]
  },
  {
   "cell_type": "markdown",
   "id": "61534769-f555-4788-8ad0-f59e80e6be2a",
   "metadata": {},
   "source": [
    "- Exemplo "
   ]
  },
  {
   "cell_type": "code",
   "execution_count": 11,
   "id": "ef2f7aaf-b35a-4b48-a8f0-142e2aef1b04",
   "metadata": {},
   "outputs": [],
   "source": [
    "cidades = [\"Manaíra\", \"Recife\", \"Mogi mirim\", \"Parati\", \"Serra do Salitre\"]\n",
    "estados = [\"PB\", \"PE\", \"SP\", \"RJ\", \"MG\"]"
   ]
  },
  {
   "cell_type": "code",
   "execution_count": 12,
   "id": "d69fa6c9-92c3-487f-bdd1-85a811848713",
   "metadata": {},
   "outputs": [
    {
     "data": {
      "text/plain": [
       "['Manaíra', 'Recife', 'Mogi mirim', 'Parati', 'Serra do Salitre']"
      ]
     },
     "execution_count": 12,
     "metadata": {},
     "output_type": "execute_result"
    }
   ],
   "source": [
    "cidades"
   ]
  },
  {
   "cell_type": "code",
   "execution_count": 13,
   "id": "cb56360e-273d-4ed8-949e-73994a90d680",
   "metadata": {},
   "outputs": [
    {
     "data": {
      "text/plain": [
       "['PB', 'PE', 'SP', 'RJ', 'MG']"
      ]
     },
     "execution_count": 13,
     "metadata": {},
     "output_type": "execute_result"
    }
   ],
   "source": [
    "estados "
   ]
  },
  {
   "cell_type": "code",
   "execution_count": 14,
   "id": "9efcbb3f-cecf-4c57-99fb-9615161a4d2e",
   "metadata": {},
   "outputs": [
    {
     "data": {
      "text/plain": [
       "{'PB': 'Manaíra',\n",
       " 'PE': 'Recife',\n",
       " 'SP': 'Mogi mirim',\n",
       " 'RJ': 'Parati',\n",
       " 'MG': 'Serra do Salitre'}"
      ]
     },
     "execution_count": 14,
     "metadata": {},
     "output_type": "execute_result"
    }
   ],
   "source": [
    "dict(zip(estados, cidades))"
   ]
  },
  {
   "cell_type": "markdown",
   "id": "ad586f09-31fa-4dad-87a4-af81a477e9b4",
   "metadata": {},
   "source": [
    "**As listas devem estar ordenadas**"
   ]
  },
  {
   "cell_type": "code",
   "execution_count": 17,
   "id": "302ea27a-64c3-467d-9bd2-8dda6d42d648",
   "metadata": {},
   "outputs": [],
   "source": [
    "cidades = [\"Manaíra\", \"Recife\", \"Mogi mirim\", \"Parati\", \"Serra do Salitre\"]\n",
    "estados = [\"PB\", \"PE\", \"SP\", \"RJ\"]"
   ]
  },
  {
   "cell_type": "code",
   "execution_count": 18,
   "id": "41af5b1b-4fa6-4a22-95b0-e5db468215aa",
   "metadata": {},
   "outputs": [
    {
     "data": {
      "text/plain": [
       "{'PB': 'Manaíra', 'PE': 'Recife', 'SP': 'Mogi mirim', 'RJ': 'Parati'}"
      ]
     },
     "execution_count": 18,
     "metadata": {},
     "output_type": "execute_result"
    }
   ],
   "source": [
    "dict(zip(estados, cidades))"
   ]
  },
  {
   "cell_type": "code",
   "execution_count": 21,
   "id": "312bce37-6b46-4f4d-b982-867cef8fc4c9",
   "metadata": {},
   "outputs": [],
   "source": [
    "cidades = [\"Manaíra\", \"Recife\", \"Mogi mirim\", \"Parati\"]\n",
    "estados = [\"PB\", \"PE\", \"SP\", \"RJ\", \"MG\"]"
   ]
  },
  {
   "cell_type": "code",
   "execution_count": 20,
   "id": "2cd18734-c77d-47e3-8960-90a00d916c26",
   "metadata": {},
   "outputs": [
    {
     "data": {
      "text/plain": [
       "{'PB': 'Manaíra', 'PE': 'Recife', 'SP': 'Mogi mirim', 'RJ': 'Parati'}"
      ]
     },
     "execution_count": 20,
     "metadata": {},
     "output_type": "execute_result"
    }
   ],
   "source": [
    "dict(zip(estados, cidades))"
   ]
  },
  {
   "cell_type": "markdown",
   "id": "6ff2064e-378f-40f4-a702-dfe0ba582640",
   "metadata": {},
   "source": [
    "- Criando uma lista de tuplas "
   ]
  },
  {
   "cell_type": "code",
   "execution_count": 22,
   "id": "268aef07-b4a5-4a16-9f06-174ebecfb921",
   "metadata": {},
   "outputs": [
    {
     "data": {
      "text/plain": [
       "[('A', '1'), ('B', '2')]"
      ]
     },
     "execution_count": 22,
     "metadata": {},
     "output_type": "execute_result"
    }
   ],
   "source": [
    "list(zip('ABCD', '12'))"
   ]
  },
  {
   "cell_type": "code",
   "execution_count": 23,
   "id": "f1c57adc-e747-4e84-8076-8ad83acfc705",
   "metadata": {},
   "outputs": [
    {
     "data": {
      "text/plain": [
       "{'A': '1', 'B': '2'}"
      ]
     },
     "execution_count": 23,
     "metadata": {},
     "output_type": "execute_result"
    }
   ],
   "source": [
    "dict(zip('ABCD', '12'))"
   ]
  },
  {
   "cell_type": "code",
   "execution_count": 24,
   "id": "2b20947f-90dc-4245-877e-37b616a00be8",
   "metadata": {},
   "outputs": [
    {
     "data": {
      "text/plain": [
       "[('ABCD', '12')]"
      ]
     },
     "execution_count": 24,
     "metadata": {},
     "output_type": "execute_result"
    }
   ],
   "source": [
    "lista1 = ['ABCD']\n",
    "lista2 = ['12']\n",
    "\n",
    "list(zip(lista1, lista2))"
   ]
  },
  {
   "cell_type": "markdown",
   "id": "4de683bd-1769-41b1-ada5-5041b1f22aa4",
   "metadata": {},
   "source": [
    "- Faça o zip de uma lista de número de 1 a 10, com outra lista de strings de 1 a 10"
   ]
  },
  {
   "cell_type": "code",
   "execution_count": null,
   "id": "a9b51da4-225e-4424-a3e0-d0b079cd13c5",
   "metadata": {},
   "outputs": [],
   "source": [
    "[(1, '1'), (2, '2')]"
   ]
  },
  {
   "cell_type": "code",
   "execution_count": 25,
   "id": "dae3aef9-862f-4bfd-9a08-cecfd0028d4a",
   "metadata": {},
   "outputs": [
    {
     "name": "stdout",
     "output_type": "stream",
     "text": [
      "[(1, '1'), (2, '2'), (3, '3'), (4, '4'), (5, '5'), (6, '6'), (7, '7'), (8, '8'), (9, '9'), (10, '10')]\n"
     ]
    }
   ],
   "source": [
    "numeros = list(range(1, 10+1))\n",
    "strings = [str(i) for i in range(1, 10+1)]\n",
    " \n",
    "lista_zipada = list(zip(numeros, strings))\n",
    " \n",
    "print(lista_zipada)"
   ]
  },
  {
   "cell_type": "code",
   "execution_count": null,
   "id": "ab903e61-df3d-4490-93af-782eb3a19729",
   "metadata": {},
   "outputs": [],
   "source": []
  }
 ],
 "metadata": {
  "kernelspec": {
   "display_name": "Python 3 (ipykernel)",
   "language": "python",
   "name": "python3"
  },
  "language_info": {
   "codemirror_mode": {
    "name": "ipython",
    "version": 3
   },
   "file_extension": ".py",
   "mimetype": "text/x-python",
   "name": "python",
   "nbconvert_exporter": "python",
   "pygments_lexer": "ipython3",
   "version": "3.11.7"
  }
 },
 "nbformat": 4,
 "nbformat_minor": 5
}
