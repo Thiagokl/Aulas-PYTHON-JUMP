{
 "cells": [
  {
   "cell_type": "markdown",
   "id": "7a749a50-3fa2-4209-a4ca-47c755ef5dfa",
   "metadata": {},
   "source": [
    "# Range\n",
    "Gera uma sequência de números"
   ]
  },
  {
   "cell_type": "markdown",
   "id": "670d1c73-a12e-4ac2-a691-9484e4eba05e",
   "metadata": {},
   "source": [
    "### Estrutura\n",
    "```python\n",
    "range(<inicio>, <fim>, <incremento>)"
   ]
  },
  {
   "cell_type": "code",
   "execution_count": 1,
   "id": "9c4c55da-3791-4080-acb9-e1641186bfe3",
   "metadata": {},
   "outputs": [
    {
     "name": "stdout",
     "output_type": "stream",
     "text": [
      "100\n",
      "150\n"
     ]
    }
   ],
   "source": [
    "for i in range(100, 200, 50):\n",
    "    print(i)"
   ]
  },
  {
   "cell_type": "code",
   "execution_count": 2,
   "id": "4c19b97a-48cf-4096-91b1-857eda7c2f8f",
   "metadata": {},
   "outputs": [
    {
     "name": "stdout",
     "output_type": "stream",
     "text": [
      "100\n",
      "125\n",
      "150\n",
      "175\n"
     ]
    }
   ],
   "source": [
    "for i in range(100, 200, 25):\n",
    "    print(i)"
   ]
  },
  {
   "cell_type": "code",
   "execution_count": 3,
   "id": "c56bb18a-41d0-4480-9471-3e5f3762d731",
   "metadata": {},
   "outputs": [
    {
     "name": "stdout",
     "output_type": "stream",
     "text": [
      "100\n",
      "125\n",
      "150\n",
      "175\n",
      "200\n"
     ]
    }
   ],
   "source": [
    "for i in range(100, 200+1, 25):\n",
    "    print(i)"
   ]
  },
  {
   "cell_type": "code",
   "execution_count": 4,
   "id": "c7fd5a62-b629-44ef-bae9-d7710a59aeba",
   "metadata": {},
   "outputs": [
    {
     "ename": "TypeError",
     "evalue": "'float' object cannot be interpreted as an integer",
     "output_type": "error",
     "traceback": [
      "\u001b[1;31m---------------------------------------------------------------------------\u001b[0m",
      "\u001b[1;31mTypeError\u001b[0m                                 Traceback (most recent call last)",
      "Cell \u001b[1;32mIn[4], line 1\u001b[0m\n\u001b[1;32m----> 1\u001b[0m \u001b[38;5;28;01mfor\u001b[39;00m i \u001b[38;5;129;01min\u001b[39;00m \u001b[38;5;28mrange\u001b[39m(\u001b[38;5;241m1.5\u001b[39m, \u001b[38;5;241m5.5\u001b[39m, \u001b[38;5;241m1\u001b[39m):\n\u001b[0;32m      2\u001b[0m     \u001b[38;5;28mprint\u001b[39m(i)\n",
      "\u001b[1;31mTypeError\u001b[0m: 'float' object cannot be interpreted as an integer"
     ]
    }
   ],
   "source": [
    "for i in range(1.5, 5.5, 1):\n",
    "    print(i)"
   ]
  },
  {
   "cell_type": "markdown",
   "id": "c61a8b85-c1c5-4f47-9ddd-6876f95a80cd",
   "metadata": {},
   "source": [
    "- Criando lista com range"
   ]
  },
  {
   "cell_type": "code",
   "execution_count": 18,
   "id": "ebc37a4e-ed25-4478-ac87-10840a8daf2d",
   "metadata": {},
   "outputs": [],
   "source": [
    "lista = list(range(0, 10, 2))"
   ]
  },
  {
   "cell_type": "code",
   "execution_count": 19,
   "id": "9ef1e2a0-4553-4954-a489-30027140be76",
   "metadata": {},
   "outputs": [
    {
     "data": {
      "text/plain": [
       "[0, 2, 4, 6, 8]"
      ]
     },
     "execution_count": 19,
     "metadata": {},
     "output_type": "execute_result"
    }
   ],
   "source": [
    "lista"
   ]
  },
  {
   "cell_type": "markdown",
   "id": "01d50171-89de-4517-9c71-d35b2cd7db99",
   "metadata": {},
   "source": [
    "- step negativo"
   ]
  },
  {
   "cell_type": "code",
   "execution_count": 20,
   "id": "56b92b3d-1b7a-4d2a-b139-3111fc8d4656",
   "metadata": {},
   "outputs": [],
   "source": [
    "lista = list(range(10, 0, -2))"
   ]
  },
  {
   "cell_type": "code",
   "execution_count": 21,
   "id": "a6151778-a06d-4d94-b511-8acca22a2899",
   "metadata": {},
   "outputs": [
    {
     "data": {
      "text/plain": [
       "[10, 8, 6, 4, 2]"
      ]
     },
     "execution_count": 21,
     "metadata": {},
     "output_type": "execute_result"
    }
   ],
   "source": [
    "lista"
   ]
  },
  {
   "cell_type": "markdown",
   "id": "26f10fc6-6139-4f15-99a4-4e878f4f1f77",
   "metadata": {},
   "source": [
    "- range no for"
   ]
  },
  {
   "cell_type": "code",
   "execution_count": 24,
   "id": "cbfbad28-4d51-4381-b996-022ec8f2d31d",
   "metadata": {},
   "outputs": [
    {
     "name": "stdout",
     "output_type": "stream",
     "text": [
      "O index é 0, o valor na lista é 10\n",
      "O index é 1, o valor na lista é 8\n",
      "O index é 2, o valor na lista é 6\n",
      "O index é 3, o valor na lista é 4\n",
      "O index é 4, o valor na lista é 2\n"
     ]
    }
   ],
   "source": [
    "for i in range(len(lista)):\n",
    "    print(f'O index é {i}, o valor na lista é {lista[i]}')"
   ]
  },
  {
   "cell_type": "code",
   "execution_count": null,
   "id": "7b5ba825-32bf-411a-bcac-de5898cd6847",
   "metadata": {},
   "outputs": [],
   "source": []
  }
 ],
 "metadata": {
  "kernelspec": {
   "display_name": "Python 3 (ipykernel)",
   "language": "python",
   "name": "python3"
  },
  "language_info": {
   "codemirror_mode": {
    "name": "ipython",
    "version": 3
   },
   "file_extension": ".py",
   "mimetype": "text/x-python",
   "name": "python",
   "nbconvert_exporter": "python",
   "pygments_lexer": "ipython3",
   "version": "3.11.7"
  }
 },
 "nbformat": 4,
 "nbformat_minor": 5
}
