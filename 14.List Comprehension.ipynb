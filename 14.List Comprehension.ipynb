{
 "cells": [
  {
   "cell_type": "markdown",
   "id": "535c0600-43c0-4331-84a8-44a31d29c739",
   "metadata": {},
   "source": [
    "# List Comprehension\n",
    "- É uma sintaxe reduzida para gerar uma nova lista baseada em uma lista já existente;\n",
    "- Otimização no trabalho com listas;\n",
    "- Retorna uma lista trabalhada a partir do laço determinado."
   ]
  },
  {
   "cell_type": "markdown",
   "id": "4f50a731-73cc-48a4-aecc-518e7b9f711e",
   "metadata": {},
   "source": [
    "- Exemplo "
   ]
  },
  {
   "cell_type": "code",
   "execution_count": 1,
   "id": "0b7a5e0f-d288-417c-86e0-4f35c1d145d8",
   "metadata": {},
   "outputs": [
    {
     "name": "stdout",
     "output_type": "stream",
     "text": [
      "[1, 2, 3, 4, 5, 6, 7, 8, 9, 10]\n"
     ]
    }
   ],
   "source": [
    "lista = []\n",
    "\n",
    "for i in range(1, 11):\n",
    "    lista.append(i)\n",
    "\n",
    "print(lista)"
   ]
  },
  {
   "cell_type": "code",
   "execution_count": 2,
   "id": "46d6b517-b6a0-4575-8673-6cba1ee28e04",
   "metadata": {},
   "outputs": [
    {
     "data": {
      "text/plain": [
       "[1, 2, 3, 4, 5, 6, 7, 8, 9, 10]"
      ]
     },
     "execution_count": 2,
     "metadata": {},
     "output_type": "execute_result"
    }
   ],
   "source": [
    "lista_comprehension = [i for i in range(1, 11)]\n",
    "\n",
    "lista_comprehension"
   ]
  },
  {
   "cell_type": "code",
   "execution_count": 6,
   "id": "a5b0ee37-7953-4b2c-b1f9-d69555b261ab",
   "metadata": {},
   "outputs": [
    {
     "data": {
      "text/plain": [
       "['J', 'U', 'M', 'P', ' ', 'S', 'T', 'A', 'R', 'T']"
      ]
     },
     "execution_count": 6,
     "metadata": {},
     "output_type": "execute_result"
    }
   ],
   "source": [
    "string = 'jump start'\n",
    "lista_string = [s.upper() for s in string]\n",
    "\n",
    "lista_string"
   ]
  },
  {
   "cell_type": "code",
   "execution_count": 7,
   "id": "aabbe04c-629a-48a5-a39c-12c9f6acf732",
   "metadata": {},
   "outputs": [
    {
     "data": {
      "text/plain": [
       "[0, 1, 4, 9, 16, 25, 36, 49, 64, 81]"
      ]
     },
     "execution_count": 7,
     "metadata": {},
     "output_type": "execute_result"
    }
   ],
   "source": [
    "lista_quadrado = [i**2 for i in range(10)]\n",
    "lista_quadrado"
   ]
  },
  {
   "cell_type": "markdown",
   "id": "ff82b3a3-eae1-4f88-8dae-276975e2d496",
   "metadata": {},
   "source": [
    "- Retorna temperatura em fahrenheit"
   ]
  },
  {
   "cell_type": "code",
   "execution_count": 9,
   "id": "45e2bb0c-c4bd-4e25-ba51-04be31e4db38",
   "metadata": {},
   "outputs": [
    {
     "data": {
      "text/plain": [
       "[32.0, 59.0, 89.6, 104.0]"
      ]
     },
     "execution_count": 9,
     "metadata": {},
     "output_type": "execute_result"
    }
   ],
   "source": [
    "temperaturas = [0, 15, 32, 40]\n",
    "\n",
    "fahrenheit = [(9/5 * temp + 32) for temp in temperaturas]\n",
    "fahrenheit"
   ]
  },
  {
   "cell_type": "markdown",
   "id": "cab2183f-3347-485a-9848-35f3271d1c71",
   "metadata": {},
   "source": [
    "- Operações aninhadas"
   ]
  },
  {
   "cell_type": "code",
   "execution_count": 11,
   "id": "38eba2e1-b29f-4e1c-933e-584463bedf9b",
   "metadata": {},
   "outputs": [
    {
     "name": "stdout",
     "output_type": "stream",
     "text": [
      "Lista quadrado [0, 1, 4, 9, 16, 25, 36, 49, 64, 81]\n",
      "Lista quadrado do quadrado [0, 1, 16, 81, 256, 625, 1296, 2401, 4096, 6561]\n"
     ]
    }
   ],
   "source": [
    "quadradodoquadrado = [x**2 for x in [i**2 for i in range(10)]]\n",
    "\n",
    "print(f'Lista quadrado {lista_quadrado}')\n",
    "print(f'Lista quadrado do quadrado {quadradodoquadrado}')\n"
   ]
  },
  {
   "cell_type": "code",
   "execution_count": null,
   "id": "73b380cc-dc85-4e5f-996a-ee0efde7e3f3",
   "metadata": {},
   "outputs": [],
   "source": []
  }
 ],
 "metadata": {
  "kernelspec": {
   "display_name": "Python 3 (ipykernel)",
   "language": "python",
   "name": "python3"
  },
  "language_info": {
   "codemirror_mode": {
    "name": "ipython",
    "version": 3
   },
   "file_extension": ".py",
   "mimetype": "text/x-python",
   "name": "python",
   "nbconvert_exporter": "python",
   "pygments_lexer": "ipython3",
   "version": "3.11.7"
  }
 },
 "nbformat": 4,
 "nbformat_minor": 5
}
