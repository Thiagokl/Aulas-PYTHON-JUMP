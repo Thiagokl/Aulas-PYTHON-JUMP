{
 "cells": [
  {
   "cell_type": "markdown",
   "id": "131e5e51-7a5d-463f-a875-f09f09a1b583",
   "metadata": {},
   "source": [
    "# Dicionários (dict)\n",
    "\n",
    "- Estruturas de mapeamento em pares (chave: conteúdo); \n",
    "- Podemos acrescentar ou remover elementos;\n",
    "- Pode-se pensar no seu funcionamento como um DE-PARA."
   ]
  },
  {
   "cell_type": "code",
   "execution_count": 1,
   "id": "46aad41d-62a7-4c49-bd60-97ba497f22bc",
   "metadata": {},
   "outputs": [],
   "source": [
    "meu_dict = { \"nome\":\"Lucas\" }"
   ]
  },
  {
   "cell_type": "code",
   "execution_count": 2,
   "id": "69ddeba4-c759-4d33-b563-48a027b25905",
   "metadata": {},
   "outputs": [
    {
     "data": {
      "text/plain": [
       "{'nome': 'Lucas'}"
      ]
     },
     "execution_count": 2,
     "metadata": {},
     "output_type": "execute_result"
    }
   ],
   "source": [
    "meu_dict"
   ]
  },
  {
   "cell_type": "markdown",
   "id": "40a4d077-f1b2-4330-a493-1111c3c21da2",
   "metadata": {},
   "source": [
    "- Criando uma lista com informações de altura "
   ]
  },
  {
   "cell_type": "code",
   "execution_count": 3,
   "id": "cc2e6644-3d66-490a-93ec-cb0b12756ed4",
   "metadata": {},
   "outputs": [],
   "source": [
    "altura = ['Debora', 1.70, 'Leandro', 1.62, 'João', 1.82]"
   ]
  },
  {
   "cell_type": "code",
   "execution_count": 8,
   "id": "3a0d46f8-639c-4822-909a-15868f0c1c0c",
   "metadata": {},
   "outputs": [
    {
     "data": {
      "text/plain": [
       "['Debora', 1.7]"
      ]
     },
     "execution_count": 8,
     "metadata": {},
     "output_type": "execute_result"
    }
   ],
   "source": [
    "altura[0:2]"
   ]
  },
  {
   "cell_type": "code",
   "execution_count": 13,
   "id": "2b48fbdf-9c8f-4130-b7a8-e6532cf18ff3",
   "metadata": {},
   "outputs": [],
   "source": [
    "altura.reverse()"
   ]
  },
  {
   "cell_type": "code",
   "execution_count": 14,
   "id": "4fac7614-580b-49ad-a346-6a61d3ae3252",
   "metadata": {},
   "outputs": [
    {
     "data": {
      "text/plain": [
       "[1.82, 'João']"
      ]
     },
     "execution_count": 14,
     "metadata": {},
     "output_type": "execute_result"
    }
   ],
   "source": [
    "altura[0:2]"
   ]
  },
  {
   "cell_type": "markdown",
   "id": "629d56f5-939d-4007-ab0c-6d52f1332e9d",
   "metadata": {},
   "source": [
    "- Usando dicionário "
   ]
  },
  {
   "cell_type": "code",
   "execution_count": 18,
   "id": "c1758126-901c-4385-95f8-05344bfc628d",
   "metadata": {},
   "outputs": [],
   "source": [
    "altura_dict = {\n",
    "    'Debora': 1.70, \n",
    "    'Leandro': 1.62,\n",
    "    'João': 1.82\n",
    "}"
   ]
  },
  {
   "cell_type": "markdown",
   "id": "1d086d04-5117-4f28-9ee4-03e8049a322d",
   "metadata": {},
   "source": [
    "- Acessando chaves de um dicionário"
   ]
  },
  {
   "cell_type": "code",
   "execution_count": 19,
   "id": "9b388896-16b1-4cdb-9a3c-df084553603b",
   "metadata": {},
   "outputs": [
    {
     "data": {
      "text/plain": [
       "1.7"
      ]
     },
     "execution_count": 19,
     "metadata": {},
     "output_type": "execute_result"
    }
   ],
   "source": [
    "altura_dict['Debora']"
   ]
  },
  {
   "cell_type": "markdown",
   "id": "f2453fa8-93da-46c6-a93d-1fcb10001843",
   "metadata": {},
   "source": [
    "- Criando um dicionário com um dicionário como valor "
   ]
  },
  {
   "cell_type": "code",
   "execution_count": 22,
   "id": "1986d875-4050-45ac-8270-63c091826ad2",
   "metadata": {},
   "outputs": [],
   "source": [
    "pais_dict = {\n",
    "    'Debora': {'Pai': 'Pedro', 'Mãe': 'Paula'}, \n",
    "    'Leandro': 1.62,\n",
    "    'João': 1.82\n",
    "}"
   ]
  },
  {
   "cell_type": "code",
   "execution_count": 23,
   "id": "2bcf7f3b-49ea-45eb-8162-777c95309209",
   "metadata": {},
   "outputs": [
    {
     "data": {
      "text/plain": [
       "{'Pai': 'Pedro', 'Mãe': 'Paula'}"
      ]
     },
     "execution_count": 23,
     "metadata": {},
     "output_type": "execute_result"
    }
   ],
   "source": [
    "pais_dict['Debora']"
   ]
  },
  {
   "cell_type": "code",
   "execution_count": 24,
   "id": "addca331-4473-44d5-a8ee-2b93439bd802",
   "metadata": {},
   "outputs": [
    {
     "data": {
      "text/plain": [
       "'Pedro'"
      ]
     },
     "execution_count": 24,
     "metadata": {},
     "output_type": "execute_result"
    }
   ],
   "source": [
    "pais_dict['Debora']['Pai']"
   ]
  },
  {
   "cell_type": "markdown",
   "id": "c73e8449-a9bc-45ac-bb47-4c987292e878",
   "metadata": {},
   "source": [
    "### Del \n",
    "- Deletar um dicionário "
   ]
  },
  {
   "cell_type": "code",
   "execution_count": 25,
   "id": "0ec20e57-84fd-4a8c-ae82-01de529a146d",
   "metadata": {},
   "outputs": [
    {
     "name": "stdout",
     "output_type": "stream",
     "text": [
      "{'Debora': 1.7, 'Leandro': 1.62, 'João': 1.82}\n"
     ]
    },
    {
     "ename": "NameError",
     "evalue": "name 'altura_dict' is not defined",
     "output_type": "error",
     "traceback": [
      "\u001b[1;31m---------------------------------------------------------------------------\u001b[0m",
      "\u001b[1;31mNameError\u001b[0m                                 Traceback (most recent call last)",
      "Cell \u001b[1;32mIn[25], line 3\u001b[0m\n\u001b[0;32m      1\u001b[0m \u001b[38;5;28mprint\u001b[39m(altura_dict)\n\u001b[0;32m      2\u001b[0m \u001b[38;5;28;01mdel\u001b[39;00m altura_dict\n\u001b[1;32m----> 3\u001b[0m \u001b[38;5;28mprint\u001b[39m(altura_dict)\n",
      "\u001b[1;31mNameError\u001b[0m: name 'altura_dict' is not defined"
     ]
    }
   ],
   "source": [
    "print(altura_dict)\n",
    "del altura_dict\n",
    "print(altura_dict)"
   ]
  },
  {
   "cell_type": "markdown",
   "id": "824620a1-9ff3-4ee8-ab76-80510635b017",
   "metadata": {},
   "source": [
    "- Declarando novamente o dicionário"
   ]
  },
  {
   "cell_type": "code",
   "execution_count": 26,
   "id": "7c63e984-b9e1-49c9-a01d-882effb2a282",
   "metadata": {},
   "outputs": [],
   "source": [
    "altura_dict = {\n",
    "    'Debora': 1.70, \n",
    "    'Leandro': 1.62,\n",
    "    'João': 1.82\n",
    "}"
   ]
  },
  {
   "cell_type": "code",
   "execution_count": 27,
   "id": "4209aa1e-0e27-4e32-bc03-c3a48a6324d4",
   "metadata": {},
   "outputs": [
    {
     "data": {
      "text/plain": [
       "{'Debora': 1.7, 'Leandro': 1.62, 'João': 1.82}"
      ]
     },
     "execution_count": 27,
     "metadata": {},
     "output_type": "execute_result"
    }
   ],
   "source": [
    "altura_dict"
   ]
  },
  {
   "cell_type": "markdown",
   "id": "d838aa75-b43f-400d-b1e1-2c992c4887cd",
   "metadata": {},
   "source": [
    "- Verificando qual o tamanho do dicionário"
   ]
  },
  {
   "cell_type": "code",
   "execution_count": 28,
   "id": "bce992d6-b737-4105-8404-2968731c8d04",
   "metadata": {},
   "outputs": [
    {
     "data": {
      "text/plain": [
       "3"
      ]
     },
     "execution_count": 28,
     "metadata": {},
     "output_type": "execute_result"
    }
   ],
   "source": [
    "len(altura_dict)"
   ]
  },
  {
   "cell_type": "markdown",
   "id": "815c7b82-e90c-4234-8942-6cd4ce44b872",
   "metadata": {},
   "source": [
    "### Acessando as Chaves (keys)\n",
    "- Retorna as chaves do dicionário"
   ]
  },
  {
   "cell_type": "code",
   "execution_count": 29,
   "id": "7b7010f2-e1e5-41ee-89ba-b91aad5b2ad1",
   "metadata": {},
   "outputs": [
    {
     "data": {
      "text/plain": [
       "dict_keys(['Debora', 'Leandro', 'João'])"
      ]
     },
     "execution_count": 29,
     "metadata": {},
     "output_type": "execute_result"
    }
   ],
   "source": [
    "altura_dict.keys()"
   ]
  },
  {
   "cell_type": "code",
   "execution_count": 30,
   "id": "1c4c8f1b-f4fe-4064-8308-57edc5d268aa",
   "metadata": {},
   "outputs": [
    {
     "data": {
      "text/plain": [
       "dict_keys"
      ]
     },
     "execution_count": 30,
     "metadata": {},
     "output_type": "execute_result"
    }
   ],
   "source": [
    "type(altura_dict.keys())"
   ]
  },
  {
   "cell_type": "markdown",
   "id": "11d7a002-9a7e-4e65-aa51-7ccd6999ccd1",
   "metadata": {},
   "source": [
    "- Converter o dict_keys em uma lista "
   ]
  },
  {
   "cell_type": "code",
   "execution_count": 34,
   "id": "6c3790a9-cde8-4aeb-8cf2-42093fae34b5",
   "metadata": {},
   "outputs": [],
   "source": [
    "lista_keys = list(altura_dict.keys())"
   ]
  },
  {
   "cell_type": "code",
   "execution_count": 35,
   "id": "bec1978a-6c30-4336-843c-b6164dbe0ab1",
   "metadata": {},
   "outputs": [
    {
     "data": {
      "text/plain": [
       "'Debora'"
      ]
     },
     "execution_count": 35,
     "metadata": {},
     "output_type": "execute_result"
    }
   ],
   "source": [
    "lista_keys[0]"
   ]
  },
  {
   "cell_type": "markdown",
   "id": "fe4e257d-a9eb-4423-b5e8-6d232f8cff67",
   "metadata": {},
   "source": [
    "### Acessando os Valores (values)\n",
    "- Retorna os valores do dicionário"
   ]
  },
  {
   "cell_type": "code",
   "execution_count": 36,
   "id": "0941e967-362e-40be-a7e6-1c23faa82acf",
   "metadata": {},
   "outputs": [
    {
     "data": {
      "text/plain": [
       "dict_values([1.7, 1.62, 1.82])"
      ]
     },
     "execution_count": 36,
     "metadata": {},
     "output_type": "execute_result"
    }
   ],
   "source": [
    "altura_dict.values()"
   ]
  },
  {
   "cell_type": "markdown",
   "id": "81ad1037-5646-47f2-afaf-a04936b72154",
   "metadata": {},
   "source": [
    "### Acessando Items (items)\n",
    "- Visualizar cada chave e valor que compõe o dicionário"
   ]
  },
  {
   "cell_type": "code",
   "execution_count": 37,
   "id": "c54b865e-53d9-4fe4-82b6-d9ae2db471c9",
   "metadata": {},
   "outputs": [
    {
     "data": {
      "text/plain": [
       "dict_items([('Debora', 1.7), ('Leandro', 1.62), ('João', 1.82)])"
      ]
     },
     "execution_count": 37,
     "metadata": {},
     "output_type": "execute_result"
    }
   ],
   "source": [
    "altura_dict.items()"
   ]
  },
  {
   "cell_type": "markdown",
   "id": "389dd1f2-39b8-41b1-a101-59da567254c1",
   "metadata": {},
   "source": [
    "### Update \n",
    "- É utilizado para adicionar novas chave e valor ao dicionário"
   ]
  },
  {
   "cell_type": "code",
   "execution_count": 38,
   "id": "d2526171-f8e0-4cf2-9e60-da0757ab3438",
   "metadata": {},
   "outputs": [],
   "source": [
    "nova_altura = {'Felipe': 1.78}"
   ]
  },
  {
   "cell_type": "code",
   "execution_count": 39,
   "id": "6e02e9a2-1b5a-4ca6-8ba1-9499e87132c7",
   "metadata": {},
   "outputs": [
    {
     "data": {
      "text/plain": [
       "{'Debora': 1.7, 'Leandro': 1.62, 'João': 1.82, 'Felipe': 1.78}"
      ]
     },
     "execution_count": 39,
     "metadata": {},
     "output_type": "execute_result"
    }
   ],
   "source": [
    "altura_dict.update(nova_altura)\n",
    "altura_dict"
   ]
  },
  {
   "cell_type": "markdown",
   "id": "f99b424a-b3a2-4054-a010-e1e3b877232d",
   "metadata": {},
   "source": [
    "### Incremental \n",
    "- Adicionar novos valores no dicionário "
   ]
  },
  {
   "cell_type": "code",
   "execution_count": 40,
   "id": "3d06ad16-aa56-415f-9c2f-838f121bdab6",
   "metadata": {},
   "outputs": [],
   "source": [
    "# Chave que já existe\n",
    "altura_dict['Felipe'] = 1.5"
   ]
  },
  {
   "cell_type": "code",
   "execution_count": 41,
   "id": "2235b34b-5f29-4215-a457-a88e80839a34",
   "metadata": {},
   "outputs": [
    {
     "data": {
      "text/plain": [
       "{'Debora': 1.7, 'Leandro': 1.62, 'João': 1.82, 'Felipe': 1.5}"
      ]
     },
     "execution_count": 41,
     "metadata": {},
     "output_type": "execute_result"
    }
   ],
   "source": [
    "altura_dict"
   ]
  },
  {
   "cell_type": "code",
   "execution_count": 43,
   "id": "938a5426-1313-42a7-a776-cb3b27a07fb7",
   "metadata": {},
   "outputs": [],
   "source": [
    "#Chave que ainda não existe \n",
    "altura_dict['Felipe Palmeri'] = 1.9"
   ]
  },
  {
   "cell_type": "code",
   "execution_count": 44,
   "id": "20ffdaa3-a7a9-4de6-b584-c541e275174a",
   "metadata": {},
   "outputs": [
    {
     "data": {
      "text/plain": [
       "{'Debora': 1.7,\n",
       " 'Leandro': 1.62,\n",
       " 'João': 1.82,\n",
       " 'Felipe': 1.5,\n",
       " 'Felipe Palmeri': 1.9}"
      ]
     },
     "execution_count": 44,
     "metadata": {},
     "output_type": "execute_result"
    }
   ],
   "source": [
    "altura_dict"
   ]
  },
  {
   "cell_type": "code",
   "execution_count": 45,
   "id": "331e47ee-b1c7-42f3-9189-fc34bdaab7f8",
   "metadata": {},
   "outputs": [],
   "source": [
    "altura_dict['Felipi'] = 1.78"
   ]
  },
  {
   "cell_type": "code",
   "execution_count": 46,
   "id": "c35f2bbf-77ad-4f44-a859-f0562bfa2d6e",
   "metadata": {},
   "outputs": [
    {
     "data": {
      "text/plain": [
       "{'Debora': 1.7,\n",
       " 'Leandro': 1.62,\n",
       " 'João': 1.82,\n",
       " 'Felipe': 1.5,\n",
       " 'Felipe Palmeri': 1.9,\n",
       " 'Felipi': 1.78}"
      ]
     },
     "execution_count": 46,
     "metadata": {},
     "output_type": "execute_result"
    }
   ],
   "source": [
    "altura_dict"
   ]
  },
  {
   "cell_type": "code",
   "execution_count": 47,
   "id": "7d0f6eeb-c5d1-4682-a951-34d33212f7ba",
   "metadata": {},
   "outputs": [],
   "source": [
    "altura_dict['Total'] = 'Todo mundo é alto'"
   ]
  },
  {
   "cell_type": "code",
   "execution_count": 48,
   "id": "638e117f-3a0e-413c-98c5-d7a49c27c9b0",
   "metadata": {},
   "outputs": [
    {
     "data": {
      "text/plain": [
       "{'Debora': 1.7,\n",
       " 'Leandro': 1.62,\n",
       " 'João': 1.82,\n",
       " 'Felipe': 1.5,\n",
       " 'Felipe Palmeri': 1.9,\n",
       " 'Felipi': 1.78,\n",
       " 'Total': 'Todo mundo é alto'}"
      ]
     },
     "execution_count": 48,
     "metadata": {},
     "output_type": "execute_result"
    }
   ],
   "source": [
    "altura_dict"
   ]
  },
  {
   "cell_type": "markdown",
   "id": "88392ab2-4296-4fd7-8458-67e506b21834",
   "metadata": {},
   "source": [
    "### clear\n",
    "- Apaga todos os itens de um dicionário"
   ]
  },
  {
   "cell_type": "code",
   "execution_count": 49,
   "id": "3bcda9f2-fe67-48ae-89f3-1b7e1ddba33f",
   "metadata": {},
   "outputs": [
    {
     "data": {
      "text/plain": [
       "{}"
      ]
     },
     "execution_count": 49,
     "metadata": {},
     "output_type": "execute_result"
    }
   ],
   "source": [
    "altura_dict.clear()\n",
    "altura_dict"
   ]
  },
  {
   "cell_type": "markdown",
   "id": "e24537f4-2309-44d8-96fa-1a2878d25165",
   "metadata": {},
   "source": [
    "### Exemplo \n",
    "- Dicionário com chave e valor com nomes iguais "
   ]
  },
  {
   "cell_type": "code",
   "execution_count": 50,
   "id": "3c85231c-ac46-4255-a46c-4fab19e19bd2",
   "metadata": {},
   "outputs": [],
   "source": [
    "teste = {\n",
    "    \"Nome\":'Aluno',\n",
    "    'Aluno': \"Nome\"\n",
    "}"
   ]
  },
  {
   "cell_type": "code",
   "execution_count": 51,
   "id": "572dba66-a3a5-42ff-bae4-c1709a391167",
   "metadata": {},
   "outputs": [
    {
     "data": {
      "text/plain": [
       "{'Nome': 'Aluno', 'Aluno': 'Nome'}"
      ]
     },
     "execution_count": 51,
     "metadata": {},
     "output_type": "execute_result"
    }
   ],
   "source": [
    "teste"
   ]
  },
  {
   "cell_type": "code",
   "execution_count": 52,
   "id": "d77ec459-54c9-44b6-8564-56a60cec1fe6",
   "metadata": {},
   "outputs": [
    {
     "data": {
      "text/plain": [
       "'Aluno'"
      ]
     },
     "execution_count": 52,
     "metadata": {},
     "output_type": "execute_result"
    }
   ],
   "source": [
    "teste['Nome']"
   ]
  },
  {
   "cell_type": "code",
   "execution_count": 53,
   "id": "bc79612e-49aa-469f-bb5f-f680a3a59c04",
   "metadata": {},
   "outputs": [
    {
     "data": {
      "text/plain": [
       "'Nome'"
      ]
     },
     "execution_count": 53,
     "metadata": {},
     "output_type": "execute_result"
    }
   ],
   "source": [
    "teste['Aluno']"
   ]
  },
  {
   "cell_type": "markdown",
   "id": "9df4cb81-9db2-4698-a578-0fea9ac1a5c1",
   "metadata": {},
   "source": [
    "- Dicionário de lista "
   ]
  },
  {
   "cell_type": "code",
   "execution_count": 55,
   "id": "791e40e6-3f66-4328-aab6-6f0bc4cdcef9",
   "metadata": {},
   "outputs": [],
   "source": [
    "lista_dict = {\n",
    "    'Notas': [7,8,2]\n",
    "}"
   ]
  },
  {
   "cell_type": "code",
   "execution_count": 56,
   "id": "94ac33c2-6b74-4a22-88c6-8d1f149f3654",
   "metadata": {},
   "outputs": [
    {
     "data": {
      "text/plain": [
       "{'Notas': [7, 8, 2]}"
      ]
     },
     "execution_count": 56,
     "metadata": {},
     "output_type": "execute_result"
    }
   ],
   "source": [
    "lista_dict"
   ]
  },
  {
   "cell_type": "code",
   "execution_count": 57,
   "id": "85223a0b-13a3-4566-80cc-c3e521dd85b9",
   "metadata": {},
   "outputs": [
    {
     "data": {
      "text/plain": [
       "[7, 8, 2]"
      ]
     },
     "execution_count": 57,
     "metadata": {},
     "output_type": "execute_result"
    }
   ],
   "source": [
    "lista_dict['Notas']"
   ]
  },
  {
   "cell_type": "markdown",
   "id": "ad0f5a97-8fff-4cf5-9fc9-fbb4045aeef2",
   "metadata": {},
   "source": [
    "- Exemplo com input "
   ]
  },
  {
   "cell_type": "code",
   "execution_count": 76,
   "id": "e5434fa4-8e27-464b-a522-bd34f2eb5b71",
   "metadata": {},
   "outputs": [
    {
     "name": "stdin",
     "output_type": "stream",
     "text": [
      "Qual a nota?  7\n"
     ]
    }
   ],
   "source": [
    "nota = int(input('Qual a nota? '))\n",
    "\n",
    "lista_dict['Notas'].append(nota)"
   ]
  },
  {
   "cell_type": "code",
   "execution_count": 59,
   "id": "522b0da4-a4f0-4159-aafa-066a67a0cec1",
   "metadata": {},
   "outputs": [
    {
     "data": {
      "text/plain": [
       "{'Notas': [7, 8, 2, 0]}"
      ]
     },
     "execution_count": 59,
     "metadata": {},
     "output_type": "execute_result"
    }
   ],
   "source": [
    "lista_dict"
   ]
  },
  {
   "cell_type": "code",
   "execution_count": 62,
   "id": "fb13ebfa-9592-4fdf-b427-779180e1552f",
   "metadata": {},
   "outputs": [
    {
     "name": "stdin",
     "output_type": "stream",
     "text": [
      "Qual o nome?  Katia\n",
      "Qual a nota?  10\n"
     ]
    }
   ],
   "source": [
    "nome = input('Qual o nome? ')\n",
    "nota = int(input('Qual a nota? '))\n",
    "\n",
    "\n",
    "lista_dict.update({'Nome': nome, 'Nota':nota})"
   ]
  },
  {
   "cell_type": "code",
   "execution_count": 63,
   "id": "86eaa93a-0b9a-4f12-a6c7-cd104556aaef",
   "metadata": {},
   "outputs": [
    {
     "data": {
      "text/plain": [
       "{'Notas': [7, 8, 2, 0], 'Nome': 'Katia', 'Nota': 10}"
      ]
     },
     "execution_count": 63,
     "metadata": {},
     "output_type": "execute_result"
    }
   ],
   "source": [
    "lista_dict"
   ]
  },
  {
   "cell_type": "code",
   "execution_count": 64,
   "id": "f9418354-005a-4194-997c-84d19c7daf44",
   "metadata": {},
   "outputs": [
    {
     "data": {
      "text/plain": [
       "'Katia'"
      ]
     },
     "execution_count": 64,
     "metadata": {},
     "output_type": "execute_result"
    }
   ],
   "source": [
    "lista_dict['Nome']"
   ]
  },
  {
   "cell_type": "markdown",
   "id": "562828a8-4325-4d0b-82e7-751be403ef01",
   "metadata": {},
   "source": [
    "- Dicionários aninhados "
   ]
  },
  {
   "cell_type": "code",
   "execution_count": 65,
   "id": "4e9325c9-2180-4351-b3ed-b50f75501747",
   "metadata": {},
   "outputs": [],
   "source": [
    "pais_dict = {\n",
    "    'Debora': {'Pai': 'Pedro', 'Mãe': 'Paula'}, \n",
    "    'Leandro': 1.62,\n",
    "    'João': 1.82\n",
    "}"
   ]
  },
  {
   "cell_type": "code",
   "execution_count": 66,
   "id": "1dfa2f6e-0eed-428b-9833-7a67ba1be31f",
   "metadata": {},
   "outputs": [
    {
     "data": {
      "text/plain": [
       "'Paula'"
      ]
     },
     "execution_count": 66,
     "metadata": {},
     "output_type": "execute_result"
    }
   ],
   "source": [
    "pais_dict['Debora']['Mãe']"
   ]
  },
  {
   "cell_type": "markdown",
   "id": "f0219a52-d4ad-4d88-83e9-b3a43fee02aa",
   "metadata": {},
   "source": [
    "### Dicionário como parâmetro \n",
    "- Usando dicionário para passar parâmetros de uma função"
   ]
  },
  {
   "cell_type": "code",
   "execution_count": 77,
   "id": "f63f8982-5821-4fdf-947c-b3249f257d4a",
   "metadata": {},
   "outputs": [
    {
     "name": "stdout",
     "output_type": "stream",
     "text": [
      "Help on built-in function print in module builtins:\n",
      "\n",
      "print(*args, sep=' ', end='\\n', file=None, flush=False)\n",
      "    Prints the values to a stream, or to sys.stdout by default.\n",
      "    \n",
      "    sep\n",
      "      string inserted between values, default a space.\n",
      "    end\n",
      "      string appended after the last value, default a newline.\n",
      "    file\n",
      "      a file-like object (stream); defaults to the current sys.stdout.\n",
      "    flush\n",
      "      whether to forcibly flush the stream.\n",
      "\n"
     ]
    }
   ],
   "source": [
    "#usando help para verificar os parâmetros \n",
    "help(print)"
   ]
  },
  {
   "cell_type": "code",
   "execution_count": 68,
   "id": "7bdd574d-28a9-4122-8326-d670e70b63b3",
   "metadata": {},
   "outputs": [
    {
     "name": "stdout",
     "output_type": "stream",
     "text": [
      "Bola\n",
      "Bicicleta\n"
     ]
    }
   ],
   "source": [
    "print('Bola', 'Bicicleta', sep='\\n')"
   ]
  },
  {
   "cell_type": "code",
   "execution_count": 69,
   "id": "66b7aaf1-d194-4caa-a613-9dce5c7d8a00",
   "metadata": {},
   "outputs": [
    {
     "name": "stdout",
     "output_type": "stream",
     "text": [
      "Bola\tBicicleta\n"
     ]
    }
   ],
   "source": [
    "print('Bola', 'Bicicleta', sep='\\t')"
   ]
  },
  {
   "cell_type": "code",
   "execution_count": 70,
   "id": "30e1954f-1561-4382-bba1-8d4d92fe1327",
   "metadata": {},
   "outputs": [
    {
     "name": "stdout",
     "output_type": "stream",
     "text": [
      "BolaxxxxxxxxxxBicicleta\n"
     ]
    }
   ],
   "source": [
    "print('Bola', 'Bicicleta', sep='xxxxxxxxxx')"
   ]
  },
  {
   "cell_type": "code",
   "execution_count": 78,
   "id": "1d32e56c-f946-4a1e-854e-ab046b33b1d9",
   "metadata": {},
   "outputs": [],
   "source": [
    "# Dicionário de parâmetros \n",
    "args = {\n",
    "    'end': '.',\n",
    "    'sep': ', '\n",
    "}"
   ]
  },
  {
   "cell_type": "code",
   "execution_count": 72,
   "id": "1fbc122c-3d00-41ce-8e18-0756100233f5",
   "metadata": {},
   "outputs": [
    {
     "name": "stdout",
     "output_type": "stream",
     "text": [
      "Jéssica Felipe Erick\n"
     ]
    }
   ],
   "source": [
    "print('Jéssica', 'Felipe', 'Erick')"
   ]
  },
  {
   "cell_type": "code",
   "execution_count": 75,
   "id": "55049ccf-b583-4168-a08d-1a0a0dad356d",
   "metadata": {},
   "outputs": [
    {
     "name": "stdout",
     "output_type": "stream",
     "text": [
      "Jéssica, Felipe, Erick."
     ]
    }
   ],
   "source": [
    "print('Jéssica', 'Felipe', 'Erick', **args)"
   ]
  },
  {
   "cell_type": "code",
   "execution_count": null,
   "id": "059c87dd-71aa-49d5-9098-c05045f4e93f",
   "metadata": {},
   "outputs": [],
   "source": []
  }
 ],
 "metadata": {
  "kernelspec": {
   "display_name": "Python 3 (ipykernel)",
   "language": "python",
   "name": "python3"
  },
  "language_info": {
   "codemirror_mode": {
    "name": "ipython",
    "version": 3
   },
   "file_extension": ".py",
   "mimetype": "text/x-python",
   "name": "python",
   "nbconvert_exporter": "python",
   "pygments_lexer": "ipython3",
   "version": "3.11.7"
  }
 },
 "nbformat": 4,
 "nbformat_minor": 5
}
